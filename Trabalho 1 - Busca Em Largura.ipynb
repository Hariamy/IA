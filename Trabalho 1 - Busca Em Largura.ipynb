{
 "cells": [
  {
   "cell_type": "markdown",
   "metadata": {},
   "source": [
    "# Bibliotecas Usadas"
   ]
  },
  {
   "cell_type": "code",
   "execution_count": 90,
   "metadata": {},
   "outputs": [],
   "source": [
    "import numpy as np\n",
    "import random\n",
    "import copy"
   ]
  },
  {
   "cell_type": "markdown",
   "metadata": {},
   "source": [
    "# O Jogo"
   ]
  },
  {
   "cell_type": "markdown",
   "metadata": {},
   "source": [
    "Abaixo, está a classe elaborada para simular o jogo slide number, necessário para fazer as possibilidades de partida "
   ]
  },
  {
   "cell_type": "code",
   "execution_count": 98,
   "metadata": {},
   "outputs": [],
   "source": [
    "class Jogo:\n",
    "    \n",
    "    \"\"\"\n",
    "    Para o construtor, é necessário informar a dimensão, do tabuleiro quadrado, e uma jogada anterior\n",
    "    que, por default, não existe. O construtor faz um tabuleiro gabarito\n",
    "    \"\"\"\n",
    "    def __init__(self, dimensao, jogada_anterior=None):\n",
    "        \n",
    "        tabuleiro = []\n",
    "        k=1\n",
    "        \n",
    "        #loop tradicional para fazer uma matriz\n",
    "        for i in range(0,dimensao):\n",
    "            tabuleiro.append([])\n",
    "            for j in range(0, dimensao):\n",
    "                tabuleiro[i].append(k)\n",
    "                k+=1\n",
    "        \n",
    "        #Espaço vazio do jogo                        \n",
    "        tabuleiro[-1][-1] = None\n",
    "        \n",
    "        #posição do vazio\n",
    "        self.vazio = (dimensao-1, dimensao-1)\n",
    "        \n",
    "        #tabuleiro\n",
    "        self.tabuleiro = tabuleiro\n",
    "        \n",
    "        #dimensão do tabuleiro\n",
    "        self.dimensao = dimensao\n",
    "        \n",
    "        #jogada anterior que gerou o tabuleiro atual\n",
    "        self.jogada_anterior = jogada_anterior\n",
    "    \n",
    "    \"\"\"\n",
    "    Função para copiar um tabuleiro e mudar sua referencia\n",
    "    \"\"\"\n",
    "    def copy(self):\n",
    "        return copy.deepcopy(self)\n",
    "    \n",
    "    \"\"\"\n",
    "    Função que simula uma jogada legal. Retorna outro tabuleiro com a jogada\n",
    "    \"\"\"\n",
    "    def jogada(self, pos):\n",
    "        \n",
    "        #presenvando o tabuleiro atual\n",
    "        novo = self.copy()\n",
    "        \n",
    "        #pegando os vizinhos do vazio\n",
    "        vizinhos = novo.getVizinhos()\n",
    "        \n",
    "        #se a jogada for um vizinho, a pos é valida!\n",
    "        if pos in vizinhos:\n",
    "            \n",
    "            novo.tabuleiro[self.vazio[0]][self.vazio[1]] = novo.tabuleiro[pos[0]][pos[1]]\n",
    "            \n",
    "            novo.tabuleiro[pos[0]][pos[1]] = None\n",
    "            \n",
    "            novo.vazio = pos\n",
    "            \n",
    "            novo.jogada_anterior = pos\n",
    "            \n",
    "        return novo\n",
    "    \n",
    "    \"\"\"\n",
    "    Função que retorna as posições de jogadas valídas\n",
    "    \"\"\"\n",
    "    def getVizinhos(self):\n",
    "        \n",
    "        #vendo os vizinhos do vazio\n",
    "        pos = self.vazio\n",
    "        possibilidades = [\n",
    "            (pos[0]-1, pos[1]),\n",
    "            (pos[0]+1, pos[1]),\n",
    "            (pos[0], pos[1]+1),\n",
    "            (pos[0], pos[1]-1)\n",
    "        ]\n",
    "        \n",
    "        #tirando os que são ilegais\n",
    "        possibilidades = filter(lambda x: (x[0] >= 0 and x[0] < self.dimensao) and \n",
    "               (x[1] >= 0 and x[1] < self.dimensao), possibilidades)\n",
    "        \n",
    "        return list(possibilidades)\n",
    "    \n",
    "    \"\"\"\n",
    "    Função que cria um tabuleiro randomico partindo de um gabarito\n",
    "    \"\"\"    \n",
    "    def embaralha(self, vezes):\n",
    "        \n",
    "        #presenvando o tabuleiro atual\n",
    "        proximo = self.copy()\n",
    "        \n",
    "        #fazundo multiplas jogadas aleatorias\n",
    "        for i in range(0,vezes):\n",
    "            x = proximo.getVizinhos()\n",
    "            \n",
    "            pos = random.choice(x)\n",
    "            \n",
    "            proximo = proximo.jogada(pos)\n",
    "            \n",
    "        \n",
    "        return proximo\n",
    "    \n",
    "    \"\"\"\n",
    "    Função para verificar igualdade entre tabuleiros\n",
    "    \"\"\"\n",
    "    def __eq__(self, outro):\n",
    "        return (self.vazio == outro.vazio and self.tabuleiro == outro.tabuleiro)\n",
    "    \n",
    "    \"\"\"\n",
    "    Sobreescrita do print usando numpy\n",
    "    \"\"\"\n",
    "    def __str__(self):\n",
    "        return str(np.array(self.tabuleiro))\n",
    "    "
   ]
  },
  {
   "cell_type": "markdown",
   "metadata": {},
   "source": [
    "# O nó da árvore"
   ]
  },
  {
   "cell_type": "markdown",
   "metadata": {},
   "source": [
    "Para montar a arvore, é necessário utilizar uma estrutura de nós com n filhos e 1 pai"
   ]
  },
  {
   "cell_type": "code",
   "execution_count": 99,
   "metadata": {},
   "outputs": [],
   "source": [
    "class No:\n",
    "    \n",
    "    \"\"\"\n",
    "    Para construir o nó, é necessário passar seu conteúdo e seu pai que, por default, é None\n",
    "    \"\"\"\n",
    "    def __init__(self, conteudo,pai = None):\n",
    "        \n",
    "        #pai do nó\n",
    "        self.pai = pai\n",
    "        \n",
    "        #conteudo do nó\n",
    "        self.conteudo = conteudo\n",
    "        \n",
    "        #lista de filhos\n",
    "        self.filhos = list()\n",
    "    \n",
    "    \"\"\"\n",
    "    Funçaõ para adicionar filhos ao nó, deve-se passar apenas o conteudo do filho\n",
    "    \"\"\"\n",
    "    def add(self, conteudo):    \n",
    "        filho = No(conteudo, pai = self)\n",
    "        self.filhos.append(filho)\n",
    "        \n",
    "    \"\"\"\n",
    "    dois nós são iguais se se o conteúdo for o mesmo\n",
    "    \"\"\"\n",
    "    def __eq__(self, outro):\n",
    "        \n",
    "        return (self.conteudo == outro.conteudo)"
   ]
  },
  {
   "cell_type": "markdown",
   "metadata": {},
   "source": [
    "# Funções auxiliares"
   ]
  },
  {
   "cell_type": "markdown",
   "metadata": {},
   "source": [
    "Para fazer o busca em largura de forma dinamica, foi necessário elaborar funções de verificação e manuntenção de arvore"
   ]
  },
  {
   "cell_type": "code",
   "execution_count": 108,
   "metadata": {},
   "outputs": [],
   "source": [
    "\"\"\"\n",
    "Função para verificar se, dado um nó, ele ja apareceu em sua linhagem\n",
    "\"\"\"\n",
    "def Correspondencia(no):\n",
    "    if not no.pai:\n",
    "        return False\n",
    "    \n",
    "    proximo = no.pai\n",
    "    \n",
    "    while proximo:\n",
    "        \n",
    "        if proximo == no:\n",
    "            return True\n",
    "        else:\n",
    "            proximo = proximo.pai\n",
    "    return False"
   ]
  },
  {
   "cell_type": "code",
   "execution_count": 109,
   "metadata": {},
   "outputs": [],
   "source": [
    "\"\"\"\n",
    "Função para, dado um nó, gerar seus filhos de jogadas lícitas\n",
    "\"\"\"\n",
    "def CriarFilhos(no):\n",
    "    t = no.conteudo\n",
    "    \n",
    "    pos = t.getVizinhos()\n",
    "    \n",
    "    filhos = []\n",
    "\n",
    "    for coord in pos:\n",
    "        \n",
    "        j = t.jogada(coord)\n",
    "        \n",
    "        if not Correspondencia(No(j,pai = no)): filhos.append(No(j,pai = no))\n",
    "    \n",
    "    return filhos"
   ]
  },
  {
   "cell_type": "markdown",
   "metadata": {},
   "source": [
    "# A Busca Em Largura Dinâmica"
   ]
  },
  {
   "cell_type": "markdown",
   "metadata": {},
   "source": [
    "Finalmente, o algoritmo de busca. Ele gera uma arvore de possibilidades até achar uma resposta"
   ]
  },
  {
   "cell_type": "code",
   "execution_count": 110,
   "metadata": {},
   "outputs": [],
   "source": [
    "\"\"\"\n",
    "Algoritmo para achar o caminho de jogadas do jogo passado como parametro\n",
    "\"\"\"\n",
    "def BuscaEmLargura(problema, solucao):\n",
    "    \n",
    "    #se o seu problema é igual a solução...\n",
    "    if problema == solucao:\n",
    "        return problema\n",
    "    \n",
    "    #Gerarndo as primeiras possibilidades\n",
    "    proximos = CriarFilhos(problema)\n",
    "    \n",
    "    #enquanto tiver possibilidades\n",
    "    while len(proximos) != 0:\n",
    "        \n",
    "        filho = proximos.pop(0)\n",
    "        \n",
    "        #achei a solucao!\n",
    "        if filho == solucao:\n",
    "            return filho\n",
    "        \n",
    "        for x in CriarFilhos(filho): proximos.append(x)\n",
    "    \n",
    "    return None        "
   ]
  },
  {
   "cell_type": "code",
   "execution_count": 170,
   "metadata": {},
   "outputs": [],
   "source": [
    "\"\"\"\n",
    "Algoritmo para achar o conjunto de jogadas que originaram o nó\n",
    "\"\"\"\n",
    "def coletarJogadas(no):\n",
    "    jogadas = []\n",
    "    proximo = no\n",
    "    while proximo.pai:\n",
    "        jogadas.append(proximo.conteudo.jogada_anterior)\n",
    "        proximo = proximo.pai\n",
    "    return jogadas[::-1]        "
   ]
  },
  {
   "cell_type": "markdown",
   "metadata": {},
   "source": [
    "# Demonstração"
   ]
  },
  {
   "cell_type": "code",
   "execution_count": 152,
   "metadata": {},
   "outputs": [
    {
     "name": "stdout",
     "output_type": "stream",
     "text": [
      "[[1 2 3]\n",
      " [4 5 6]\n",
      " [7 8 None]]\n"
     ]
    }
   ],
   "source": [
    "gabarito = Jogo(3)\n",
    "print(gabarito)"
   ]
  },
  {
   "cell_type": "code",
   "execution_count": 153,
   "metadata": {},
   "outputs": [
    {
     "name": "stdout",
     "output_type": "stream",
     "text": [
      "[[7 1 5]\n",
      " [6 8 4]\n",
      " [None 3 2]]\n"
     ]
    }
   ],
   "source": [
    "problema = gabarito.embaralha(1000)\n",
    "print(problema)"
   ]
  },
  {
   "cell_type": "code",
   "execution_count": 154,
   "metadata": {},
   "outputs": [],
   "source": [
    "inicio = No(problema)\n",
    "fim = No(gabarito)"
   ]
  },
  {
   "cell_type": "code",
   "execution_count": 161,
   "metadata": {},
   "outputs": [],
   "source": [
    "resultado = BuscaEmLargura(inicio, fim) "
   ]
  },
  {
   "cell_type": "code",
   "execution_count": 162,
   "metadata": {},
   "outputs": [
    {
     "name": "stdout",
     "output_type": "stream",
     "text": [
      "[[1 2 3]\n",
      " [4 5 6]\n",
      " [7 8 None]]\n"
     ]
    }
   ],
   "source": [
    "print(resultado.conteudo)"
   ]
  },
  {
   "cell_type": "code",
   "execution_count": 171,
   "metadata": {},
   "outputs": [
    {
     "name": "stdout",
     "output_type": "stream",
     "text": [
      "[(1, 0), (0, 0), (0, 1), (1, 1), (1, 2), (2, 2), (2, 1), (2, 0), (1, 0), (1, 1), (0, 1), (0, 2), (1, 2), (2, 2), (2, 1), (1, 1), (0, 1), (0, 2), (1, 2), (2, 2)]\n"
     ]
    }
   ],
   "source": [
    "jogadas = coletarJogadas(resultado)\n",
    "print(jogadas)"
   ]
  }
 ],
 "metadata": {
  "kernelspec": {
   "display_name": "Python 3",
   "language": "python",
   "name": "python3"
  },
  "language_info": {
   "codemirror_mode": {
    "name": "ipython",
    "version": 3
   },
   "file_extension": ".py",
   "mimetype": "text/x-python",
   "name": "python",
   "nbconvert_exporter": "python",
   "pygments_lexer": "ipython3",
   "version": "3.7.2"
  }
 },
 "nbformat": 4,
 "nbformat_minor": 2
}
