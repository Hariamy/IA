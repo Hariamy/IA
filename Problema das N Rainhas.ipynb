{
 "cells": [
  {
   "cell_type": "markdown",
   "metadata": {},
   "source": [
    "# Bibliotecas Usadas"
   ]
  },
  {
   "cell_type": "code",
   "execution_count": 1,
   "metadata": {},
   "outputs": [],
   "source": [
    "import random\n",
    "import copy\n",
    "import math\n",
    "import numpy as np\n",
    "from numpy.random import choice\n",
    "from threading import Thread\n",
    "\n",
    "from tqdm import tqdm_notebook as tqdm"
   ]
  },
  {
   "cell_type": "markdown",
   "metadata": {},
   "source": [
    "<h1 style=\"color:#fff;background-color:#000;padding:30px;margin:0;border:0;text-align:center\">JOGO</h1>"
   ]
  },
  {
   "cell_type": "markdown",
   "metadata": {},
   "source": [
    "Uma classe para simular um jogo de xadrez apenas com rainhas"
   ]
  },
  {
   "cell_type": "code",
   "execution_count": 2,
   "metadata": {},
   "outputs": [],
   "source": [
    "\n",
    "class Jogo:\n",
    "    \n",
    "    \"\"\"\n",
    "    Construtor da classe\n",
    "    \n",
    "    @param dimensao_tabuleiro: inteiro positivo para dimensao do tabuleiro quadrado\n",
    "    \"\"\"\n",
    "    def __init__(self, dimensao_tabuleiro):\n",
    "                \n",
    "        #guardando a dimensao\n",
    "        self._dimensao = dimensao_tabuleiro\n",
    "        \n",
    "        #inicializando o dicionario de pecas\n",
    "        self._pos_damas = dict()\n",
    "    \n",
    "    \n",
    "    \"\"\"\n",
    "    Metodo get da dimensao, disparado quando \"self.dimensao\" eh executado\n",
    "    \n",
    "    @return dimensao: a dimensao do tabuleiro quadrado\n",
    "    \"\"\"\n",
    "    @property\n",
    "    def dimensao(self): return self._dimensao\n",
    "\n",
    "    \"\"\"\n",
    "    Metodo set da dimensao, disparado quando \"self.dimensao = value\" eh executado\n",
    "    por medidas de consistencia, as pecas tem suas posicoes anuladas, porem as quantidades sao as mesmas\n",
    "    \n",
    "    @param value: devera ser um inteiro positivo\n",
    "    \"\"\"\n",
    "    @dimensao.setter\n",
    "    def dimensao(self, value):\n",
    "         \n",
    "        #verificacao de consistencia da entrada\n",
    "        if isinstance(value, int) and value >= 0: \n",
    "            self._dimensao = value\n",
    "            \n",
    "            #zerando os valores das pecas\n",
    "            for chave in self._pos_damas: self._pos_damas[chave] = None\n",
    "            \n",
    "        else: print(\"tipo {} nao aceito\".format(type(value)))\n",
    "    \n",
    "    \"\"\"\n",
    "    Metodo get do pos_damas, disparado quando \"self.pos_damas\" eh executado\n",
    "    \n",
    "    @return pos_damas: o dicionario contendo todas as pecas e suas posicoes\n",
    "    \"\"\"\n",
    "    @property\n",
    "    def pos_damas(self): return self._pos_damas.copy()\n",
    "\n",
    "    \"\"\"\n",
    "    Metodo set do pos_damas, disparado quando \"self.pos_damas = value\" eh executado\n",
    "    \n",
    "    @param value: devera ser um dicionario do tipo: chave --> tuple(x, y) tal que\n",
    "    tanto x quanto y sejam inteiros dentro do intervalo [0, self.dimensao[\n",
    "    \"\"\"\n",
    "    @pos_damas.setter\n",
    "    def pos_damas(self, value):\n",
    "        \n",
    "        #verificacao de consistencia da entrada\n",
    "        check = (isinstance(value, dict) and \n",
    "                 all(isinstance(e, tuple)\n",
    "                     and len(e) == 2\n",
    "                     and all(isinstance(i,int) and\n",
    "                             i>=0 and i<self.dimensao\n",
    "                             for i in e)\n",
    "                     for e in value.values()))\n",
    "        \n",
    "        #registrando entrada\n",
    "        if check: self._pos_damas = value\n",
    "        \n",
    "        else: print(\"{} nao aceito como pos_damas\".format(value))\n",
    "    \n",
    "    \"\"\"\n",
    "    Metodo get para uma peca do tabuleiro, disparado quando \"self[idx]\" for executado\n",
    "    \n",
    "    @return pos_damas[idx]: um tuple(int, int) se a chave existir, None c.c.\n",
    "    \"\"\"\n",
    "    def __getitem__(self, idx): return self._pos_damas.get(idx)\n",
    "\n",
    "    \"\"\"\n",
    "    Metodo set para uma nova peca do tabuleiro ou atualizacao de existente,\n",
    "    disparado quando \"self[idx] = value\" for executado\n",
    "    \n",
    "    @param idx: novo/existente peca que sera manipulada\n",
    "    \n",
    "    @param value: novo valor que sera inserido, devera ser um tuple(x, y) tal que\n",
    "    tanto x quanto y sejam inteiros dentro do intervalo [0, self.dimensao[\n",
    "    \"\"\"\n",
    "    def __setitem__(self, idx, value):\n",
    "        \n",
    "        #verificacao de consistencia\n",
    "        check = (isinstance(value, tuple)\n",
    "                 and len(value) == 2 and \n",
    "                 all(isinstance(i,int) and\n",
    "                     i>=0 and\n",
    "                     i<self.dimensao for i in value)) \n",
    "        \n",
    "        #registrando entrada\n",
    "        if check:\n",
    "            self._pos_damas[idx] = value\n",
    "        else: print(\"{} nao aceito como valor\".format(value))\n",
    "            \n",
    "    \"\"\"\n",
    "    Metodo para descobrir as jogadas obvias (horizontais e verticais)\n",
    "    \n",
    "    @param idx: peca que sera movimentada\n",
    "    \n",
    "    @return jogadas: lista de posicoes validas para uma jogada\n",
    "    \"\"\"\n",
    "    def getJogadasObvias(self, idx):\n",
    "        #obtendo a posicao da peca que sera movimentada\n",
    "        ponto = self[idx]\n",
    "        \n",
    "        #se nao existir, vida que segue\n",
    "        if not ponto:\n",
    "            print(\"peca {} nao inicializada\".format(idx))\n",
    "            return None\n",
    "        \n",
    "        #varrendo posicoes nos sentidos\n",
    "        cima = [(ponto[0], i) for i in range(ponto[1]+1, self.dimensao)]\n",
    "        \n",
    "        baixo = [(ponto[0], i) for i in range(ponto[1]-1, -1, -1)]\n",
    "        \n",
    "        direita = [(i, ponto[1]) for i in range(ponto[0]+1, self.dimensao)]\n",
    "        \n",
    "        esquerda = [(i, ponto[1]) for i in range(ponto[0]-1, -1, -1)]\n",
    "        \n",
    "        #concatenando tudo\n",
    "        return [*cima,\n",
    "               *baixo,\n",
    "               *direita,\n",
    "               *esquerda]\n",
    "    \n",
    "    \"\"\"\n",
    "    Metodo para descobrir as jogadas diagonais \n",
    "    \n",
    "    @param idx: peca que sera movimentada\n",
    "    \n",
    "    @return jogadas: lista de posicoes validas para uma jogada\n",
    "    \"\"\"\n",
    "    def getJogadasDiagonais(self, idx):\n",
    "        \n",
    "        #obtendo a posicao da peca que sera movimentada\n",
    "        ponto = self[idx]\n",
    "        \n",
    "        #se nao existir, vida que segue\n",
    "        if not ponto:\n",
    "            print(\"peca {} nao inicializada\".format(idx))\n",
    "            return None\n",
    "\n",
    "        #varrendo posicoes nos sentidos\n",
    "        cima_direita = [(ponto[0]+i, ponto[1]+i) for i in range(1, self.dimensao) if ponto[0]+i < self.dimensao and ponto[1]+i < self.dimensao]\n",
    "        \n",
    "        baixo_direita = [(ponto[0]+i, ponto[1]-i) for i in range(1, self.dimensao) if ponto[0]+i < self.dimensao and ponto[1]-i >=0 ]\n",
    "        \n",
    "        baixo_esquerda = [(ponto[0]-i, ponto[1]-i) for i in range(1, self.dimensao) if ponto[0]-i >= 0 and ponto[1]-i >= 0]\n",
    "        \n",
    "        cima_esquerda = [(ponto[0]-i, ponto[1]+i) for i in range(1, self.dimensao) if ponto[0]-i >= 0 and ponto[1]+i < self.dimensao]\n",
    "        \n",
    "        #concatenando tudo\n",
    "        return [*cima_direita,\n",
    "               *baixo_direita,\n",
    "               *baixo_esquerda,\n",
    "               *cima_esquerda]\n",
    "    \n",
    "    \"\"\"\n",
    "    Metodo para descobrir todas as jogadas possiveis \n",
    "    \n",
    "    @param idx: peca que sera movimentada\n",
    "    \n",
    "    @return jogadas: lista de posicoes validas para uma jogada\n",
    "    \"\"\"\n",
    "    def getTodasJogadas(self, idx):\n",
    "        \n",
    "        #obtendo a peca que sera movimentada\n",
    "        ponto = self[idx]\n",
    "        \n",
    "        #se nao tiver ponto, vida que segue\n",
    "        if not ponto:\n",
    "            print(\"peca {} nao inicializada\".format(idx))\n",
    "            return None\n",
    "\n",
    "        #coletando e concatenando as jogadas\n",
    "        return [*self.getJogadasDiagonais(idx), *self.getJogadasObvias(idx)]\n",
    "        \n",
    "    def getEspacosLetais(self):\n",
    "        \n",
    "        casas_letais = set()\n",
    "        for peca in self.pos_damas:\n",
    "            casas_letais = casas_letais.union(self.getTodasJogadas(peca))\n",
    "        return list(casas_letais)\n",
    "        \n",
    "    def getEspacosLivres(self):\n",
    "        \n",
    "        tabuleiro = set( (x,y) for x in range(0,self.dimensao) for y in range(0,self.dimensao) )\n",
    "        \n",
    "        casas_letais = set(self.pos_damas.values())\n",
    "        #casas_letais = set()\n",
    "        \n",
    "        for peca in self.pos_damas:\n",
    "            \n",
    "            casas_letais = casas_letais.union(self.getTodasJogadas(peca))\n",
    "        \n",
    "        return list(tabuleiro - casas_letais)\n",
    "    \n",
    "    def aux_print(self, index):\n",
    "        string = \"\"\n",
    "        inicio = \"├\"\n",
    "        meio = \"┼\"\n",
    "        fim = \"┤\"\n",
    "        if index == 0:\n",
    "            inicio = '┌'\n",
    "            meio = '┬'\n",
    "            fim = '┐'\n",
    "        if index == self.dimensao:\n",
    "            inicio = '└'\n",
    "            meio = '┴'\n",
    "            fim = '┘'\n",
    "        \n",
    "        for i in range(self.dimensao):\n",
    "            if i == 0:\n",
    "                string += inicio + '───'\n",
    "            elif i == self.dimensao-1:\n",
    "                string += meio + '───' + fim\n",
    "            else:\n",
    "                string += meio + '───'\n",
    "        return string + '\\n'\n",
    "                \n",
    "    \n",
    "    def __str__(self):\n",
    "        '''\n",
    "        ┌───┬───┬───┐\n",
    "        │   │   │   │\n",
    "        ├───┼───┼───┤\n",
    "        │   │   │   │\n",
    "        ├───┼───┼───┤\n",
    "        │   │   │ ♛ │\n",
    "        └───┴───┴───┘\n",
    "        '''\n",
    "        string = \"\\n\"\n",
    "\n",
    "        if self.dimensao <= 28:            \n",
    "            pos = self.pos_damas.values()\n",
    "            for i in range(self.dimensao):\n",
    "                string += self.aux_print(i)\n",
    "                string += '│'\n",
    "                for j in range(self.dimensao):\n",
    "                    if (i, j) in pos:\n",
    "                        string += \" ♛ │\"\n",
    "                    else: \n",
    "                        string += \"   │\"\n",
    "\n",
    "                string += \"\\n\"\n",
    "\n",
    "            string += self.aux_print(i+1)\n",
    "        else:\n",
    "            pos = self.pos_damas.values()\n",
    "            for i in range(self.dimensao):\n",
    "                for j in range(self.dimensao):\n",
    "                    if (i, j) in pos:\n",
    "                        string += \"♛ \"\n",
    "                    else: \n",
    "                        string += \"□ \"\n",
    "                string += \"\\n\"\n",
    "        return string\n",
    "\n",
    "        "
   ]
  },
  {
   "cell_type": "markdown",
   "metadata": {},
   "source": [
    "<h1 style=\"color:#fff;background-color:#000;padding:30px;margin:0;border:0;text-align:center\">SIMULATED AN...</h1>"
   ]
  },
  {
   "cell_type": "code",
   "execution_count": 3,
   "metadata": {},
   "outputs": [],
   "source": [
    "def tabuleiroInincial(dimensao):\n",
    "    jogo = Jogo(dimensao)\n",
    "    jogo.pos_damas = {i: (i,i) for i in range(0, jogo.dimensao)}\n",
    "    return jogo"
   ]
  },
  {
   "cell_type": "code",
   "execution_count": 4,
   "metadata": {},
   "outputs": [],
   "source": [
    "def heuristicaOtimizada(jogo):\n",
    "    \n",
    "    #peso do tabuleiro\n",
    "    peso = 0\n",
    "\n",
    "    #conjunto de pecas nao verificadas\n",
    "    partes_ocupadas = list(jogo.pos_damas.values())\n",
    "    \n",
    "    partes_letais = jogo.getEspacosLetais()\n",
    "    \n",
    "    casas_mortas = filter(lambda x: x in partes_letais, partes_ocupadas)\n",
    "    \n",
    "    return len(list(casas_mortas))"
   ]
  },
  {
   "cell_type": "code",
   "execution_count": 5,
   "metadata": {},
   "outputs": [],
   "source": [
    "def heuristicaPadrao(jogo):\n",
    "    \n",
    "    #peso do tabuleiro\n",
    "    peso = 0\n",
    "\n",
    "    #conjunto de pecas nao verificadas\n",
    "    pecas_nao_verificadas = list(jogo.pos_damas.keys())\n",
    "\n",
    "    #enquanto tiver pecas nao verificadas faca:\n",
    "    for peca in pecas_nao_verificadas:\n",
    "\n",
    "        #tirar uma peca arbitraria\n",
    "        #peca = pecas_nao_verificadas.pop()\n",
    "\n",
    "        #coletar todas as possiveis jogadas dela\n",
    "        casas_letais = jogo.getTodasJogadas(peca)\n",
    "\n",
    "        #para as outras pecas\n",
    "        for chave, valor in jogo.pos_damas.items():\n",
    "\n",
    "            #verificar se elas estao entre as possiveis jogadas\n",
    "            if valor in casas_letais:\n",
    "\n",
    "                #incrementa o peso\n",
    "                peso += 1\n",
    "\n",
    "    return peso"
   ]
  },
  {
   "cell_type": "code",
   "execution_count": 6,
   "metadata": {},
   "outputs": [],
   "source": [
    "def movimentacaoRandomica(jogo):\n",
    "    \n",
    "    novo_jogo = copy.deepcopy(jogo)\n",
    "    \n",
    "    #peca aleatoria\n",
    "    peca = random.choice(list(novo_jogo.pos_damas.keys()))\n",
    "    \n",
    "    pos = novo_jogo[peca]\n",
    "    \n",
    "    #todos os movimentos verticais e horizontais\n",
    "    movimentos = novo_jogo.getJogadasObvias(peca)\n",
    "    movimentos_simples_verticais = list(filter(lambda x: x[0] == pos[0], movimentos))\n",
    "    \n",
    "    escolha = random.choice(movimentos_simples_verticais)\n",
    "    \n",
    "    novo_jogo[peca] = escolha\n",
    "    \n",
    "    #novo_jogo.jogada_anterior = (peca, escolha)\n",
    "    \n",
    "    return novo_jogo"
   ]
  },
  {
   "cell_type": "code",
   "execution_count": 7,
   "metadata": {},
   "outputs": [],
   "source": [
    "def simulatedAnnealing(funcao_peso, funcao_jogada, jogo, MAX = 10000, C=3):\n",
    "    \n",
    "    atual = jogo\n",
    "    \n",
    "    for t in tqdm(range(1, MAX)):\n",
    "    \n",
    "        T = C/math.sqrt(t)\n",
    "        \n",
    "        #if T == 0: return atual\n",
    "        \n",
    "        viz = funcao_jogada(atual)\n",
    "        \n",
    "        #print(viz)\n",
    "        p_atual = funcao_peso(atual)\n",
    "        p_viz = funcao_peso(viz)\n",
    "        \n",
    "        #if T<= 0.0005 or p_viz == 0: return viz\n",
    "        \n",
    "        if p_atual == 0:\n",
    "            return atual\n",
    "        \n",
    "        if p_viz < p_atual:\n",
    "            atual = viz\n",
    "        \n",
    "        else:\n",
    "            probabilidade = math.exp( (p_atual - p_viz)/T )\n",
    "            #print(probabilidade, funcao_peso(atual))\n",
    "            atual = random.choices([viz, atual], weights= [probabilidade, 1-probabilidade])[0]\n",
    "        \n",
    "    return atual"
   ]
  },
  {
   "cell_type": "code",
   "execution_count": 8,
   "metadata": {},
   "outputs": [
    {
     "data": {
      "application/vnd.jupyter.widget-view+json": {
       "model_id": "a0810ddb33144a6c9c661355853592d2",
       "version_major": 2,
       "version_minor": 0
      },
      "text/plain": [
       "HBox(children=(IntProgress(value=0, max=9999), HTML(value='')))"
      ]
     },
     "metadata": {},
     "output_type": "display_data"
    },
    {
     "ename": "KeyboardInterrupt",
     "evalue": "",
     "output_type": "error",
     "traceback": [
      "\u001b[0;31m---------------------------------------------------------------------------\u001b[0m",
      "\u001b[0;31mKeyboardInterrupt\u001b[0m                         Traceback (most recent call last)",
      "\u001b[0;32m<timed exec>\u001b[0m in \u001b[0;36m<module>\u001b[0;34m\u001b[0m\n",
      "\u001b[0;32m<ipython-input-7-c90eb54b0c87>\u001b[0m in \u001b[0;36msimulatedAnnealing\u001b[0;34m(funcao_peso, funcao_jogada, jogo, MAX, C)\u001b[0m\n\u001b[1;32m     13\u001b[0m         \u001b[0;31m#print(viz)\u001b[0m\u001b[0;34m\u001b[0m\u001b[0;34m\u001b[0m\u001b[0;34m\u001b[0m\u001b[0m\n\u001b[1;32m     14\u001b[0m         \u001b[0mp_atual\u001b[0m \u001b[0;34m=\u001b[0m \u001b[0mfuncao_peso\u001b[0m\u001b[0;34m(\u001b[0m\u001b[0matual\u001b[0m\u001b[0;34m)\u001b[0m\u001b[0;34m\u001b[0m\u001b[0;34m\u001b[0m\u001b[0m\n\u001b[0;32m---> 15\u001b[0;31m         \u001b[0mp_viz\u001b[0m \u001b[0;34m=\u001b[0m \u001b[0mfuncao_peso\u001b[0m\u001b[0;34m(\u001b[0m\u001b[0mviz\u001b[0m\u001b[0;34m)\u001b[0m\u001b[0;34m\u001b[0m\u001b[0;34m\u001b[0m\u001b[0m\n\u001b[0m\u001b[1;32m     16\u001b[0m \u001b[0;34m\u001b[0m\u001b[0m\n\u001b[1;32m     17\u001b[0m         \u001b[0;31m#if T<= 0.0005 or p_viz == 0: return viz\u001b[0m\u001b[0;34m\u001b[0m\u001b[0;34m\u001b[0m\u001b[0;34m\u001b[0m\u001b[0m\n",
      "\u001b[0;32m<ipython-input-5-8a2588cf5907>\u001b[0m in \u001b[0;36mheuristicaPadrao\u001b[0;34m(jogo)\u001b[0m\n\u001b[1;32m     14\u001b[0m \u001b[0;34m\u001b[0m\u001b[0m\n\u001b[1;32m     15\u001b[0m         \u001b[0;31m#coletar todas as possiveis jogadas dela\u001b[0m\u001b[0;34m\u001b[0m\u001b[0;34m\u001b[0m\u001b[0;34m\u001b[0m\u001b[0m\n\u001b[0;32m---> 16\u001b[0;31m         \u001b[0mcasas_letais\u001b[0m \u001b[0;34m=\u001b[0m \u001b[0mjogo\u001b[0m\u001b[0;34m.\u001b[0m\u001b[0mgetTodasJogadas\u001b[0m\u001b[0;34m(\u001b[0m\u001b[0mpeca\u001b[0m\u001b[0;34m)\u001b[0m\u001b[0;34m\u001b[0m\u001b[0;34m\u001b[0m\u001b[0m\n\u001b[0m\u001b[1;32m     17\u001b[0m \u001b[0;34m\u001b[0m\u001b[0m\n\u001b[1;32m     18\u001b[0m         \u001b[0;31m#para as outras pecas\u001b[0m\u001b[0;34m\u001b[0m\u001b[0;34m\u001b[0m\u001b[0;34m\u001b[0m\u001b[0m\n",
      "\u001b[0;32m<ipython-input-2-252a74d204b1>\u001b[0m in \u001b[0;36mgetTodasJogadas\u001b[0;34m(self, idx)\u001b[0m\n\u001b[1;32m    183\u001b[0m \u001b[0;34m\u001b[0m\u001b[0m\n\u001b[1;32m    184\u001b[0m         \u001b[0;31m#coletando e concatenando as jogadas\u001b[0m\u001b[0;34m\u001b[0m\u001b[0;34m\u001b[0m\u001b[0;34m\u001b[0m\u001b[0m\n\u001b[0;32m--> 185\u001b[0;31m         \u001b[0;32mreturn\u001b[0m \u001b[0;34m[\u001b[0m\u001b[0;34m*\u001b[0m\u001b[0mself\u001b[0m\u001b[0;34m.\u001b[0m\u001b[0mgetJogadasDiagonais\u001b[0m\u001b[0;34m(\u001b[0m\u001b[0midx\u001b[0m\u001b[0;34m)\u001b[0m\u001b[0;34m,\u001b[0m \u001b[0;34m*\u001b[0m\u001b[0mself\u001b[0m\u001b[0;34m.\u001b[0m\u001b[0mgetJogadasObvias\u001b[0m\u001b[0;34m(\u001b[0m\u001b[0midx\u001b[0m\u001b[0;34m)\u001b[0m\u001b[0;34m]\u001b[0m\u001b[0;34m\u001b[0m\u001b[0;34m\u001b[0m\u001b[0m\n\u001b[0m\u001b[1;32m    186\u001b[0m \u001b[0;34m\u001b[0m\u001b[0m\n\u001b[1;32m    187\u001b[0m     \u001b[0;32mdef\u001b[0m \u001b[0mgetEspacosLetais\u001b[0m\u001b[0;34m(\u001b[0m\u001b[0mself\u001b[0m\u001b[0;34m)\u001b[0m\u001b[0;34m:\u001b[0m\u001b[0;34m\u001b[0m\u001b[0;34m\u001b[0m\u001b[0m\n",
      "\u001b[0;32m<ipython-input-2-252a74d204b1>\u001b[0m in \u001b[0;36mgetJogadasObvias\u001b[0;34m(self, idx)\u001b[0m\n\u001b[1;32m    119\u001b[0m \u001b[0;34m\u001b[0m\u001b[0m\n\u001b[1;32m    120\u001b[0m         \u001b[0;31m#varrendo posicoes nos sentidos\u001b[0m\u001b[0;34m\u001b[0m\u001b[0;34m\u001b[0m\u001b[0;34m\u001b[0m\u001b[0m\n\u001b[0;32m--> 121\u001b[0;31m         \u001b[0mcima\u001b[0m \u001b[0;34m=\u001b[0m \u001b[0;34m[\u001b[0m\u001b[0;34m(\u001b[0m\u001b[0mponto\u001b[0m\u001b[0;34m[\u001b[0m\u001b[0;36m0\u001b[0m\u001b[0;34m]\u001b[0m\u001b[0;34m,\u001b[0m \u001b[0mi\u001b[0m\u001b[0;34m)\u001b[0m \u001b[0;32mfor\u001b[0m \u001b[0mi\u001b[0m \u001b[0;32min\u001b[0m \u001b[0mrange\u001b[0m\u001b[0;34m(\u001b[0m\u001b[0mponto\u001b[0m\u001b[0;34m[\u001b[0m\u001b[0;36m1\u001b[0m\u001b[0;34m]\u001b[0m\u001b[0;34m+\u001b[0m\u001b[0;36m1\u001b[0m\u001b[0;34m,\u001b[0m \u001b[0mself\u001b[0m\u001b[0;34m.\u001b[0m\u001b[0mdimensao\u001b[0m\u001b[0;34m)\u001b[0m\u001b[0;34m]\u001b[0m\u001b[0;34m\u001b[0m\u001b[0;34m\u001b[0m\u001b[0m\n\u001b[0m\u001b[1;32m    122\u001b[0m \u001b[0;34m\u001b[0m\u001b[0m\n\u001b[1;32m    123\u001b[0m         \u001b[0mbaixo\u001b[0m \u001b[0;34m=\u001b[0m \u001b[0;34m[\u001b[0m\u001b[0;34m(\u001b[0m\u001b[0mponto\u001b[0m\u001b[0;34m[\u001b[0m\u001b[0;36m0\u001b[0m\u001b[0;34m]\u001b[0m\u001b[0;34m,\u001b[0m \u001b[0mi\u001b[0m\u001b[0;34m)\u001b[0m \u001b[0;32mfor\u001b[0m \u001b[0mi\u001b[0m \u001b[0;32min\u001b[0m \u001b[0mrange\u001b[0m\u001b[0;34m(\u001b[0m\u001b[0mponto\u001b[0m\u001b[0;34m[\u001b[0m\u001b[0;36m1\u001b[0m\u001b[0;34m]\u001b[0m\u001b[0;34m-\u001b[0m\u001b[0;36m1\u001b[0m\u001b[0;34m,\u001b[0m \u001b[0;34m-\u001b[0m\u001b[0;36m1\u001b[0m\u001b[0;34m,\u001b[0m \u001b[0;34m-\u001b[0m\u001b[0;36m1\u001b[0m\u001b[0;34m)\u001b[0m\u001b[0;34m]\u001b[0m\u001b[0;34m\u001b[0m\u001b[0;34m\u001b[0m\u001b[0m\n",
      "\u001b[0;32m<ipython-input-2-252a74d204b1>\u001b[0m in \u001b[0;36m<listcomp>\u001b[0;34m(.0)\u001b[0m\n\u001b[1;32m    119\u001b[0m \u001b[0;34m\u001b[0m\u001b[0m\n\u001b[1;32m    120\u001b[0m         \u001b[0;31m#varrendo posicoes nos sentidos\u001b[0m\u001b[0;34m\u001b[0m\u001b[0;34m\u001b[0m\u001b[0;34m\u001b[0m\u001b[0m\n\u001b[0;32m--> 121\u001b[0;31m         \u001b[0mcima\u001b[0m \u001b[0;34m=\u001b[0m \u001b[0;34m[\u001b[0m\u001b[0;34m(\u001b[0m\u001b[0mponto\u001b[0m\u001b[0;34m[\u001b[0m\u001b[0;36m0\u001b[0m\u001b[0;34m]\u001b[0m\u001b[0;34m,\u001b[0m \u001b[0mi\u001b[0m\u001b[0;34m)\u001b[0m \u001b[0;32mfor\u001b[0m \u001b[0mi\u001b[0m \u001b[0;32min\u001b[0m \u001b[0mrange\u001b[0m\u001b[0;34m(\u001b[0m\u001b[0mponto\u001b[0m\u001b[0;34m[\u001b[0m\u001b[0;36m1\u001b[0m\u001b[0;34m]\u001b[0m\u001b[0;34m+\u001b[0m\u001b[0;36m1\u001b[0m\u001b[0;34m,\u001b[0m \u001b[0mself\u001b[0m\u001b[0;34m.\u001b[0m\u001b[0mdimensao\u001b[0m\u001b[0;34m)\u001b[0m\u001b[0;34m]\u001b[0m\u001b[0;34m\u001b[0m\u001b[0;34m\u001b[0m\u001b[0m\n\u001b[0m\u001b[1;32m    122\u001b[0m \u001b[0;34m\u001b[0m\u001b[0m\n\u001b[1;32m    123\u001b[0m         \u001b[0mbaixo\u001b[0m \u001b[0;34m=\u001b[0m \u001b[0;34m[\u001b[0m\u001b[0;34m(\u001b[0m\u001b[0mponto\u001b[0m\u001b[0;34m[\u001b[0m\u001b[0;36m0\u001b[0m\u001b[0;34m]\u001b[0m\u001b[0;34m,\u001b[0m \u001b[0mi\u001b[0m\u001b[0;34m)\u001b[0m \u001b[0;32mfor\u001b[0m \u001b[0mi\u001b[0m \u001b[0;32min\u001b[0m \u001b[0mrange\u001b[0m\u001b[0;34m(\u001b[0m\u001b[0mponto\u001b[0m\u001b[0;34m[\u001b[0m\u001b[0;36m1\u001b[0m\u001b[0;34m]\u001b[0m\u001b[0;34m-\u001b[0m\u001b[0;36m1\u001b[0m\u001b[0;34m,\u001b[0m \u001b[0;34m-\u001b[0m\u001b[0;36m1\u001b[0m\u001b[0;34m,\u001b[0m \u001b[0;34m-\u001b[0m\u001b[0;36m1\u001b[0m\u001b[0;34m)\u001b[0m\u001b[0;34m]\u001b[0m\u001b[0;34m\u001b[0m\u001b[0;34m\u001b[0m\u001b[0m\n",
      "\u001b[0;31mKeyboardInterrupt\u001b[0m: "
     ]
    }
   ],
   "source": [
    "%%time\n",
    "teste = simulatedAnnealing(heuristicaPadrao, \n",
    "                           movimentacaoRandomica,\n",
    "                          tabuleiroInincial(40))"
   ]
  },
  {
   "cell_type": "code",
   "execution_count": 123,
   "metadata": {
    "scrolled": true
   },
   "outputs": [
    {
     "data": {
      "application/vnd.jupyter.widget-view+json": {
       "model_id": "15495290ace840ba952451eeaaa1cc18",
       "version_major": 2,
       "version_minor": 0
      },
      "text/plain": [
       "HBox(children=(IntProgress(value=0, max=9999), HTML(value='')))"
      ]
     },
     "metadata": {},
     "output_type": "display_data"
    },
    {
     "name": "stdout",
     "output_type": "stream",
     "text": [
      "CPU times: user 260 ms, sys: 41 µs, total: 260 ms\n",
      "Wall time: 349 ms\n"
     ]
    }
   ],
   "source": [
    "%%time\n",
    "teste = simulatedAnnealing(heuristicaOtimizada, \n",
    "                           movimentacaoRandomica,\n",
    "                          tabuleiroInincial(8))"
   ]
  },
  {
   "cell_type": "code",
   "execution_count": 124,
   "metadata": {},
   "outputs": [
    {
     "name": "stdout",
     "output_type": "stream",
     "text": [
      "┌───┬───┬───┬───┬───┬───┬───┬───┐\n",
      "│   │ ♛ │   │   │   │   │   │   │\n",
      "├───┼───┼───┼───┼───┼───┼───┼───┤\n",
      "│   │   │   │   │   │   │   │ ♛ │\n",
      "├───┼───┼───┼───┼───┼───┼───┼───┤\n",
      "│   │   │   │   │   │ ♛ │   │   │\n",
      "├───┼───┼───┼───┼───┼───┼───┼───┤\n",
      "│ ♛ │   │   │   │   │   │   │   │\n",
      "├───┼───┼───┼───┼───┼───┼───┼───┤\n",
      "│   │   │ ♛ │   │   │   │   │   │\n",
      "├───┼───┼───┼───┼───┼───┼───┼───┤\n",
      "│   │   │   │   │ ♛ │   │   │   │\n",
      "├───┼───┼───┼───┼───┼───┼───┼───┤\n",
      "│   │   │   │   │   │   │ ♛ │   │\n",
      "├───┼───┼───┼───┼───┼───┼───┼───┤\n",
      "│   │   │   │ ♛ │   │   │   │   │\n",
      "└───┴───┴───┴───┴───┴───┴───┴───┘\n",
      "\n"
     ]
    }
   ],
   "source": [
    "print(teste)"
   ]
  },
  {
   "cell_type": "code",
   "execution_count": 114,
   "metadata": {},
   "outputs": [
    {
     "data": {
      "text/plain": [
       "0"
      ]
     },
     "execution_count": 114,
     "metadata": {},
     "output_type": "execute_result"
    }
   ],
   "source": [
    "heuristicaPadrao(teste)"
   ]
  },
  {
   "cell_type": "markdown",
   "metadata": {},
   "source": [
    "<p style=\"color:lime;background-color:#fc0fc0;padding:50px;margin:0;border:0;text-align:center;font-size:40px;font-weight:bold;font-family:URW Chancery L\">DEMONSTRAÇÃO</p>"
   ]
  },
  {
   "cell_type": "code",
   "execution_count": null,
   "metadata": {},
   "outputs": [],
   "source": [
    "random.sample(range(1,25),)\n"
   ]
  },
  {
   "cell_type": "code",
   "execution_count": null,
   "metadata": {},
   "outputs": [],
   "source": [
    "def cruzamentoPadrao(pai, mae):\n",
    "    novo_jogo = copy.deepcopy(pai)\n",
    "    \n",
    "    quantidade_mae = random.choice(range(1,mae.dimensao-1))\n",
    "    \n",
    "    #pecas = random.sample(list(novo_jogo.pos_damas.keys()), quantidade_mae)\n",
    "    pecas = list(novo_jogo.pos_damas.keys())[quantidade_mae:]\n",
    "    for peca in pecas:\n",
    "        novo_jogo[peca] = mae[peca]\n",
    "        \n",
    "    return novo_jogo\n",
    "\n",
    "    "
   ]
  },
  {
   "cell_type": "code",
   "execution_count": null,
   "metadata": {},
   "outputs": [],
   "source": [
    "def mutacaoPadrao(individuo, mutabilidade):\n",
    "    \n",
    "    novo_jogo = copy.deepcopy(individuo)\n",
    "    \n",
    "    pecas = random.sample(list(novo_jogo.pos_damas.keys()), mutabilidade)\n",
    "    \n",
    "    for peca in pecas:\n",
    "        \n",
    "        movimentos = novo_jogo.getJogadasObvias(peca)\n",
    "        pos = novo_jogo[peca]\n",
    "        movimentos_simples_verticais = list(filter(lambda x: x[0] == pos[0], movimentos))\n",
    "\n",
    "        escolha = random.choice(movimentos_simples_verticais)\n",
    "        \n",
    "        novo_jogo[peca] = escolha\n",
    "        \n",
    "    return novo_jogo"
   ]
  },
  {
   "cell_type": "code",
   "execution_count": null,
   "metadata": {},
   "outputs": [],
   "source": [
    "t = cruzamentoPadrao(tabuleiroInincial(4),\n",
    "                    tabuleiroInincial(4))\n",
    "print(t)"
   ]
  },
  {
   "cell_type": "code",
   "execution_count": null,
   "metadata": {},
   "outputs": [],
   "source": [
    "t1 = mutacaoPadrao(t, 1)\n",
    "print(t1)"
   ]
  },
  {
   "cell_type": "code",
   "execution_count": null,
   "metadata": {},
   "outputs": [],
   "source": [
    "t2 = cruzamentoPadrao(t, t1)\n",
    "print(t2)"
   ]
  },
  {
   "cell_type": "code",
   "execution_count": null,
   "metadata": {},
   "outputs": [],
   "source": [
    "def algoritmoGenetico(populacao, prob_mutacao, f_heuristica, f_cruzamento, f_mutacao, mutabilidade = 1, MAX = 5000):\n",
    "    \n",
    "    for iter in tqdm(range(MAX)):\n",
    "        \n",
    "        for i in range(0, len(populacao)):\n",
    "        \n",
    "            nova_populacao = []\n",
    "            \n",
    "            p_map = list(map(lambda x: (f_heuristica(x),x), populacao))\n",
    "\n",
    "            p_min = sorted(p_map, key = lambda x: x[0])\n",
    "            \n",
    "            for _,x in p_min:\n",
    "                \n",
    "                #x = random.choice(p_min)[1]\n",
    "                y = random.choice(p_min)[1]\n",
    "            \n",
    "                filho = f_cruzamento(x, y)\n",
    "            \n",
    "                aux = random.choices([True, False], weights= [prob_mutacao, 1-prob_mutacao])[0]\n",
    "\n",
    "                if aux: filho = f_mutacao(filho, mutabilidade)\n",
    "            \n",
    "                nova_populacao.append(filho)\n",
    "            \n",
    "            sobreviventes = list(map(lambda x: x[1], filter(lambda x: x[0] == p_min[0][0], p_min)))\n",
    "            populacao = [*nova_populacao, *sobreviventes]\n",
    "        \n",
    "        p_map = list(map(lambda x: (f_heuristica(x),x), nova_populacao))\n",
    "        \n",
    "        #print(p_map)\n",
    "        \n",
    "        p_min = sorted(p_map, key = lambda x: x[0])[0]\n",
    "        \n",
    "        if p_min[0] == 0: return p_min[1]\n",
    "    \n",
    "    p_map = list(map(lambda x: (f_heuristica(x),x), nova_populacao))\n",
    "        \n",
    "    return sorted(p_map, key = lambda x: x[0])[0][1]\n",
    "        "
   ]
  },
  {
   "cell_type": "code",
   "execution_count": null,
   "metadata": {},
   "outputs": [],
   "source": [
    "def tabuleiroRandomico(dimensao):\n",
    "    jogo = Jogo(dimensao)\n",
    "    \n",
    "    l = range(dimensao)\n",
    "    \n",
    "    jogo.pos_damas = {i: (i, random.choice(l)) for i in range(dimensao)}\n",
    "    \n",
    "    return jogo"
   ]
  },
  {
   "cell_type": "code",
   "execution_count": null,
   "metadata": {},
   "outputs": [],
   "source": [
    "pop = [tabuleiroRandomico(9) for x in range(100)]"
   ]
  },
  {
   "cell_type": "code",
   "execution_count": null,
   "metadata": {},
   "outputs": [],
   "source": [
    "print(pop[0])"
   ]
  },
  {
   "cell_type": "code",
   "execution_count": null,
   "metadata": {},
   "outputs": [],
   "source": [
    "teste = algoritmoGenetico(pop,\n",
    "                 0.01,\n",
    "                  heuristicaOtimizada,\n",
    "                  cruzamentoPadrao,\n",
    "                  mutacaoPadrao)"
   ]
  },
  {
   "cell_type": "code",
   "execution_count": null,
   "metadata": {},
   "outputs": [],
   "source": []
  },
  {
   "cell_type": "code",
   "execution_count": null,
   "metadata": {},
   "outputs": [],
   "source": [
    "print(teste)"
   ]
  },
  {
   "cell_type": "code",
   "execution_count": null,
   "metadata": {},
   "outputs": [],
   "source": [
    "heuristicaOtimizada(teste)"
   ]
  },
  {
   "cell_type": "code",
   "execution_count": 60,
   "metadata": {},
   "outputs": [
    {
     "name": "stdout",
     "output_type": "stream",
     "text": [
      "┌───┬───┬───┬───┬───┬───┬───┬───┬───┬───┐\n",
      "│ ♛ │   │   │   │   │   │   │   │   │   │\n",
      "├───┼───┼───┼───┼───┼───┼───┼───┼───┼───┤\n",
      "│   │ ♛ │   │   │   │   │   │   │   │   │\n",
      "├───┼───┼───┼───┼───┼───┼───┼───┼───┼───┤\n",
      "│   │   │ ♛ │   │   │   │   │   │   │   │\n",
      "├───┼───┼───┼───┼───┼───┼───┼───┼───┼───┤\n",
      "│   │   │   │ ♛ │   │   │   │   │   │   │\n",
      "├───┼───┼───┼───┼───┼───┼───┼───┼───┼───┤\n",
      "│   │   │   │   │ ♛ │   │   │   │   │   │\n",
      "├───┼───┼───┼───┼───┼───┼───┼───┼───┼───┤\n",
      "│   │   │   │   │   │ ♛ │   │   │   │   │\n",
      "├───┼───┼───┼───┼───┼───┼───┼───┼───┼───┤\n",
      "│   │   │   │   │   │   │ ♛ │   │   │   │\n",
      "├───┼───┼───┼───┼───┼───┼───┼───┼───┼───┤\n",
      "│   │   │   │   │   │   │   │ ♛ │   │   │\n",
      "├───┼───┼───┼───┼───┼───┼───┼───┼───┼───┤\n",
      "│   │   │   │   │   │   │   │   │ ♛ │   │\n",
      "├───┼───┼───┼───┼───┼───┼───┼───┼───┼───┤\n",
      "│   │   │   │   │   │   │   │   │   │ ♛ │\n",
      "└───┴───┴───┴───┴───┴───┴───┴───┴───┴───┘\n",
      "\n"
     ]
    }
   ],
   "source": [
    "jogo = tabuleiroInincial(10)\n",
    "\n",
    "print(jogo)"
   ]
  },
  {
   "cell_type": "markdown",
   "metadata": {},
   "source": [
    "<h1 style=\"color:#fff;background-color:#000;padding:30px;margin:0;border:0;text-align:center\">COLÔNIA DE FORMIGAS</h1>"
   ]
  },
  {
   "cell_type": "code",
   "execution_count": 12,
   "metadata": {},
   "outputs": [],
   "source": [
    "def heuristicaIcaro(jogo):\n",
    "    \n",
    "    #peso do tabuleiro\n",
    "    peso = 0\n",
    "\n",
    "    #conjunto de pecas nao verificadas\n",
    "    partes_ocupadas = list(jogo.pos_damas.keys())\n",
    "    \n",
    "    for i in range(len(partes_ocupadas)):\n",
    "        \n",
    "        for j in range(i+1, len(partes_ocupadas)):\n",
    "            \n",
    "            posi = np.array(jogo[partes_ocupadas[i]])\n",
    "            \n",
    "            posj = np.array(jogo[partes_ocupadas[j]])\n",
    "            \n",
    "            delta = abs(posi - posj)\n",
    "            \n",
    "            if delta[0] == delta[1] or posi[0] == posj[0] or posi[1] == posj[1]:\n",
    "                peso += 1\n",
    "        \n",
    "    return peso"
   ]
  },
  {
   "cell_type": "code",
   "execution_count": 22,
   "metadata": {},
   "outputs": [],
   "source": [
    "\n",
    "class ColoniaFormigas:\n",
    "    def __init__(self, dimensao, quantidade_formigas):\n",
    "        self.dimensao = dimensao\n",
    "        self.quantidade_formigas = quantidade_formigas\n",
    "        self.ro = 0.5 # (1 - ro) evaporação\n",
    "        self.Q  = 1.0 # Quantidade de feromônio distribuído\n",
    "        self.alfa = 1.0 # peso do feromônio\n",
    "        self.beta = 1.0 # peso do peso da aresta\n",
    "        self.formigas  = []\n",
    "        self.feromonio = [[{'f':1, 'p':1} for i in range(dimensao)] for j in range(dimensao) ]\n",
    "        self.calcula_feromonio()\n",
    "        self.max = 1000\n",
    "    \n",
    "    def percorre(self):\n",
    "        dimensao = self.dimensao\n",
    "        jogo = Jogo(dimensao)\n",
    "        linhas_possiveis = [i for i in range(dimensao)]\n",
    "        p = np.array([1 for i in range(dimensao)])\n",
    "        p = p/jogo.dimensao\n",
    "\n",
    "        for coluna in range(dimensao):\n",
    "            linha = int(choice(linhas_possiveis, 1, p=p)[0])\n",
    "            linhas_possiveis.remove(linha)\n",
    "            p = self.calcula_probabilidade(linha, linhas_possiveis)\n",
    "            jogo[coluna] = (linha, coluna)\n",
    "\n",
    "        self.formigas.append({'jogo':jogo, 'peso':heuristicaIcaro(jogo)})\n",
    "    \n",
    "    def calcula_probabilidade(self, linha, linhas_possiveis):\n",
    "        p = []\n",
    "        soma = 0.0\n",
    "        for indice in linhas_possiveis:\n",
    "            \n",
    "            fero = self.feromonio[linha][indice]['f']\n",
    "            peso = self.feromonio[linha][indice]['p']\n",
    "            \n",
    "            tudo = (fero**self.alfa)*(peso**self.beta)\n",
    "            \n",
    "            p.append(tudo)\n",
    "            soma += (tudo)\n",
    "        \n",
    "        p = np.array([x for x in p])\n",
    "        return p/soma\n",
    "        \n",
    "    def calcula_feromonio(self):\n",
    "        dimensao = self.dimensao\n",
    "       \n",
    "        for i in range(dimensao):\n",
    "            for j in range(dimensao):\n",
    "                self.feromonio[i][j]['f'] = (1 - self.ro) * self.feromonio[i][j]['f']\n",
    "\n",
    "                for formiga in self.formigas:\n",
    "                    if (i, j) in formiga['jogo'].pos_damas.values():\n",
    "                        self.feromonio[i][j]['f'] += self.Q/formiga['peso']\n",
    "\n",
    "    def calcular(self):\n",
    "        dimensao = self.dimensao\n",
    "        \n",
    "        for i in tqdm(range(1, self.max)):\n",
    "            self.formigas = []\n",
    "            threads = []\n",
    "            \n",
    "            for i in range(self.quantidade_formigas):\n",
    "                t = Thread(target=self.percorre())\n",
    "                t.start()\n",
    "                threads.append(t)\n",
    "                \n",
    "            for t in threads:\n",
    "                t.join()\n",
    "            \n",
    "            for formiga in self.formigas: \n",
    "                if formiga['peso'] == 0: return formiga\n",
    "\n",
    "            self.calcula_feromonio()\n",
    "        \n",
    "        menor = self.formigas[0]\n",
    "        for formiga in self.formigas:\n",
    "            if formiga['peso'] < menor['peso']: menor = formiga\n",
    "                \n",
    "        return menor"
   ]
  },
  {
   "cell_type": "code",
   "execution_count": 24,
   "metadata": {},
   "outputs": [
    {
     "data": {
      "application/vnd.jupyter.widget-view+json": {
       "model_id": "08e13a14f91b4acb8670b4e3b296c21a",
       "version_major": 2,
       "version_minor": 0
      },
      "text/plain": [
       "HBox(children=(IntProgress(value=0, max=9999), HTML(value='')))"
      ]
     },
     "metadata": {},
     "output_type": "display_data"
    },
    {
     "name": "stdout",
     "output_type": "stream",
     "text": [
      "\n",
      "7\n",
      "\n",
      "┌───┬───┬───┬───┬───┬───┬───┬───┬───┬───┬───┬───┬───┬───┬───┐\n",
      "│ ♛ │   │   │   │   │   │   │   │   │   │   │   │   │   │   │\n",
      "├───┼───┼───┼───┼───┼───┼───┼───┼───┼───┼───┼───┼───┼───┼───┤\n",
      "│   │   │   │   │   │   │   │   │ ♛ │   │   │   │   │   │   │\n",
      "├───┼───┼───┼───┼───┼───┼───┼───┼───┼───┼───┼───┼───┼───┼───┤\n",
      "│   │   │   │   │   │ ♛ │   │   │   │   │   │   │   │   │   │\n",
      "├───┼───┼───┼───┼───┼───┼───┼───┼───┼───┼───┼───┼───┼───┼───┤\n",
      "│   │   │   │   │   │   │   │ ♛ │   │   │   │   │   │   │   │\n",
      "├───┼───┼───┼───┼───┼───┼───┼───┼───┼───┼───┼───┼───┼───┼───┤\n",
      "│   │ ♛ │   │   │   │   │   │   │   │   │   │   │   │   │   │\n",
      "├───┼───┼───┼───┼───┼───┼───┼───┼───┼───┼───┼───┼───┼───┼───┤\n",
      "│   │   │   │   │ ♛ │   │   │   │   │   │   │   │   │   │   │\n",
      "├───┼───┼───┼───┼───┼───┼───┼───┼───┼───┼───┼───┼───┼───┼───┤\n",
      "│   │   │   │   │   │   │   │   │   │   │   │   │ ♛ │   │   │\n",
      "├───┼───┼───┼───┼───┼───┼───┼───┼───┼───┼───┼───┼───┼───┼───┤\n",
      "│   │   │   │   │   │   │   │   │   │   │   │   │   │ ♛ │   │\n",
      "├───┼───┼───┼───┼───┼───┼───┼───┼───┼───┼───┼───┼───┼───┼───┤\n",
      "│   │   │   │   │   │   │   │   │   │   │   │ ♛ │   │   │   │\n",
      "├───┼───┼───┼───┼───┼───┼───┼───┼───┼───┼───┼───┼───┼───┼───┤\n",
      "│   │   │ ♛ │   │   │   │   │   │   │   │   │   │   │   │   │\n",
      "├───┼───┼───┼───┼───┼───┼───┼───┼───┼───┼───┼───┼───┼───┼───┤\n",
      "│   │   │   │   │   │   │ ♛ │   │   │   │   │   │   │   │   │\n",
      "├───┼───┼───┼───┼───┼───┼───┼───┼───┼───┼───┼───┼───┼───┼───┤\n",
      "│   │   │   │ ♛ │   │   │   │   │   │   │   │   │   │   │   │\n",
      "├───┼───┼───┼───┼───┼───┼───┼───┼───┼───┼───┼───┼───┼───┼───┤\n",
      "│   │   │   │   │   │   │   │   │   │ ♛ │   │   │   │   │   │\n",
      "├───┼───┼───┼───┼───┼───┼───┼───┼───┼───┼───┼───┼───┼───┼───┤\n",
      "│   │   │   │   │   │   │   │   │   │   │ ♛ │   │   │   │   │\n",
      "├───┼───┼───┼───┼───┼───┼───┼───┼───┼───┼───┼───┼───┼───┼───┤\n",
      "│   │   │   │   │   │   │   │   │   │   │   │   │   │   │ ♛ │\n",
      "└───┴───┴───┴───┴───┴───┴───┴───┴───┴───┴───┴───┴───┴───┴───┘\n",
      "\n"
     ]
    }
   ],
   "source": [
    "col = ColoniaFormigas(15, 10)\n",
    "col.max = 10000\n",
    "a = col.calcular()\n",
    "print(a['peso'])\n",
    "print(a['jogo'])"
   ]
  },
  {
   "cell_type": "code",
   "execution_count": null,
   "metadata": {},
   "outputs": [],
   "source": []
  }
 ],
 "metadata": {
  "kernelspec": {
   "display_name": "Python 3",
   "language": "python",
   "name": "python3"
  },
  "language_info": {
   "codemirror_mode": {
    "name": "ipython",
    "version": 3
   },
   "file_extension": ".py",
   "mimetype": "text/x-python",
   "name": "python",
   "nbconvert_exporter": "python",
   "pygments_lexer": "ipython3",
   "version": "3.7.4"
  }
 },
 "nbformat": 4,
 "nbformat_minor": 2
}
