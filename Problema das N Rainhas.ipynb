{
 "cells": [
  {
   "cell_type": "markdown",
   "metadata": {},
   "source": [
    "# Bibliotecas Usadas"
   ]
  },
  {
   "cell_type": "code",
   "execution_count": 1,
   "metadata": {},
   "outputs": [],
   "source": [
    "import random\n",
    "import copy\n",
    "import math\n",
    "from tqdm import tqdm_notebook as tqdm"
   ]
  },
  {
   "cell_type": "markdown",
   "metadata": {},
   "source": [
    "<h1 style=\"color:#fff;background-color:#000;padding:30px;margin:0;border:0;text-align:center\">JOGO</h1>"
   ]
  },
  {
   "cell_type": "markdown",
   "metadata": {},
   "source": [
    "Uma classe para simular um jogo de xadrez apenas com rainhas"
   ]
  },
  {
   "cell_type": "code",
   "execution_count": 2,
   "metadata": {},
   "outputs": [],
   "source": [
    "\n",
    "class Jogo:\n",
    "    \n",
    "    \"\"\"\n",
    "    Construtor da classe\n",
    "    \n",
    "    @param dimensao_tabuleiro: inteiro positivo para dimensao do tabuleiro quadrado\n",
    "    \"\"\"\n",
    "    def __init__(self, dimensao_tabuleiro):\n",
    "                \n",
    "        #guardando a dimensao\n",
    "        self._dimensao = dimensao_tabuleiro\n",
    "        \n",
    "        #inicializando o dicionario de pecas\n",
    "        self._pos_damas = dict()\n",
    "    \n",
    "    \n",
    "    \"\"\"\n",
    "    Metodo get da dimensao, disparado quando \"self.dimensao\" eh executado\n",
    "    \n",
    "    @return dimensao: a dimensao do tabuleiro quadrado\n",
    "    \"\"\"\n",
    "    @property\n",
    "    def dimensao(self): return self._dimensao\n",
    "\n",
    "    \"\"\"\n",
    "    Metodo set da dimensao, disparado quando \"self.dimensao = value\" eh executado\n",
    "    por medidas de consistencia, as pecas tem suas posicoes anuladas, porem as quantidades sao as mesmas\n",
    "    \n",
    "    @param value: devera ser um inteiro positivo\n",
    "    \"\"\"\n",
    "    @dimensao.setter\n",
    "    def dimensao(self, value):\n",
    "         \n",
    "        #verificacao de consistencia da entrada\n",
    "        if isinstance(value, int) and value >= 0: \n",
    "            self._dimensao = value\n",
    "            \n",
    "            #zerando os valores das pecas\n",
    "            for chave in self._pos_damas: self._pos_damas[chave] = None\n",
    "            \n",
    "        else: print(\"tipo {} nao aceito\".format(type(value)))\n",
    "    \n",
    "    \"\"\"\n",
    "    Metodo get do pos_damas, disparado quando \"self.pos_damas\" eh executado\n",
    "    \n",
    "    @return pos_damas: o dicionario contendo todas as pecas e suas posicoes\n",
    "    \"\"\"\n",
    "    @property\n",
    "    def pos_damas(self): return self._pos_damas.copy()\n",
    "\n",
    "    \"\"\"\n",
    "    Metodo set do pos_damas, disparado quando \"self.pos_damas = value\" eh executado\n",
    "    \n",
    "    @param value: devera ser um dicionario do tipo: chave --> tuple(x, y) tal que\n",
    "    tanto x quanto y sejam inteiros dentro do intervalo [0, self.dimensao[\n",
    "    \"\"\"\n",
    "    @pos_damas.setter\n",
    "    def pos_damas(self, value):\n",
    "        \n",
    "        #verificacao de consistencia da entrada\n",
    "        check = (isinstance(value, dict) and \n",
    "                 all(isinstance(e, tuple)\n",
    "                     and len(e) == 2\n",
    "                     and all(isinstance(i,int) and\n",
    "                             i>=0 and i<self.dimensao\n",
    "                             for i in e)\n",
    "                     for e in value.values()))\n",
    "        \n",
    "        #registrando entrada\n",
    "        if check: self._pos_damas = value\n",
    "        \n",
    "        else: print(\"{} nao aceito como pos_damas\".format(value))\n",
    "    \n",
    "    \"\"\"\n",
    "    Metodo get para uma peca do tabuleiro, disparado quando \"self[idx]\" for executado\n",
    "    \n",
    "    @return pos_damas[idx]: um tuple(int, int) se a chave existir, None c.c.\n",
    "    \"\"\"\n",
    "    def __getitem__(self, idx): return self._pos_damas.get(idx)\n",
    "\n",
    "    \"\"\"\n",
    "    Metodo set para uma nova peca do tabuleiro ou atualizacao de existente,\n",
    "    disparado quando \"self[idx] = value\" for executado\n",
    "    \n",
    "    @param idx: novo/existente peca que sera manipulada\n",
    "    \n",
    "    @param value: novo valor que sera inserido, devera ser um tuple(x, y) tal que\n",
    "    tanto x quanto y sejam inteiros dentro do intervalo [0, self.dimensao[\n",
    "    \"\"\"\n",
    "    def __setitem__(self, idx, value):\n",
    "        \n",
    "        #verificacao de consistencia\n",
    "        check = (isinstance(value, tuple)\n",
    "                 and len(value) == 2 and \n",
    "                 all(isinstance(i,int) and\n",
    "                     i>=0 and\n",
    "                     i<self.dimensao for i in value)) \n",
    "        \n",
    "        #registrando entrada\n",
    "        if check:\n",
    "            self._pos_damas[idx] = value\n",
    "        else: print(\"{} nao aceito como valor\".format(value))\n",
    "            \n",
    "    \"\"\"\n",
    "    Metodo para descobrir as jogadas obvias (horizontais e verticais)\n",
    "    \n",
    "    @param idx: peca que sera movimentada\n",
    "    \n",
    "    @return jogadas: lista de posicoes validas para uma jogada\n",
    "    \"\"\"\n",
    "    def getJogadasObvias(self, idx):\n",
    "        #obtendo a posicao da peca que sera movimentada\n",
    "        ponto = self[idx]\n",
    "        \n",
    "        #se nao existir, vida que segue\n",
    "        if not ponto:\n",
    "            print(\"peca {} nao inicializada\".format(idx))\n",
    "            return None\n",
    "        \n",
    "        #varrendo posicoes nos sentidos\n",
    "        cima = [(ponto[0], i) for i in range(ponto[1]+1, self.dimensao)]\n",
    "        \n",
    "        baixo = [(ponto[0], i) for i in range(ponto[1]-1, -1, -1)]\n",
    "        \n",
    "        direita = [(i, ponto[1]) for i in range(ponto[0]+1, self.dimensao)]\n",
    "        \n",
    "        esquerda = [(i, ponto[1]) for i in range(ponto[0]-1, -1, -1)]\n",
    "        \n",
    "        #concatenando tudo\n",
    "        return [*cima,\n",
    "               *baixo,\n",
    "               *direita,\n",
    "               *esquerda]\n",
    "    \n",
    "    \"\"\"\n",
    "    Metodo para descobrir as jogadas diagonais \n",
    "    \n",
    "    @param idx: peca que sera movimentada\n",
    "    \n",
    "    @return jogadas: lista de posicoes validas para uma jogada\n",
    "    \"\"\"\n",
    "    def getJogadasDiagonais(self, idx):\n",
    "        \n",
    "        #obtendo a posicao da peca que sera movimentada\n",
    "        ponto = self[idx]\n",
    "        \n",
    "        #se nao existir, vida que segue\n",
    "        if not ponto:\n",
    "            print(\"peca {} nao inicializada\".format(idx))\n",
    "            return None\n",
    "\n",
    "        #varrendo posicoes nos sentidos\n",
    "        cima_direita = [(ponto[0]+i, ponto[1]+i) for i in range(1, self.dimensao) if ponto[0]+i < self.dimensao and ponto[1]+i < self.dimensao]\n",
    "        \n",
    "        baixo_direita = [(ponto[0]+i, ponto[1]-i) for i in range(1, self.dimensao) if ponto[0]+i < self.dimensao and ponto[1]-i >=0 ]\n",
    "        \n",
    "        baixo_esquerda = [(ponto[0]-i, ponto[1]-i) for i in range(1, self.dimensao) if ponto[0]-i >= 0 and ponto[1]-i >= 0]\n",
    "        \n",
    "        cima_esquerda = [(ponto[0]-i, ponto[1]+i) for i in range(1, self.dimensao) if ponto[0]-i >= 0 and ponto[1]+i < self.dimensao]\n",
    "        \n",
    "        #concatenando tudo\n",
    "        return [*cima_direita,\n",
    "               *baixo_direita,\n",
    "               *baixo_esquerda,\n",
    "               *cima_esquerda]\n",
    "    \n",
    "    \"\"\"\n",
    "    Metodo para descobrir todas as jogadas possiveis \n",
    "    \n",
    "    @param idx: peca que sera movimentada\n",
    "    \n",
    "    @return jogadas: lista de posicoes validas para uma jogada\n",
    "    \"\"\"\n",
    "    def getTodasJogadas(self, idx):\n",
    "        \n",
    "        #obtendo a peca que sera movimentada\n",
    "        ponto = self[idx]\n",
    "        \n",
    "        #se nao tiver ponto, vida que segue\n",
    "        if not ponto:\n",
    "            print(\"peca {} nao inicializada\".format(idx))\n",
    "            return None\n",
    "\n",
    "        #coletando e concatenando as jogadas\n",
    "        return [*self.getJogadasDiagonais(idx), *self.getJogadasObvias(idx)]\n",
    "        \n",
    "    def getEspacosLetais(self):\n",
    "        \n",
    "        casas_letais = set()\n",
    "        for peca in self.pos_damas:\n",
    "            casas_letais = casas_letais.union(self.getTodasJogadas(peca))\n",
    "        return list(casas_letais)\n",
    "        \n",
    "    def getEspacosLivres(self):\n",
    "        \n",
    "        tabuleiro = set( (x,y) for x in range(0,self.dimensao) for y in range(0,self.dimensao) )\n",
    "        \n",
    "        casas_letais = set(self.pos_damas.values())\n",
    "        #casas_letais = set()\n",
    "        \n",
    "        for peca in self.pos_damas:\n",
    "            \n",
    "            casas_letais = casas_letais.union(self.getTodasJogadas(peca))\n",
    "        \n",
    "        return list(tabuleiro - casas_letais)\n",
    "    \n",
    "    def __str__(self):\n",
    "        string = \"\"\n",
    "        pos = self.pos_damas.values()\n",
    "        for i in range(self.dimensao):\n",
    "            for j in range(self.dimensao):\n",
    "                if (i, j) in pos:\n",
    "                    string += \"♛\"\n",
    "                else: \n",
    "                    string += \"□\"\n",
    "                string += \" \"\n",
    "            string += \"\\n\"\n",
    "        return string\n",
    "\n",
    "        "
   ]
  },
  {
   "cell_type": "code",
   "execution_count": 3,
   "metadata": {},
   "outputs": [],
   "source": [
    "def tabuleiroInincial(dimensao):\n",
    "    jogo = Jogo(dimensao)\n",
    "    jogo.pos_damas = {i: (i,i) for i in range(0, jogo.dimensao)}\n",
    "    return jogo"
   ]
  },
  {
   "cell_type": "code",
   "execution_count": 4,
   "metadata": {},
   "outputs": [],
   "source": [
    "def heuristicaOtimizada(jogo):\n",
    "    \n",
    "    #peso do tabuleiro\n",
    "    peso = 0\n",
    "\n",
    "    #conjunto de pecas nao verificadas\n",
    "    partes_ocupadas = list(jogo.pos_damas.values())\n",
    "    \n",
    "    partes_letais = jogo.getEspacosLetais()\n",
    "    \n",
    "    casas_mortas = filter(lambda x: x in partes_letais, partes_ocupadas)\n",
    "    \n",
    "    return len(list(casas_mortas))"
   ]
  },
  {
   "cell_type": "code",
   "execution_count": null,
   "metadata": {},
   "outputs": [],
   "source": []
  },
  {
   "cell_type": "code",
   "execution_count": 5,
   "metadata": {},
   "outputs": [],
   "source": [
    "def heuristicaPadrao(jogo):\n",
    "    \n",
    "    #peso do tabuleiro\n",
    "    peso = 0\n",
    "\n",
    "    #conjunto de pecas nao verificadas\n",
    "    pecas_nao_verificadas = list(jogo.pos_damas.keys())\n",
    "\n",
    "    #enquanto tiver pecas nao verificadas faca:\n",
    "    for peca in pecas_nao_verificadas:\n",
    "\n",
    "        #tirar uma peca arbitraria\n",
    "        #peca = pecas_nao_verificadas.pop()\n",
    "\n",
    "        #coletar todas as possiveis jogadas dela\n",
    "        casas_letais = jogo.getTodasJogadas(peca)\n",
    "\n",
    "        #para as outras pecas\n",
    "        for chave, valor in jogo.pos_damas.items():\n",
    "\n",
    "            #verificar se elas estao entre as possiveis jogadas\n",
    "            if valor in casas_letais:\n",
    "\n",
    "                #incrementa o peso\n",
    "                peso += 1\n",
    "\n",
    "    return peso"
   ]
  },
  {
   "cell_type": "code",
   "execution_count": 6,
   "metadata": {},
   "outputs": [],
   "source": [
    "def movimentacaoRandomica(jogo):\n",
    "    \n",
    "    novo_jogo = copy.deepcopy(jogo)\n",
    "    \n",
    "    #peca aleatoria\n",
    "    peca = random.choice(list(novo_jogo.pos_damas.keys()))\n",
    "    \n",
    "    pos = novo_jogo[peca]\n",
    "    \n",
    "    #todos os movimentos verticais e horizontais\n",
    "    movimentos = novo_jogo.getJogadasObvias(peca)\n",
    "    movimentos_simples_verticais = list(filter(lambda x: x[0] == pos[0], movimentos))\n",
    "    \n",
    "    escolha = random.choice(movimentos_simples_verticais)\n",
    "    \n",
    "    novo_jogo[peca] = escolha\n",
    "    \n",
    "    #novo_jogo.jogada_anterior = (peca, escolha)\n",
    "    \n",
    "    return novo_jogo"
   ]
  },
  {
   "cell_type": "code",
   "execution_count": 21,
   "metadata": {},
   "outputs": [],
   "source": [
    "def simulatedAnnealing(funcao_peso, funcao_jogada, jogo, MAX = 6000, C=3):\n",
    "    \n",
    "    atual = jogo\n",
    "    \n",
    "    for t in tqdm(range(1, MAX)):\n",
    "    \n",
    "        T = C/math.sqrt(t)\n",
    "        \n",
    "        #if T == 0: return atual\n",
    "        \n",
    "        viz = funcao_jogada(atual)\n",
    "        \n",
    "        #print(viz)\n",
    "        p_atual = funcao_peso(atual)\n",
    "        p_viz = funcao_peso(viz)\n",
    "        \n",
    "        #if T<= 0.0005 or p_viz == 0: return viz\n",
    "        \n",
    "        if p_viz < p_atual:\n",
    "            atual = viz\n",
    "        \n",
    "        else:\n",
    "            probabilidade = math.exp( (p_atual - p_viz)/T )\n",
    "            #print(probabilidade, funcao_peso(atual))\n",
    "            atual = random.choices([viz, atual], weights= [probabilidade, 1-probabilidade])[0]\n",
    "        \n",
    "    return atual"
   ]
  },
  {
   "cell_type": "code",
   "execution_count": 17,
   "metadata": {},
   "outputs": [
    {
     "data": {
      "application/vnd.jupyter.widget-view+json": {
       "model_id": "3e6bf953ece8476ead44bb72c4770f6e",
       "version_major": 2,
       "version_minor": 0
      },
      "text/plain": [
       "HBox(children=(IntProgress(value=0, max=4999), HTML(value='')))"
      ]
     },
     "metadata": {},
     "output_type": "display_data"
    },
    {
     "name": "stdout",
     "output_type": "stream",
     "text": [
      "CPU times: user 1min 25s, sys: 453 ms, total: 1min 26s\n",
      "Wall time: 1min 25s\n"
     ]
    }
   ],
   "source": [
    "%%time\n",
    "teste = simulatedAnnealing(heuristicaPadrao, \n",
    "                           movimentacaoRandomica,\n",
    "                          tabuleiroInincial(40))"
   ]
  },
  {
   "cell_type": "code",
   "execution_count": 22,
   "metadata": {
    "scrolled": true
   },
   "outputs": [
    {
     "data": {
      "application/vnd.jupyter.widget-view+json": {
       "model_id": "a6b3cd8cd50647f98bae02850173cbe4",
       "version_major": 2,
       "version_minor": 0
      },
      "text/plain": [
       "HBox(children=(IntProgress(value=0, max=5999), HTML(value='')))"
      ]
     },
     "metadata": {},
     "output_type": "display_data"
    },
    {
     "name": "stdout",
     "output_type": "stream",
     "text": [
      "CPU times: user 1min 11s, sys: 349 ms, total: 1min 11s\n",
      "Wall time: 1min 11s\n"
     ]
    }
   ],
   "source": [
    "%%time\n",
    "teste = simulatedAnnealing(heuristicaOtimizada, \n",
    "                           movimentacaoRandomica,\n",
    "                          tabuleiroInincial(40))"
   ]
  },
  {
   "cell_type": "code",
   "execution_count": 23,
   "metadata": {},
   "outputs": [
    {
     "name": "stdout",
     "output_type": "stream",
     "text": [
      "□ □ □ □ □ □ □ □ □ □ □ □ □ □ □ □ □ □ ♛ □ □ □ □ □ □ □ □ □ □ □ □ □ □ □ □ □ □ □ □ □ \n",
      "□ □ □ □ □ □ □ □ □ □ □ □ □ □ ♛ □ □ □ □ □ □ □ □ □ □ □ □ □ □ □ □ □ □ □ □ □ □ □ □ □ \n",
      "□ □ □ □ □ □ □ □ □ □ □ □ □ □ □ □ □ □ □ □ □ □ □ □ □ □ □ □ □ ♛ □ □ □ □ □ □ □ □ □ □ \n",
      "□ □ □ □ □ □ □ □ □ □ □ □ □ □ □ □ □ □ □ □ □ □ □ □ □ □ □ □ □ □ □ □ ♛ □ □ □ □ □ □ □ \n",
      "□ □ □ □ □ □ □ □ □ □ □ □ □ □ □ □ □ □ □ □ □ □ □ □ □ □ □ □ □ □ □ □ □ □ □ □ □ □ □ ♛ \n",
      "□ □ □ □ □ □ □ ♛ □ □ □ □ □ □ □ □ □ □ □ □ □ □ □ □ □ □ □ □ □ □ □ □ □ □ □ □ □ □ □ □ \n",
      "□ □ □ □ □ □ □ □ □ □ □ □ □ □ □ □ □ □ □ □ □ □ □ □ □ □ □ ♛ □ □ □ □ □ □ □ □ □ □ □ □ \n",
      "□ □ □ □ □ □ □ □ □ □ □ □ □ □ □ □ ♛ □ □ □ □ □ □ □ □ □ □ □ □ □ □ □ □ □ □ □ □ □ □ □ \n",
      "□ □ □ □ □ □ □ □ □ □ □ □ □ □ □ □ □ □ □ □ □ □ □ □ ♛ □ □ □ □ □ □ □ □ □ □ □ □ □ □ □ \n",
      "□ ♛ □ □ □ □ □ □ □ □ □ □ □ □ □ □ □ □ □ □ □ □ □ □ □ □ □ □ □ □ □ □ □ □ □ □ □ □ □ □ \n",
      "□ □ □ □ □ □ □ □ □ □ □ □ □ □ □ □ □ □ □ □ □ □ □ □ □ □ □ □ □ □ ♛ □ □ □ □ □ □ □ □ □ \n",
      "□ □ □ □ □ □ □ □ □ □ □ □ □ □ □ □ □ □ □ □ □ □ □ ♛ □ □ □ □ □ □ □ □ □ □ □ □ □ □ □ □ \n",
      "□ □ □ □ □ □ □ □ ♛ □ □ □ □ □ □ □ □ □ □ □ □ □ □ □ □ □ □ □ □ □ □ □ □ □ □ □ □ □ □ □ \n",
      "♛ □ □ □ □ □ □ □ □ □ □ □ □ □ □ □ □ □ □ □ □ □ □ □ □ □ □ □ □ □ □ □ □ □ □ □ □ □ □ □ \n",
      "□ □ □ □ □ □ □ □ □ □ □ □ □ □ □ □ □ □ □ □ □ □ ♛ □ □ □ □ □ □ □ □ □ □ □ □ □ □ □ □ □ \n",
      "□ □ □ □ ♛ □ □ □ □ □ □ □ □ □ □ □ □ □ □ □ □ □ □ □ □ □ □ □ □ □ □ □ □ □ □ □ □ □ □ □ \n",
      "□ □ □ □ □ □ ♛ □ □ □ □ □ □ □ □ □ □ □ □ □ □ □ □ □ □ □ □ □ □ □ □ □ □ □ □ □ □ □ □ □ \n",
      "□ □ □ □ □ □ □ □ □ □ ♛ □ □ □ □ □ □ □ □ □ □ □ □ □ □ □ □ □ □ □ □ □ □ □ □ □ □ □ □ □ \n",
      "□ □ □ ♛ □ □ □ □ □ □ □ □ □ □ □ □ □ □ □ □ □ □ □ □ □ □ □ □ □ □ □ □ □ □ □ □ □ □ □ □ \n",
      "□ □ □ □ □ □ □ □ □ □ □ □ □ □ □ □ □ □ □ □ □ □ □ □ □ □ ♛ □ □ □ □ □ □ □ □ □ □ □ □ □ \n",
      "□ □ □ □ □ □ □ □ □ □ □ □ □ □ □ □ □ □ □ □ □ □ □ □ □ □ □ □ □ □ □ □ □ □ □ □ □ ♛ □ □ \n",
      "□ □ □ □ □ □ □ □ □ □ □ □ □ □ □ □ □ □ □ □ □ □ □ □ □ □ □ □ □ □ □ □ □ □ □ ♛ □ □ □ □ \n",
      "□ □ □ □ □ □ □ □ □ □ □ □ □ □ □ □ □ ♛ □ □ □ □ □ □ □ □ □ □ □ □ □ □ □ □ □ □ □ □ □ □ \n",
      "□ □ □ □ □ ♛ □ □ □ □ □ □ □ □ □ □ □ □ □ □ □ □ □ □ □ □ □ □ □ □ □ □ □ □ □ □ □ □ □ □ \n",
      "□ □ ♛ □ □ □ □ □ □ □ □ □ □ □ □ □ □ □ □ □ □ □ □ □ □ □ □ □ □ □ □ □ □ □ □ □ □ □ □ □ \n",
      "□ □ □ □ □ □ □ □ □ □ □ □ □ □ □ □ □ □ □ □ □ □ □ □ □ □ □ □ ♛ □ □ □ □ □ □ □ □ □ □ □ \n",
      "□ □ □ □ □ □ □ □ □ □ □ □ □ □ □ □ □ □ □ □ ♛ □ □ □ □ □ □ □ □ □ □ □ □ □ □ □ □ □ □ □ \n",
      "□ □ □ □ □ □ □ □ □ □ □ □ □ □ □ □ □ □ □ □ □ □ □ □ □ □ □ □ □ □ □ □ □ □ □ □ □ □ ♛ □ \n",
      "□ □ □ □ □ □ □ □ □ □ □ □ □ □ □ □ □ □ □ □ □ □ □ □ □ □ □ □ □ □ □ □ □ □ ♛ □ □ □ □ □ \n",
      "□ □ □ □ □ □ □ □ □ □ □ □ □ □ □ ♛ □ □ □ □ □ □ □ □ □ □ □ □ □ □ □ □ □ □ □ □ □ □ □ □ \n",
      "□ □ □ □ □ □ □ □ □ □ □ ♛ □ □ □ □ □ □ □ □ □ □ □ □ □ □ □ □ □ □ □ □ □ □ □ □ □ □ □ □ \n",
      "□ □ □ □ □ □ □ □ □ □ □ □ □ □ □ □ □ □ □ ♛ □ □ □ □ □ □ □ □ □ □ □ □ □ □ □ □ □ □ □ □ \n",
      "□ □ □ □ □ □ □ □ □ □ □ □ □ □ □ □ □ □ □ □ □ □ □ □ □ □ □ □ □ □ □ □ □ □ □ □ ♛ □ □ □ \n",
      "□ □ □ □ □ □ □ □ □ □ □ □ □ □ □ □ □ □ □ □ □ □ □ □ □ □ □ □ □ □ □ ♛ □ □ □ □ □ □ □ □ \n",
      "□ □ □ □ □ □ □ □ □ □ □ □ □ □ □ □ □ □ □ □ □ □ □ □ □ ♛ □ □ □ □ □ □ □ □ □ □ □ □ □ □ \n",
      "□ □ □ □ □ □ □ □ □ □ □ □ ♛ □ □ □ □ □ □ □ □ □ □ □ □ □ □ □ □ □ □ □ □ □ □ □ □ □ □ □ \n",
      "□ □ □ □ □ □ □ □ □ □ □ □ □ □ □ □ □ □ □ □ □ □ □ □ □ □ □ □ □ □ □ □ □ ♛ □ □ □ □ □ □ \n",
      "□ □ □ □ □ □ □ □ □ □ □ □ □ □ □ □ □ □ □ □ □ ♛ □ □ □ □ □ □ □ □ □ □ □ □ □ □ □ □ □ □ \n",
      "□ □ □ □ □ □ □ □ □ □ □ □ □ ♛ □ □ □ □ □ □ □ □ □ □ □ □ □ □ □ □ □ □ □ □ □ □ □ □ □ □ \n",
      "□ □ □ □ □ □ □ □ □ ♛ □ □ □ □ □ □ □ □ □ □ □ □ □ □ □ □ □ □ □ □ □ □ □ □ □ □ □ □ □ □ \n",
      "\n"
     ]
    }
   ],
   "source": [
    "print(teste)"
   ]
  },
  {
   "cell_type": "code",
   "execution_count": 24,
   "metadata": {},
   "outputs": [
    {
     "data": {
      "text/plain": [
       "0"
      ]
     },
     "execution_count": 24,
     "metadata": {},
     "output_type": "execute_result"
    }
   ],
   "source": [
    "heuristicaPadrao(teste)"
   ]
  },
  {
   "cell_type": "markdown",
   "metadata": {},
   "source": [
    "<p style=\"color:lime;background-color:#fc0fc0;padding:50px;margin:0;border:0;text-align:center;font-size:40px;font-weight:bold;font-family:URW Chancery L\">DEMONSTRAÇÃO</p>"
   ]
  },
  {
   "cell_type": "markdown",
   "metadata": {},
   "source": [
    "## Construção"
   ]
  },
  {
   "cell_type": "code",
   "execution_count": null,
   "metadata": {},
   "outputs": [],
   "source": [
    "random.choices(['a', 'b'], weights= [0.9, 0.1])"
   ]
  },
  {
   "cell_type": "code",
   "execution_count": null,
   "metadata": {},
   "outputs": [],
   "source": [
    "jogo = Jogo(3)"
   ]
  },
  {
   "cell_type": "markdown",
   "metadata": {},
   "source": [
    "## Inicialização de pecas na diagonal"
   ]
  },
  {
   "cell_type": "code",
   "execution_count": null,
   "metadata": {},
   "outputs": [],
   "source": [
    "jogo.inicializarPecas()\n",
    "jogo.pos_damas"
   ]
  },
  {
   "cell_type": "code",
   "execution_count": null,
   "metadata": {},
   "outputs": [],
   "source": []
  },
  {
   "cell_type": "markdown",
   "metadata": {},
   "source": [
    "## get's"
   ]
  },
  {
   "cell_type": "code",
   "execution_count": null,
   "metadata": {},
   "outputs": [],
   "source": [
    "print(jogo.dimensao)\n",
    "\n",
    "print(jogo.pos_damas)\n",
    "\n",
    "teste = jogo.pos_damas\n",
    "teste[44] = (1,2)\n",
    "\n",
    "print(jogo.pos_damas)\n",
    "\n",
    "print(jogo['DAMA 0'])"
   ]
  },
  {
   "cell_type": "markdown",
   "metadata": {},
   "source": [
    "## set's"
   ]
  },
  {
   "cell_type": "code",
   "execution_count": null,
   "metadata": {},
   "outputs": [],
   "source": [
    "print(jogo.pos_damas)\n",
    "jogo.pos_damas = {1: (1,1)}\n",
    "\n",
    "jogo.pos_damas = [1,2,3,4,5]\n",
    "\n",
    "jogo[2] = (0,1)\n",
    "print(jogo.pos_damas)\n",
    "\n",
    "print(jogo.dimensao)\n",
    "jogo.dimensao = 4\n",
    "\n",
    "print(jogo.dimensao)\n",
    "jogo.inicializarPecas()"
   ]
  },
  {
   "cell_type": "markdown",
   "metadata": {},
   "source": [
    "## Jogadas"
   ]
  },
  {
   "cell_type": "code",
   "execution_count": null,
   "metadata": {},
   "outputs": [],
   "source": [
    "jogo.getTodasJogadas('DAMA 2')"
   ]
  },
  {
   "cell_type": "markdown",
   "metadata": {},
   "source": [
    "## Peso"
   ]
  },
  {
   "cell_type": "code",
   "execution_count": null,
   "metadata": {},
   "outputs": [],
   "source": [
    "jogo.calcularPeso()"
   ]
  },
  {
   "cell_type": "code",
   "execution_count": null,
   "metadata": {},
   "outputs": [],
   "source": [
    "a = set([1,2,3])\n",
    "b = set([2,3])\n",
    "c = a-b\n",
    "c"
   ]
  },
  {
   "cell_type": "code",
   "execution_count": null,
   "metadata": {},
   "outputs": [],
   "source": [
    "c.union(a)"
   ]
  },
  {
   "cell_type": "code",
   "execution_count": null,
   "metadata": {},
   "outputs": [],
   "source": [
    "def gerarNovaRainhaRandomica(jogo, linha):\n",
    "    novo_tabuleiro = copy.deepcopy(jogo)\n",
    "    espacos_livres = list(filter(lambda x: x[1] == linha, novo_tabuleiro.getEspacosLivres()))\n",
    "    print(espacos_livres)\n",
    "    nova_pos = random.choice(espacos_livres)\n",
    "    \n",
    "    novo_tabuleiro[max(novo_tabuleiro.pos_damas.keys())+1] = nova_pos\n",
    "    return novo_tabuleiro"
   ]
  },
  {
   "cell_type": "code",
   "execution_count": null,
   "metadata": {},
   "outputs": [],
   "source": [
    "jogo.pos_damas = {1: (0,0)}"
   ]
  },
  {
   "cell_type": "code",
   "execution_count": null,
   "metadata": {},
   "outputs": [],
   "source": [
    "def hillClimb(dimensao):\n",
    "    estado_inicial = Jogo(dimensao)\n",
    "    \n",
    "    \n",
    "    \n",
    "    \n",
    "    "
   ]
  },
  {
   "cell_type": "code",
   "execution_count": null,
   "metadata": {},
   "outputs": [],
   "source": []
  }
 ],
 "metadata": {
  "kernelspec": {
   "display_name": "Python 3",
   "language": "python",
   "name": "python3"
  },
  "language_info": {
   "codemirror_mode": {
    "name": "ipython",
    "version": 3
   },
   "file_extension": ".py",
   "mimetype": "text/x-python",
   "name": "python",
   "nbconvert_exporter": "python",
   "pygments_lexer": "ipython3",
   "version": "3.7.2"
  }
 },
 "nbformat": 4,
 "nbformat_minor": 2
}
