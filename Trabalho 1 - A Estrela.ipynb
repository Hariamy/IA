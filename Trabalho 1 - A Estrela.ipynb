{
 "cells": [
  {
   "cell_type": "markdown",
   "metadata": {},
   "source": [
    "# Bibliotecas Usadas"
   ]
  },
  {
   "cell_type": "code",
   "execution_count": 1,
   "metadata": {},
   "outputs": [],
   "source": [
    "import numpy as np\n",
    "import bisect \n",
    "import time\n",
    "import random\n",
    "import copy"
   ]
  },
  {
   "cell_type": "markdown",
   "metadata": {},
   "source": [
    "# O Jogo"
   ]
  },
  {
   "cell_type": "markdown",
   "metadata": {},
   "source": [
    "Abaixo, está a classe elaborada para simular o jogo slide number, necessário para fazer as possibilidades de partida "
   ]
  },
  {
   "cell_type": "code",
   "execution_count": 2,
   "metadata": {},
   "outputs": [],
   "source": [
    "class Jogo:\n",
    "    \n",
    "    \"\"\"\n",
    "    Para o construtor, é necessário informar a dimensão, do tabuleiro quadrado, e uma jogada anterior\n",
    "    que, por default, não existe. O construtor faz um tabuleiro gabarito\n",
    "    \"\"\"\n",
    "    def __init__(self, dimensao, jogada_anterior=None):\n",
    "        \n",
    "        tabuleiro = []\n",
    "        peso = {}\n",
    "        coordinate = {}\n",
    "        k=1\n",
    "        \n",
    "        #loop tradicional para fazer uma matriz\n",
    "        for i in range(0,dimensao):\n",
    "            tabuleiro.append([])\n",
    "            for j in range(0, dimensao):\n",
    "                tabuleiro[i].append(k)\n",
    "                peso[k] = 0\n",
    "                coordinate[k] = (i, j)\n",
    "                k+=1\n",
    "        \n",
    "        #Espaço vazio do jogo                        \n",
    "        tabuleiro[-1][-1] = None\n",
    "        peso.pop(dimensao**2)\n",
    "        coordinate.pop(dimensao**2)\n",
    "        \n",
    "        peso[None] = 0\n",
    "        coordinate[None] = (dimensao-1, dimensao-1)\n",
    "        \n",
    "        #posição do vazio\n",
    "        self.vazio = (dimensao-1, dimensao-1)\n",
    "        \n",
    "        #tabuleiro\n",
    "        self.tabuleiro = tabuleiro\n",
    "        \n",
    "        #dimensão do tabuleiro\n",
    "        self.dimensao = dimensao\n",
    "        \n",
    "        self.peso = peso\n",
    "        self.coordinate = coordinate\n",
    "        \n",
    "        #jogada anterior que gerou o tabuleiro atual\n",
    "        self.jogada_anterior = jogada_anterior\n",
    "    \n",
    "    \"\"\"\n",
    "    Função para copiar um tabuleiro e mudar sua referencia\n",
    "    \"\"\"\n",
    "    def copy(self):\n",
    "        return copy.deepcopy(self)\n",
    "    \n",
    "    def mudaPeso(self, valor, pos, gabarito):\n",
    "        pos_final = gabarito.coordinate[valor]\n",
    "        valor_peso = abs(pos_final[0] - pos[0]) + abs(pos_final[1] - pos[1])\n",
    "        self.peso[valor] = valor_peso\n",
    "        \n",
    "    \"\"\"\n",
    "    Função que simula uma jogada legal. Retorna outro tabuleiro com a jogada\n",
    "    \"\"\"\n",
    "    def jogada(self, pos, gabarito):\n",
    "        \n",
    "        #presenvando o tabuleiro atual\n",
    "        novo = self.copy()\n",
    "        \n",
    "        #pegando os vizinhos do vazio\n",
    "        vizinhos = novo.getVizinhos()\n",
    "        \n",
    "        #se a jogada for um vizinho, a pos é valida!\n",
    "        if pos in vizinhos:\n",
    "            \n",
    "            valor = novo.tabuleiro[pos[0]][pos[1]]\n",
    "            \n",
    "            novo.tabuleiro[self.vazio[0]][self.vazio[1]] = valor\n",
    "            \n",
    "            self.mudaPeso(valor, self.vazio, gabarito)  \n",
    "            \n",
    "            novo.tabuleiro[pos[0]][pos[1]] = None\n",
    "            \n",
    "            self.mudaPeso(None, pos, gabarito)\n",
    "            \n",
    "            novo.vazio = pos\n",
    "            \n",
    "            novo.jogada_anterior = pos\n",
    "            \n",
    "            novo.peso = self.peso\n",
    "            \n",
    "        return novo\n",
    "    \n",
    "    \"\"\"\n",
    "    Função que retorna as posições de jogadas valídas\n",
    "    \"\"\"\n",
    "    def getVizinhos(self):\n",
    "        \n",
    "        #vendo os vizinhos do vazio\n",
    "        pos = self.vazio\n",
    "        possibilidades = [\n",
    "            (pos[0]-1, pos[1]),\n",
    "            (pos[0]+1, pos[1]),\n",
    "            (pos[0], pos[1]+1),\n",
    "            (pos[0], pos[1]-1)\n",
    "        ]\n",
    "        \n",
    "        #tirando os que são ilegais\n",
    "        possibilidades = filter(lambda x: (x[0] >= 0 and x[0] < self.dimensao) and \n",
    "               (x[1] >= 0 and x[1] < self.dimensao), possibilidades)\n",
    "        \n",
    "        return list(possibilidades)\n",
    "    \n",
    "    \"\"\"\n",
    "    Função que cria um tabuleiro randomico partindo de um gabarito\n",
    "    \"\"\"    \n",
    "    def embaralha(self, vezes, gabarito):\n",
    "        \n",
    "        #presenvando o tabuleiro atual\n",
    "        proximo = self.copy()\n",
    "        \n",
    "        #fazundo multiplas jogadas aleatorias\n",
    "        for i in range(0,vezes):\n",
    "            x = proximo.getVizinhos()\n",
    "            \n",
    "            pos = random.choice(x)\n",
    "            \n",
    "            proximo = proximo.jogada(pos, gabarito)\n",
    "            \n",
    "        return proximo\n",
    "    \n",
    "    \"\"\"\n",
    "    Função para verificar igualdade entre tabuleiros\n",
    "    \"\"\"\n",
    "    def __eq__(self, outro):\n",
    "        return (self.vazio == outro.vazio and self.tabuleiro == outro.tabuleiro)\n",
    "    \n",
    "    \"\"\"\n",
    "    Sobreescrita do print usando numpy\n",
    "    \"\"\"\n",
    "    def __str__(self):\n",
    "        return str(np.array(self.tabuleiro))\n",
    "    "
   ]
  },
  {
   "cell_type": "markdown",
   "metadata": {},
   "source": [
    "# O nó da árvore"
   ]
  },
  {
   "cell_type": "markdown",
   "metadata": {},
   "source": [
    "Para montar a arvore, é necessário utilizar uma estrutura de nós com n filhos e 1 pai"
   ]
  },
  {
   "cell_type": "code",
   "execution_count": 3,
   "metadata": {},
   "outputs": [],
   "source": [
    "class No:\n",
    "    \n",
    "    \"\"\"\n",
    "    Para construir o nó, é necessário passar seu conteúdo e seu pai que, por default, é None\n",
    "    \"\"\"\n",
    "    def __init__(self, conteudo,pai = None):\n",
    "        \n",
    "        #pai do nó\n",
    "        self.pai = pai\n",
    "        \n",
    "        #conteudo do nó\n",
    "        self.conteudo = conteudo\n",
    "        \n",
    "        #lista de filhos\n",
    "        self.filhos = list()\n",
    "        \n",
    "        self.pesoTotal = self.calculaPeso()\n",
    "    \n",
    "    def calculaPeso(self):\n",
    "        # modo correto\n",
    "        # peso_pai = 0 if not self.pai else self.pai.pesoTotal\n",
    "        # modo errado\n",
    "        peso_pai = 0\n",
    "        return sum(self.conteudo.peso.values()) + peso_pai\n",
    "    \n",
    "    \"\"\"\n",
    "    Funçaõ para adicionar filhos ao nó, deve-se passar apenas o conteudo do filho\n",
    "    \"\"\"\n",
    "    def add(self, conteudo):    \n",
    "        filho = No(conteudo, pai = self)\n",
    "        self.filhos.append(filho)\n",
    "        \n",
    "    \"\"\"\n",
    "    dois nós são iguais se se o conteúdo for o mesmo\n",
    "    \"\"\"\n",
    "    def __eq__(self, outro):\n",
    "        \n",
    "        return (self.conteudo == outro.conteudo)\n",
    "    \n",
    "    def __lt__(self, other):\n",
    "        return self.pesoTotal < other.pesoTotal"
   ]
  },
  {
   "cell_type": "markdown",
   "metadata": {},
   "source": [
    "# Funções auxiliares"
   ]
  },
  {
   "cell_type": "markdown",
   "metadata": {},
   "source": [
    "Para fazer o busca em largura de forma dinamica, foi necessário elaborar funções de verificação e manuntenção de arvore"
   ]
  },
  {
   "cell_type": "code",
   "execution_count": 4,
   "metadata": {},
   "outputs": [],
   "source": [
    "\"\"\"\n",
    "Função para verificar se, dado um nó, ele ja apareceu em sua linhagem\n",
    "\"\"\"\n",
    "def Correspondencia(no):\n",
    "    if not no.pai:\n",
    "        return False\n",
    "    \n",
    "    proximo = no.pai\n",
    "    \n",
    "    while proximo:\n",
    "        \n",
    "        if proximo == no:\n",
    "            return True\n",
    "        else:\n",
    "            proximo = proximo.pai\n",
    "    return False"
   ]
  },
  {
   "cell_type": "code",
   "execution_count": 5,
   "metadata": {},
   "outputs": [],
   "source": [
    "\"\"\"\n",
    "Função para, dado um nó, gerar seus filhos de jogadas lícitas\n",
    "\"\"\"\n",
    "def CriarFilhos(no, fim):\n",
    "    t = no.conteudo\n",
    "    \n",
    "    pos = t.getVizinhos()\n",
    "    \n",
    "    filhos = []\n",
    "\n",
    "    for coord in pos:\n",
    "        \n",
    "        j = t.jogada(coord, fim.conteudo)\n",
    "        \n",
    "        if not Correspondencia(No(j,pai = no)): filhos.append(No(j,pai = no))\n",
    "    \n",
    "    return filhos"
   ]
  },
  {
   "cell_type": "markdown",
   "metadata": {},
   "source": [
    "# A Busca Em Largura Dinâmica"
   ]
  },
  {
   "cell_type": "markdown",
   "metadata": {},
   "source": [
    "Finalmente, o algoritmo de busca. Ele gera uma arvore de possibilidades até achar uma resposta"
   ]
  },
  {
   "cell_type": "code",
   "execution_count": 6,
   "metadata": {},
   "outputs": [],
   "source": [
    "\n",
    "\"\"\"\n",
    "Algoritmo para achar o caminho de jogadas do jogo passado como parametro\n",
    "\"\"\"\n",
    "def BuscaEmLargura(problema, solucao):\n",
    "    count = 0\n",
    "    #se o seu problema é igual a solução...\n",
    "    if problema == solucao:\n",
    "        return problema\n",
    "    \n",
    "    #Gerarndo as primeiras possibilidades\n",
    "    proximos = CriarFilhos(problema, solucao)\n",
    "    \n",
    "    #enquanto tiver possibilidades\n",
    "    while len(proximos) != 0:\n",
    "        count += 1\n",
    "        filho = proximos.pop(0)\n",
    "        \n",
    "        #achei a solucao!\n",
    "        if filho == solucao:\n",
    "            print(\"Solved with \", count, \"iterations\")\n",
    "            \n",
    "            return filho\n",
    "        \n",
    "        for x in CriarFilhos(filho, solucao): proximos.append(x)\n",
    "        \n",
    "    print(\"Solved with\", count, \"iterations\")\n",
    "        \n",
    "    return None  \n",
    "\n",
    "\n",
    "def AEstrela(problema, solucao):\n",
    "    count = 0\n",
    "    #se o seu problema é igual a solução...\n",
    "    if problema == solucao:\n",
    "        return problema\n",
    "    \n",
    "    #Gerarndo as primeiras possibilidades\n",
    "    proximos = CriarFilhos(problema, solucao)\n",
    "    \n",
    "    proximos.sort(key=lambda x: x.pesoTotal)\n",
    "    \n",
    "    #enquanto tiver possibilidades\n",
    "    while len(proximos) != 0:\n",
    "        count += 1\n",
    "        filho = proximos.pop(0)\n",
    "        \n",
    "        #achei a solucao!\n",
    "        if filho == solucao:\n",
    "            print(\"Solved with \", count, \"iterations\")\n",
    "            \n",
    "            return filho\n",
    "        \n",
    "        for x in CriarFilhos(filho, solucao): bisect.insort(proximos, x)\n",
    "        \n",
    "        proximos.sort(key=lambda x: x.pesoTotal)\n",
    "        \n",
    "        if count%10000 == 0:\n",
    "            print(count, \"iterations\", end=\" \")\n",
    "            input(\"deseja continuar? \")\n",
    "        \n",
    "    print(\"Solved with\", count, \"iterations\")\n",
    "        \n",
    "    return None    "
   ]
  },
  {
   "cell_type": "code",
   "execution_count": 7,
   "metadata": {},
   "outputs": [],
   "source": [
    "\"\"\"\n",
    "Algoritmo para achar o conjunto de jogadas que originaram o nó\n",
    "\"\"\"\n",
    "def coletarJogadas(no):\n",
    "    jogadas = []\n",
    "    proximo = no\n",
    "    while proximo.pai:\n",
    "        jogadas.append(proximo.conteudo.jogada_anterior)\n",
    "        proximo = proximo.pai\n",
    "    return jogadas[::-1]        "
   ]
  },
  {
   "cell_type": "markdown",
   "metadata": {},
   "source": [
    "# Demonstração"
   ]
  },
  {
   "cell_type": "code",
   "execution_count": 8,
   "metadata": {},
   "outputs": [
    {
     "name": "stdout",
     "output_type": "stream",
     "text": [
      "[[None 3 1]\n",
      " [8 5 7]\n",
      " [2 4 6]]\n"
     ]
    }
   ],
   "source": [
    "gabarito = Jogo(3)\n",
    "problema = gabarito.embaralha(1000, gabarito)\n",
    "print(problema)"
   ]
  },
  {
   "cell_type": "code",
   "execution_count": 9,
   "metadata": {},
   "outputs": [
    {
     "data": {
      "text/plain": [
       "18"
      ]
     },
     "execution_count": 9,
     "metadata": {},
     "output_type": "execute_result"
    }
   ],
   "source": [
    "inicio = No(problema)\n",
    "fim = No(gabarito)\n",
    "inicio.pesoTotal"
   ]
  },
  {
   "cell_type": "code",
   "execution_count": null,
   "metadata": {},
   "outputs": [],
   "source": [
    "start_time = time.time()\n",
    "resultado = BuscaEmLargura(inicio, fim) \n",
    "print(\"Execution time: %s\" % time.strftime(\"%H:%M:%S\", time.gmtime(time.time() - start_time)))"
   ]
  },
  {
   "cell_type": "code",
   "execution_count": 10,
   "metadata": {},
   "outputs": [
    {
     "name": "stdout",
     "output_type": "stream",
     "text": [
      "Solved with  861 iterations\n",
      "Execution time: 00:00:00\n"
     ]
    }
   ],
   "source": [
    "start_time = time.time()\n",
    "resultado = AEstrela(inicio, fim)\n",
    "print(\"Execution time: %s\" % time.strftime(\"%H:%M:%S\", time.gmtime(time.time() - start_time)))"
   ]
  },
  {
   "cell_type": "code",
   "execution_count": null,
   "metadata": {},
   "outputs": [],
   "source": [
    "for i in range()"
   ]
  },
  {
   "cell_type": "code",
   "execution_count": null,
   "metadata": {},
   "outputs": [],
   "source": [
    "jogadas = coletarJogadas(resultado)\n",
    "print(jogadas)"
   ]
  }
 ],
 "metadata": {
  "kernelspec": {
   "display_name": "Python 3",
   "language": "python",
   "name": "python3"
  },
  "language_info": {
   "codemirror_mode": {
    "name": "ipython",
    "version": 3
   },
   "file_extension": ".py",
   "mimetype": "text/x-python",
   "name": "python",
   "nbconvert_exporter": "python",
   "pygments_lexer": "ipython3",
   "version": "3.7.4"
  }
 },
 "nbformat": 4,
 "nbformat_minor": 2
}
