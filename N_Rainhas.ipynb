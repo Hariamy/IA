{
 "cells": [
  {
   "cell_type": "markdown",
   "metadata": {
    "colab_type": "text",
    "id": "PyYMENEO_yM_"
   },
   "source": [
    "\n",
    "## Bibliotecas Usadas\n",
    "\n"
   ]
  },
  {
   "cell_type": "code",
   "execution_count": 1,
   "metadata": {
    "colab": {},
    "colab_type": "code",
    "id": "EZW4gU-UKRt4"
   },
   "outputs": [],
   "source": [
    "import random\n",
    "import copy\n",
    "import math\n",
    "#import tqdm\n",
    "from tqdm import tqdm_notebook as tqdm\n",
    "import numpy as np\n",
    "import heapq\n",
    "from IPython.core.display import display, HTML\n"
   ]
  },
  {
   "cell_type": "markdown",
   "metadata": {
    "colab_type": "text",
    "id": "pjsCYhak_7i0"
   },
   "source": [
    "## Funções para o tabuleiro"
   ]
  },
  {
   "cell_type": "code",
   "execution_count": 2,
   "metadata": {
    "colab": {},
    "colab_type": "code",
    "id": "7Ni-qAC-KVSD"
   },
   "outputs": [],
   "source": [
    "def printf(jogo):\n",
    "    string = \"\"\n",
    "    \n",
    "    pos = list(enumerate(jogo))\n",
    "    \n",
    "    dimensao = len(jogo)\n",
    "    \n",
    "    black = '<span style=\"background-color:black;color:white;'\n",
    "    white = '<span style=\"background-color:white;color:black;'\n",
    "    \n",
    "    add = 'padding:0;margin:0;border:0;font-size:17px;\">'\n",
    "    \n",
    "    for i in range(dimensao):\n",
    "        for j in range(dimensao):\n",
    "            if (i%2 == 0 and j%2 == 0) or (i%2 != 0 and j%2 != 0): string += black + add\n",
    "            else: string += white + add\n",
    "    \n",
    "            if (j, i) in pos: string += \"&nbsp;♛&nbsp;\"\n",
    "            else: string += \"&nbsp;&nbsp;&nbsp;&nbsp;&nbsp;\"\n",
    "            \n",
    "            string += \"</span>\"\n",
    "        string += \"<br>\"\n",
    "    \n",
    "    display(HTML(string))"
   ]
  },
  {
   "cell_type": "code",
   "execution_count": 4,
   "metadata": {
    "colab": {},
    "colab_type": "code",
    "id": "UhXoHXhpKcAB"
   },
   "outputs": [],
   "source": [
    "def heuristica(jogo):\n",
    "    \n",
    "    #peso do tabuleiro\n",
    "    peso = 0\n",
    "\n",
    "    #conjunto de pecas nao verificadas\n",
    "    #partes_ocupadas = list(jogo.pos_damas.keys())\n",
    "    \n",
    "    dimensao = len(jogo)\n",
    "    \n",
    "    for i in range(dimensao):\n",
    "        \n",
    "        for j in range(i+1, dimensao):\n",
    "            \n",
    "            posi = np.array([i,jogo[i]])\n",
    "            \n",
    "            posj = np.array([j, jogo[j]])\n",
    "            \n",
    "            delta = abs(posi - posj)\n",
    "            \n",
    "            if delta[0] == delta[1] or posi[0] == posj[0] or posi[1] == posj[1]:\n",
    "                peso += 1\n",
    "        \n",
    "    return peso    "
   ]
  },
  {
   "cell_type": "code",
   "execution_count": 5,
   "metadata": {
    "colab": {},
    "colab_type": "code",
    "id": "5eOFDAbkKfSE"
   },
   "outputs": [],
   "source": [
    "def movimentacaoRandomica(jogo):\n",
    "    \n",
    "    novo_jogo = copy.deepcopy(jogo)\n",
    "    \n",
    "    dimensao = len(jogo)\n",
    "    \n",
    "    #peca aleatoria\n",
    "    peca = random.randint(0, dimensao-1)\n",
    "    \n",
    "    escolha = random.randint(0, dimensao-1)\n",
    "    \n",
    "    novo_jogo[peca] = escolha\n",
    "    \n",
    "    return novo_jogo"
   ]
  },
  {
   "cell_type": "code",
   "execution_count": 6,
   "metadata": {},
   "outputs": [],
   "source": [
    "def movimentacaoRandomicaInteligente(jogo):\n",
    "    \n",
    "    novo_jogo = copy.deepcopy(jogo)\n",
    "    \n",
    "    dimensao = len(jogo)\n",
    "    \n",
    "    #peca aleatoria\n",
    "    coluna1 = random.randint(0, dimensao-1)\n",
    "    \n",
    "    coluna2 = random.randint(0, dimensao-1)\n",
    "    \n",
    "    linha2 = novo_jogo[coluna2]\n",
    "    novo_jogo[coluna2] = novo_jogo[coluna1]\n",
    "    novo_jogo[coluna1] = linha2\n",
    "    \n",
    "    return novo_jogo"
   ]
  },
  {
   "cell_type": "code",
   "execution_count": 7,
   "metadata": {
    "colab": {},
    "colab_type": "code",
    "id": "VpQ6Epvzf-LR"
   },
   "outputs": [],
   "source": [
    "def tabRandomico(dim):\n",
    "  \n",
    "  coiso = random.sample(range(dim), k = dim)\n",
    "  \n",
    "  tab = np.array(coiso)\n",
    "  \n",
    "  return tab"
   ]
  },
  {
   "cell_type": "markdown",
   "metadata": {
    "colab_type": "text",
    "id": "upnz7Tr4ABJK"
   },
   "source": [
    "## Simulated Anneling"
   ]
  },
  {
   "cell_type": "code",
   "execution_count": 8,
   "metadata": {
    "colab": {},
    "colab_type": "code",
    "id": "_JmcUluwKrad"
   },
   "outputs": [],
   "source": [
    "def simulatedAnnealing(funcao_peso, funcao_jogada, jogo, MAX = 10000, C=1, passado=None):\n",
    "    \n",
    "    \n",
    "    if isinstance(passado, type(None)): \n",
    "        atual = copy.deepcopy(jogo)\n",
    "    else:\n",
    "        atual = passado\n",
    "    \n",
    "    prob = lambda x, y, z: np.exp( (x - y)/z )\n",
    "    \n",
    "    t = np.arange(1, MAX)\n",
    "    \n",
    "    T = C/np.sqrt(t) \n",
    "    \n",
    "    pbar = tqdm(total=MAX)\n",
    "\n",
    "    for t in T:\n",
    "                    \n",
    "        viz = funcao_jogada(atual)\n",
    "        \n",
    "        p_atual = funcao_peso(atual)\n",
    "        p_viz = funcao_peso(viz)\n",
    "        \n",
    "        if t <= 0.005 or p_atual == 0: return atual\n",
    "        \n",
    "        if p_viz <= p_atual:\n",
    "            atual = viz\n",
    "        \n",
    "        else:\n",
    "            probabilidade = prob(p_atual, p_viz, t)\n",
    "            atual = random.choices([viz, atual], weights= [probabilidade, 1-probabilidade])[0]\n",
    "        \n",
    "        #pbar.update(1)\n",
    "        pbar.set_description(\"Peso atual: {}\".format( funcao_peso(atual) ) )\n",
    "        pbar.update(1)\n",
    "\n",
    "    while True:\n",
    "        resposta = input('O peso atual é {}, gostaria de continuar? [y/n] '.format(funcao_peso(atual)))\n",
    "        \n",
    "        if resposta == 'y': \n",
    "            return simulatedAnnealing(funcao_peso, funcao_jogada, jogo,C=C,MAX=MAX, passado=atual)\n",
    "        elif resposta == 'n':\n",
    "            return atual"
   ]
  },
  {
   "cell_type": "code",
   "execution_count": 19,
   "metadata": {
    "colab": {},
    "colab_type": "code",
    "id": "IMGOOkFeKxN_"
   },
   "outputs": [
    {
     "name": "stdout",
     "output_type": "stream",
     "text": [
      "Quantidade de ataques do tabuleiro inicial: 45\n"
     ]
    }
   ],
   "source": [
    "jogo = np.arange(10)\n",
    "print(\"Quantidade de ataques do tabuleiro inicial:\", heuristica(jogo))"
   ]
  },
  {
   "cell_type": "code",
   "execution_count": 20,
   "metadata": {
    "colab": {
     "base_uri": "https://localhost:8080/",
     "height": 34
    },
    "colab_type": "code",
    "id": "Ll5KTuNsK2w6",
    "outputId": "11f328c7-3c13-466f-f157-f04360864150"
   },
   "outputs": [
    {
     "data": {
      "application/vnd.jupyter.widget-view+json": {
       "model_id": "297b7e3931a84b809199e655c790782a",
       "version_major": 2,
       "version_minor": 0
      },
      "text/plain": [
       "HBox(children=(IntProgress(value=0, max=10000), HTML(value='')))"
      ]
     },
     "metadata": {},
     "output_type": "display_data"
    }
   ],
   "source": [
    "resposta = simulatedAnnealing(heuristica,\n",
    "                  movimentacaoRandomicaInteligente,\n",
    "                  jogo)\n"
   ]
  },
  {
   "cell_type": "code",
   "execution_count": 21,
   "metadata": {},
   "outputs": [
    {
     "data": {
      "text/html": [
       "<span style=\"background-color:black;color:white;padding:0;margin:0;border:0;font-size:17px;\">&nbsp;&nbsp;&nbsp;&nbsp;&nbsp;</span><span style=\"background-color:white;color:black;padding:0;margin:0;border:0;font-size:17px;\">&nbsp;&nbsp;&nbsp;&nbsp;&nbsp;</span><span style=\"background-color:black;color:white;padding:0;margin:0;border:0;font-size:17px;\">&nbsp;&nbsp;&nbsp;&nbsp;&nbsp;</span><span style=\"background-color:white;color:black;padding:0;margin:0;border:0;font-size:17px;\">&nbsp;&nbsp;&nbsp;&nbsp;&nbsp;</span><span style=\"background-color:black;color:white;padding:0;margin:0;border:0;font-size:17px;\">&nbsp;♛&nbsp;</span><span style=\"background-color:white;color:black;padding:0;margin:0;border:0;font-size:17px;\">&nbsp;&nbsp;&nbsp;&nbsp;&nbsp;</span><span style=\"background-color:black;color:white;padding:0;margin:0;border:0;font-size:17px;\">&nbsp;&nbsp;&nbsp;&nbsp;&nbsp;</span><span style=\"background-color:white;color:black;padding:0;margin:0;border:0;font-size:17px;\">&nbsp;&nbsp;&nbsp;&nbsp;&nbsp;</span><span style=\"background-color:black;color:white;padding:0;margin:0;border:0;font-size:17px;\">&nbsp;&nbsp;&nbsp;&nbsp;&nbsp;</span><span style=\"background-color:white;color:black;padding:0;margin:0;border:0;font-size:17px;\">&nbsp;&nbsp;&nbsp;&nbsp;&nbsp;</span><br><span style=\"background-color:white;color:black;padding:0;margin:0;border:0;font-size:17px;\">&nbsp;&nbsp;&nbsp;&nbsp;&nbsp;</span><span style=\"background-color:black;color:white;padding:0;margin:0;border:0;font-size:17px;\">&nbsp;&nbsp;&nbsp;&nbsp;&nbsp;</span><span style=\"background-color:white;color:black;padding:0;margin:0;border:0;font-size:17px;\">&nbsp;♛&nbsp;</span><span style=\"background-color:black;color:white;padding:0;margin:0;border:0;font-size:17px;\">&nbsp;&nbsp;&nbsp;&nbsp;&nbsp;</span><span style=\"background-color:white;color:black;padding:0;margin:0;border:0;font-size:17px;\">&nbsp;&nbsp;&nbsp;&nbsp;&nbsp;</span><span style=\"background-color:black;color:white;padding:0;margin:0;border:0;font-size:17px;\">&nbsp;&nbsp;&nbsp;&nbsp;&nbsp;</span><span style=\"background-color:white;color:black;padding:0;margin:0;border:0;font-size:17px;\">&nbsp;&nbsp;&nbsp;&nbsp;&nbsp;</span><span style=\"background-color:black;color:white;padding:0;margin:0;border:0;font-size:17px;\">&nbsp;&nbsp;&nbsp;&nbsp;&nbsp;</span><span style=\"background-color:white;color:black;padding:0;margin:0;border:0;font-size:17px;\">&nbsp;&nbsp;&nbsp;&nbsp;&nbsp;</span><span style=\"background-color:black;color:white;padding:0;margin:0;border:0;font-size:17px;\">&nbsp;&nbsp;&nbsp;&nbsp;&nbsp;</span><br><span style=\"background-color:black;color:white;padding:0;margin:0;border:0;font-size:17px;\">&nbsp;&nbsp;&nbsp;&nbsp;&nbsp;</span><span style=\"background-color:white;color:black;padding:0;margin:0;border:0;font-size:17px;\">&nbsp;&nbsp;&nbsp;&nbsp;&nbsp;</span><span style=\"background-color:black;color:white;padding:0;margin:0;border:0;font-size:17px;\">&nbsp;&nbsp;&nbsp;&nbsp;&nbsp;</span><span style=\"background-color:white;color:black;padding:0;margin:0;border:0;font-size:17px;\">&nbsp;&nbsp;&nbsp;&nbsp;&nbsp;</span><span style=\"background-color:black;color:white;padding:0;margin:0;border:0;font-size:17px;\">&nbsp;&nbsp;&nbsp;&nbsp;&nbsp;</span><span style=\"background-color:white;color:black;padding:0;margin:0;border:0;font-size:17px;\">&nbsp;&nbsp;&nbsp;&nbsp;&nbsp;</span><span style=\"background-color:black;color:white;padding:0;margin:0;border:0;font-size:17px;\">&nbsp;&nbsp;&nbsp;&nbsp;&nbsp;</span><span style=\"background-color:white;color:black;padding:0;margin:0;border:0;font-size:17px;\">&nbsp;&nbsp;&nbsp;&nbsp;&nbsp;</span><span style=\"background-color:black;color:white;padding:0;margin:0;border:0;font-size:17px;\">&nbsp;♛&nbsp;</span><span style=\"background-color:white;color:black;padding:0;margin:0;border:0;font-size:17px;\">&nbsp;&nbsp;&nbsp;&nbsp;&nbsp;</span><br><span style=\"background-color:white;color:black;padding:0;margin:0;border:0;font-size:17px;\">&nbsp;&nbsp;&nbsp;&nbsp;&nbsp;</span><span style=\"background-color:black;color:white;padding:0;margin:0;border:0;font-size:17px;\">&nbsp;&nbsp;&nbsp;&nbsp;&nbsp;</span><span style=\"background-color:white;color:black;padding:0;margin:0;border:0;font-size:17px;\">&nbsp;&nbsp;&nbsp;&nbsp;&nbsp;</span><span style=\"background-color:black;color:white;padding:0;margin:0;border:0;font-size:17px;\">&nbsp;&nbsp;&nbsp;&nbsp;&nbsp;</span><span style=\"background-color:white;color:black;padding:0;margin:0;border:0;font-size:17px;\">&nbsp;&nbsp;&nbsp;&nbsp;&nbsp;</span><span style=\"background-color:black;color:white;padding:0;margin:0;border:0;font-size:17px;\">&nbsp;&nbsp;&nbsp;&nbsp;&nbsp;</span><span style=\"background-color:white;color:black;padding:0;margin:0;border:0;font-size:17px;\">&nbsp;♛&nbsp;</span><span style=\"background-color:black;color:white;padding:0;margin:0;border:0;font-size:17px;\">&nbsp;&nbsp;&nbsp;&nbsp;&nbsp;</span><span style=\"background-color:white;color:black;padding:0;margin:0;border:0;font-size:17px;\">&nbsp;&nbsp;&nbsp;&nbsp;&nbsp;</span><span style=\"background-color:black;color:white;padding:0;margin:0;border:0;font-size:17px;\">&nbsp;&nbsp;&nbsp;&nbsp;&nbsp;</span><br><span style=\"background-color:black;color:white;padding:0;margin:0;border:0;font-size:17px;\">&nbsp;&nbsp;&nbsp;&nbsp;&nbsp;</span><span style=\"background-color:white;color:black;padding:0;margin:0;border:0;font-size:17px;\">&nbsp;♛&nbsp;</span><span style=\"background-color:black;color:white;padding:0;margin:0;border:0;font-size:17px;\">&nbsp;&nbsp;&nbsp;&nbsp;&nbsp;</span><span style=\"background-color:white;color:black;padding:0;margin:0;border:0;font-size:17px;\">&nbsp;&nbsp;&nbsp;&nbsp;&nbsp;</span><span style=\"background-color:black;color:white;padding:0;margin:0;border:0;font-size:17px;\">&nbsp;&nbsp;&nbsp;&nbsp;&nbsp;</span><span style=\"background-color:white;color:black;padding:0;margin:0;border:0;font-size:17px;\">&nbsp;&nbsp;&nbsp;&nbsp;&nbsp;</span><span style=\"background-color:black;color:white;padding:0;margin:0;border:0;font-size:17px;\">&nbsp;&nbsp;&nbsp;&nbsp;&nbsp;</span><span style=\"background-color:white;color:black;padding:0;margin:0;border:0;font-size:17px;\">&nbsp;&nbsp;&nbsp;&nbsp;&nbsp;</span><span style=\"background-color:black;color:white;padding:0;margin:0;border:0;font-size:17px;\">&nbsp;&nbsp;&nbsp;&nbsp;&nbsp;</span><span style=\"background-color:white;color:black;padding:0;margin:0;border:0;font-size:17px;\">&nbsp;&nbsp;&nbsp;&nbsp;&nbsp;</span><br><span style=\"background-color:white;color:black;padding:0;margin:0;border:0;font-size:17px;\">&nbsp;&nbsp;&nbsp;&nbsp;&nbsp;</span><span style=\"background-color:black;color:white;padding:0;margin:0;border:0;font-size:17px;\">&nbsp;&nbsp;&nbsp;&nbsp;&nbsp;</span><span style=\"background-color:white;color:black;padding:0;margin:0;border:0;font-size:17px;\">&nbsp;&nbsp;&nbsp;&nbsp;&nbsp;</span><span style=\"background-color:black;color:white;padding:0;margin:0;border:0;font-size:17px;\">&nbsp;♛&nbsp;</span><span style=\"background-color:white;color:black;padding:0;margin:0;border:0;font-size:17px;\">&nbsp;&nbsp;&nbsp;&nbsp;&nbsp;</span><span style=\"background-color:black;color:white;padding:0;margin:0;border:0;font-size:17px;\">&nbsp;&nbsp;&nbsp;&nbsp;&nbsp;</span><span style=\"background-color:white;color:black;padding:0;margin:0;border:0;font-size:17px;\">&nbsp;&nbsp;&nbsp;&nbsp;&nbsp;</span><span style=\"background-color:black;color:white;padding:0;margin:0;border:0;font-size:17px;\">&nbsp;&nbsp;&nbsp;&nbsp;&nbsp;</span><span style=\"background-color:white;color:black;padding:0;margin:0;border:0;font-size:17px;\">&nbsp;&nbsp;&nbsp;&nbsp;&nbsp;</span><span style=\"background-color:black;color:white;padding:0;margin:0;border:0;font-size:17px;\">&nbsp;&nbsp;&nbsp;&nbsp;&nbsp;</span><br><span style=\"background-color:black;color:white;padding:0;margin:0;border:0;font-size:17px;\">&nbsp;♛&nbsp;</span><span style=\"background-color:white;color:black;padding:0;margin:0;border:0;font-size:17px;\">&nbsp;&nbsp;&nbsp;&nbsp;&nbsp;</span><span style=\"background-color:black;color:white;padding:0;margin:0;border:0;font-size:17px;\">&nbsp;&nbsp;&nbsp;&nbsp;&nbsp;</span><span style=\"background-color:white;color:black;padding:0;margin:0;border:0;font-size:17px;\">&nbsp;&nbsp;&nbsp;&nbsp;&nbsp;</span><span style=\"background-color:black;color:white;padding:0;margin:0;border:0;font-size:17px;\">&nbsp;&nbsp;&nbsp;&nbsp;&nbsp;</span><span style=\"background-color:white;color:black;padding:0;margin:0;border:0;font-size:17px;\">&nbsp;&nbsp;&nbsp;&nbsp;&nbsp;</span><span style=\"background-color:black;color:white;padding:0;margin:0;border:0;font-size:17px;\">&nbsp;&nbsp;&nbsp;&nbsp;&nbsp;</span><span style=\"background-color:white;color:black;padding:0;margin:0;border:0;font-size:17px;\">&nbsp;&nbsp;&nbsp;&nbsp;&nbsp;</span><span style=\"background-color:black;color:white;padding:0;margin:0;border:0;font-size:17px;\">&nbsp;&nbsp;&nbsp;&nbsp;&nbsp;</span><span style=\"background-color:white;color:black;padding:0;margin:0;border:0;font-size:17px;\">&nbsp;&nbsp;&nbsp;&nbsp;&nbsp;</span><br><span style=\"background-color:white;color:black;padding:0;margin:0;border:0;font-size:17px;\">&nbsp;&nbsp;&nbsp;&nbsp;&nbsp;</span><span style=\"background-color:black;color:white;padding:0;margin:0;border:0;font-size:17px;\">&nbsp;&nbsp;&nbsp;&nbsp;&nbsp;</span><span style=\"background-color:white;color:black;padding:0;margin:0;border:0;font-size:17px;\">&nbsp;&nbsp;&nbsp;&nbsp;&nbsp;</span><span style=\"background-color:black;color:white;padding:0;margin:0;border:0;font-size:17px;\">&nbsp;&nbsp;&nbsp;&nbsp;&nbsp;</span><span style=\"background-color:white;color:black;padding:0;margin:0;border:0;font-size:17px;\">&nbsp;&nbsp;&nbsp;&nbsp;&nbsp;</span><span style=\"background-color:black;color:white;padding:0;margin:0;border:0;font-size:17px;\">&nbsp;&nbsp;&nbsp;&nbsp;&nbsp;</span><span style=\"background-color:white;color:black;padding:0;margin:0;border:0;font-size:17px;\">&nbsp;&nbsp;&nbsp;&nbsp;&nbsp;</span><span style=\"background-color:black;color:white;padding:0;margin:0;border:0;font-size:17px;\">&nbsp;&nbsp;&nbsp;&nbsp;&nbsp;</span><span style=\"background-color:white;color:black;padding:0;margin:0;border:0;font-size:17px;\">&nbsp;&nbsp;&nbsp;&nbsp;&nbsp;</span><span style=\"background-color:black;color:white;padding:0;margin:0;border:0;font-size:17px;\">&nbsp;♛&nbsp;</span><br><span style=\"background-color:black;color:white;padding:0;margin:0;border:0;font-size:17px;\">&nbsp;&nbsp;&nbsp;&nbsp;&nbsp;</span><span style=\"background-color:white;color:black;padding:0;margin:0;border:0;font-size:17px;\">&nbsp;&nbsp;&nbsp;&nbsp;&nbsp;</span><span style=\"background-color:black;color:white;padding:0;margin:0;border:0;font-size:17px;\">&nbsp;&nbsp;&nbsp;&nbsp;&nbsp;</span><span style=\"background-color:white;color:black;padding:0;margin:0;border:0;font-size:17px;\">&nbsp;&nbsp;&nbsp;&nbsp;&nbsp;</span><span style=\"background-color:black;color:white;padding:0;margin:0;border:0;font-size:17px;\">&nbsp;&nbsp;&nbsp;&nbsp;&nbsp;</span><span style=\"background-color:white;color:black;padding:0;margin:0;border:0;font-size:17px;\">&nbsp;&nbsp;&nbsp;&nbsp;&nbsp;</span><span style=\"background-color:black;color:white;padding:0;margin:0;border:0;font-size:17px;\">&nbsp;&nbsp;&nbsp;&nbsp;&nbsp;</span><span style=\"background-color:white;color:black;padding:0;margin:0;border:0;font-size:17px;\">&nbsp;♛&nbsp;</span><span style=\"background-color:black;color:white;padding:0;margin:0;border:0;font-size:17px;\">&nbsp;&nbsp;&nbsp;&nbsp;&nbsp;</span><span style=\"background-color:white;color:black;padding:0;margin:0;border:0;font-size:17px;\">&nbsp;&nbsp;&nbsp;&nbsp;&nbsp;</span><br><span style=\"background-color:white;color:black;padding:0;margin:0;border:0;font-size:17px;\">&nbsp;&nbsp;&nbsp;&nbsp;&nbsp;</span><span style=\"background-color:black;color:white;padding:0;margin:0;border:0;font-size:17px;\">&nbsp;&nbsp;&nbsp;&nbsp;&nbsp;</span><span style=\"background-color:white;color:black;padding:0;margin:0;border:0;font-size:17px;\">&nbsp;&nbsp;&nbsp;&nbsp;&nbsp;</span><span style=\"background-color:black;color:white;padding:0;margin:0;border:0;font-size:17px;\">&nbsp;&nbsp;&nbsp;&nbsp;&nbsp;</span><span style=\"background-color:white;color:black;padding:0;margin:0;border:0;font-size:17px;\">&nbsp;&nbsp;&nbsp;&nbsp;&nbsp;</span><span style=\"background-color:black;color:white;padding:0;margin:0;border:0;font-size:17px;\">&nbsp;♛&nbsp;</span><span style=\"background-color:white;color:black;padding:0;margin:0;border:0;font-size:17px;\">&nbsp;&nbsp;&nbsp;&nbsp;&nbsp;</span><span style=\"background-color:black;color:white;padding:0;margin:0;border:0;font-size:17px;\">&nbsp;&nbsp;&nbsp;&nbsp;&nbsp;</span><span style=\"background-color:white;color:black;padding:0;margin:0;border:0;font-size:17px;\">&nbsp;&nbsp;&nbsp;&nbsp;&nbsp;</span><span style=\"background-color:black;color:white;padding:0;margin:0;border:0;font-size:17px;\">&nbsp;&nbsp;&nbsp;&nbsp;&nbsp;</span><br>"
      ],
      "text/plain": [
       "<IPython.core.display.HTML object>"
      ]
     },
     "metadata": {},
     "output_type": "display_data"
    },
    {
     "name": "stdout",
     "output_type": "stream",
     "text": [
      "Quantidade de ataques da resposta encontrada: 0\n"
     ]
    }
   ],
   "source": [
    "printf(resposta)\n",
    "print(\"Quantidade de ataques da resposta encontrada:\", heuristica(resposta))"
   ]
  },
  {
   "cell_type": "markdown",
   "metadata": {
    "colab_type": "text",
    "id": "fW6gqGSwALdq"
   },
   "source": [
    "## Algoritmo Genetico"
   ]
  },
  {
   "cell_type": "code",
   "execution_count": 23,
   "metadata": {
    "colab": {},
    "colab_type": "code",
    "id": "eMijXdnCMOTB"
   },
   "outputs": [],
   "source": [
    "def cruzamento(pai, mae):\n",
    "    \n",
    "    dimensao = len(pai)\n",
    "    \n",
    "    crossouver = random.randint(1,len(pai)-1)\n",
    "    \n",
    "    f1 = [*pai[:crossouver], *mae[crossouver:]]\n",
    "        \n",
    "    return f1"
   ]
  },
  {
   "cell_type": "code",
   "execution_count": 24,
   "metadata": {
    "colab": {},
    "colab_type": "code",
    "id": "YXA6EhejKPtM"
   },
   "outputs": [],
   "source": [
    "def cruzamentoIcaro(pai, mae):\n",
    "  \n",
    "  f1 = np.arange(len(pai))\n",
    "  \n",
    "  alternado = lambda x: mae[x] if x%2==0 else pai[x]\n",
    "  \n",
    "  return list(map(alternado, f1))"
   ]
  },
  {
   "cell_type": "code",
   "execution_count": 25,
   "metadata": {},
   "outputs": [],
   "source": [
    "def cruzamentoInteligente(pai, mae):\n",
    "\n",
    "    dimensao = len(pai)\n",
    "    \n",
    "    f1 = cruzamentoIcaro(pai, mae)\n",
    "    \n",
    "    set_filho = set(f1)\n",
    "    sub = set(pai) - set_filho\n",
    "    \n",
    "    for i in range(dimensao):\n",
    "        aux = f1[i]\n",
    "        if aux in set_filho:\n",
    "            set_filho.remove(aux)\n",
    "        else:\n",
    "            f1[i] = sub.pop()\n",
    "    \n",
    "    return f1"
   ]
  },
  {
   "cell_type": "code",
   "execution_count": 26,
   "metadata": {
    "colab": {},
    "colab_type": "code",
    "id": "p5qOCenyTCSo"
   },
   "outputs": [],
   "source": [
    "def mutacao(jogo):\n",
    "    \n",
    "    dimensao = len(jogo)\n",
    "    \n",
    "    pecas = random.sample(range(dimensao), 2)\n",
    "    \n",
    "    jogo[pecas[1]] = pecas[0]"
   ]
  },
  {
   "cell_type": "code",
   "execution_count": 31,
   "metadata": {},
   "outputs": [],
   "source": [
    "def mutacaoInteligente(jogo):\n",
    "    pass"
   ]
  },
  {
   "cell_type": "code",
   "execution_count": 27,
   "metadata": {
    "colab": {},
    "colab_type": "code",
    "id": "kAFtaPBBWmzv"
   },
   "outputs": [],
   "source": [
    "def algoritmoGenetico(populacao, f_heuristica, f_cruzamento, f_mutacao, MAX = 1000, passado = None):\n",
    "    \n",
    "    def procriacao(pais):\n",
    "        \n",
    "        pai, mae = pais\n",
    "        f1 = f_cruzamento(pai, mae)\n",
    "\n",
    "        mutacao = random.choices([True, False], weights=[0.1, 0.9])[0]\n",
    "\n",
    "        if mutacao: f_mutacao(f1)\n",
    "          \n",
    "        return (f_heuristica(f1), f1)\n",
    "          \n",
    "    tam = len(populacao)\n",
    "    \n",
    "    chave = lambda x: x[0]\n",
    "    \n",
    "    pop_sobrev = round(0.2*tam)\n",
    "    \n",
    "    escolha = lambda x, y: random.choices(y[:,1], weights = 1/y[:,0], k = 2)\n",
    "    \n",
    "    if isinstance(passado, type(None)):\n",
    "        pop = copy.deepcopy(populacao)\n",
    "      \n",
    "        p_map = list(map(lambda x: (f_heuristica(x),x) , pop))\n",
    "      \n",
    "        ordem = np.array(sorted(p_map, key = chave))\n",
    "    \n",
    "    else:\n",
    "        ordem = passado\n",
    "      \n",
    "      \n",
    "    pbar = tqdm(total = MAX)\n",
    "    \n",
    "    for iter in range(MAX):\n",
    "        \n",
    "        nova_pop = heapq.nsmallest(pop_sobrev, ordem, key=chave)\n",
    "        \n",
    "        if nova_pop[0][0] == 0: return nova_pop[0][1]\n",
    "        \n",
    "        filhos = list(map(procriacao, map(lambda x: escolha(x,ordem), range(round(0.8*tam)))))\n",
    "        \n",
    "        ordem = np.array([*nova_pop, *filhos])\n",
    "        \n",
    "        pbar.set_description(\"Melhor peso: {}\".format(nova_pop[0][0]))\n",
    "        pbar.update(1)\n",
    "    \n",
    "    minimo = min(ordem, key=chave)\n",
    "    while True:\n",
    "        \n",
    "        resposta = input('O melhor individuo tem peso {}, quer continuar? [y/n]\\n'.format(minimo[0]))\n",
    "\n",
    "        if resposta == 'y':\n",
    "            return algoritmoGenetico(populacao, f_heuristica, f_cruzamento, f_mutacao,MAX=MAX, passado = ordem)\n",
    "        \n",
    "        elif resposta == 'n': \n",
    "            return minimo[1]\n",
    "    \n",
    "            "
   ]
  },
  {
   "cell_type": "code",
   "execution_count": 32,
   "metadata": {
    "colab": {
     "base_uri": "https://localhost:8080/",
     "height": 34
    },
    "colab_type": "code",
    "id": "yHzJJxp5dzr8",
    "outputId": "095a7cc6-515c-40ac-de63-0c60f66b3f53"
   },
   "outputs": [
    {
     "data": {
      "text/plain": [
       "19"
      ]
     },
     "execution_count": 32,
     "metadata": {},
     "output_type": "execute_result"
    }
   ],
   "source": [
    "pop = np.array([tabRandomico(40) for x in range(10)])\n",
    "\n",
    "peso_map = list(map(lambda x: (heuristica(x),x) , pop))\n",
    "\n",
    "ordem = np.array(sorted(peso_map, key = lambda x: x[0]))\n",
    "\n",
    "ordem[0][0]"
   ]
  },
  {
   "cell_type": "code",
   "execution_count": null,
   "metadata": {
    "colab": {
     "base_uri": "https://localhost:8080/",
     "height": 358
    },
    "colab_type": "code",
    "id": "LnBLnHO8d-3u",
    "outputId": "239506b4-c162-4992-a1d4-9b8bcd4e3c29"
   },
   "outputs": [
    {
     "data": {
      "application/vnd.jupyter.widget-view+json": {
       "model_id": "5da68c50fddf4a0aa02310cb23d34ca5",
       "version_major": 2,
       "version_minor": 0
      },
      "text/plain": [
       "HBox(children=(IntProgress(value=0, max=1000), HTML(value='')))"
      ]
     },
     "metadata": {},
     "output_type": "display_data"
    },
    {
     "name": "stdout",
     "output_type": "stream",
     "text": [
      "O melhor individuo tem peso 13, quer continuar? [y/n]\n",
      "y\n"
     ]
    },
    {
     "data": {
      "application/vnd.jupyter.widget-view+json": {
       "model_id": "6b1b6a05e18347e5a8a89c89b2796176",
       "version_major": 2,
       "version_minor": 0
      },
      "text/plain": [
       "HBox(children=(IntProgress(value=0, max=1000), HTML(value='')))"
      ]
     },
     "metadata": {},
     "output_type": "display_data"
    }
   ],
   "source": [
    "\n",
    "resposta = algoritmoGenetico(pop,\n",
    "                 heuristica,\n",
    "                 cruzamentoInteligente,\n",
    "                 mutacaoInteligente)\n"
   ]
  },
  {
   "cell_type": "code",
   "execution_count": null,
   "metadata": {},
   "outputs": [],
   "source": [
    "printf(resposta)"
   ]
  },
  {
   "cell_type": "markdown",
   "metadata": {
    "colab_type": "text",
    "id": "aeDvmaN1CFoP"
   },
   "source": [
    "## Colonia de Formigas"
   ]
  },
  {
   "cell_type": "code",
   "execution_count": null,
   "metadata": {
    "colab": {},
    "colab_type": "code",
    "id": "Ttm9gHswEiTC"
   },
   "outputs": [],
   "source": [
    "def percorre(jogo)"
   ]
  },
  {
   "cell_type": "code",
   "execution_count": null,
   "metadata": {
    "colab": {},
    "colab_type": "code",
    "id": "qaL50WHHfHpv"
   },
   "outputs": [],
   "source": [
    "\n",
    "class ColoniaFormigas:\n",
    "    def __init__(self, dimensao, quantidade_formigas):\n",
    "        self.dimensao = dimensao\n",
    "        self.quantidade_formigas = quantidade_formigas\n",
    "        \n",
    "        self.ro = 0.001  # (1 - ro) evaporação\n",
    "        self.Q  = 1.0    # Quantidade de feromônio distribuído\n",
    "        self.alfa = 10.0 # peso do feromônio\n",
    "        self.beta = 1.0  # peso do peso da aresta\n",
    "        \n",
    "        self.formigas  = []\n",
    "        self.feromonio = [[{'f':1000, 'p':1} for i in range(dimensao)] for j in range(dimensao) ]\n",
    "        self.calcula_feromonio()\n",
    "        self.max = 1000\n",
    "    \n",
    "    def percorre(self):\n",
    "        dimensao = self.dimensao\n",
    "        jogo = Jogo(dimensao)\n",
    "        linhas_possiveis = [i for i in range(dimensao)]\n",
    "        colunas = random.sample(range(dimensao), k=dimensao)\n",
    "\n",
    "        for coluna in colunas:\n",
    "            p = self.calcula_probabilidade(coluna, linhas_possiveis)\n",
    "            linha = int(choice(linhas_possiveis, 1, p=p)[0])\n",
    "            linhas_possiveis.remove(linha)\n",
    "            jogo[coluna] = (linha, coluna)\n",
    "\n",
    "        self.formigas.append({'jogo':jogo, 'peso':heuristicaIcaro(jogo)})\n",
    "    \n",
    "    \n",
    "    #consulta! nao altera nd\n",
    "    def calcula_probabilidade(self, linha, linhas_possiveis):\n",
    "        p = []\n",
    "        soma = 0.0\n",
    "    \n",
    "        for indice in linhas_possiveis:\n",
    "            \n",
    "            fero = self.feromonio[linha][indice]['f']\n",
    "            peso = self.feromonio[linha][indice]['p']\n",
    "            \n",
    "            tudo = (fero**self.alfa)*(peso**self.beta)\n",
    "            \n",
    "            p.append(tudo)\n",
    "            soma += (tudo)\n",
    "        \n",
    "        p = np.array([x for x in p])\n",
    "        return p/soma\n",
    "        \n",
    "    def calcula_feromonio(self):\n",
    "        dimensao = self.dimensao\n",
    "       \n",
    "        for i in range(dimensao):\n",
    "            for j in range(dimensao):\n",
    "                self.feromonio[i][j]['f'] = (1 - self.ro) * self.feromonio[i][j]['f']\n",
    "\n",
    "                for formiga in self.formigas:\n",
    "                    if (i, j) in formiga['jogo'].pos_damas.values():\n",
    "                        self.feromonio[i][j]['f'] += self.Q/formiga['peso']\n",
    "\n",
    "    def calcular(self):\n",
    "        dimensao = self.dimensao\n",
    "        \n",
    "        for i in tqdm(range(1, self.max)):\n",
    "            self.formigas = []\n",
    "            threads = []\n",
    "            \n",
    "            if i % 500 == 0:\n",
    "                self.Q += 1\n",
    "            \n",
    "            for i in range(self.quantidade_formigas):\n",
    "                t = Thread(target=self.percorre())\n",
    "                t.start()\n",
    "                threads.append(t)\n",
    "                \n",
    "            for t in threads:\n",
    "                t.join()\n",
    "            \n",
    "            for formiga in self.formigas: \n",
    "                if formiga['peso'] == 0: return formiga\n",
    "\n",
    "            self.calcula_feromonio()\n",
    "        \n",
    "        menor = self.formigas[0]\n",
    "        for formiga in self.formigas:\n",
    "            if formiga['peso'] < menor['peso']: menor = formiga\n",
    "                \n",
    "        return menor"
   ]
  }
 ],
 "metadata": {
  "accelerator": "GPU",
  "colab": {
   "collapsed_sections": [],
   "name": "N_Rainhas.ipynb",
   "provenance": []
  },
  "kernelspec": {
   "display_name": "Python 3",
   "language": "python",
   "name": "python3"
  },
  "language_info": {
   "codemirror_mode": {
    "name": "ipython",
    "version": 3
   },
   "file_extension": ".py",
   "mimetype": "text/x-python",
   "name": "python",
   "nbconvert_exporter": "python",
   "pygments_lexer": "ipython3",
   "version": "3.7.4"
  }
 },
 "nbformat": 4,
 "nbformat_minor": 1
}
