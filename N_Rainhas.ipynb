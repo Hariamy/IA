{
 "cells": [
  {
   "cell_type": "markdown",
   "metadata": {
    "colab_type": "text",
    "id": "PyYMENEO_yM_"
   },
   "source": [
    "\n",
    "## Bibliotecas Usadas\n",
    "\n"
   ]
  },
  {
   "cell_type": "code",
   "execution_count": 1,
   "metadata": {
    "colab": {},
    "colab_type": "code",
    "id": "EZW4gU-UKRt4"
   },
   "outputs": [],
   "source": [
    "import random\n",
    "import copy\n",
    "import math\n",
    "#import tqdm\n",
    "from tqdm import tqdm_notebook as tqdm\n",
    "import numpy as np\n",
    "import heapq"
   ]
  },
  {
   "cell_type": "markdown",
   "metadata": {
    "colab_type": "text",
    "id": "pjsCYhak_7i0"
   },
   "source": [
    "## Funções para o tabuleiro"
   ]
  },
  {
   "cell_type": "code",
   "execution_count": 2,
   "metadata": {
    "colab": {},
    "colab_type": "code",
    "id": "7Ni-qAC-KVSD"
   },
   "outputs": [],
   "source": [
    "def toString(jogo):\n",
    "    string = \"\"\n",
    "    \n",
    "    pos = list(enumerate(jogo))\n",
    "    \n",
    "    dimensao = len(jogo)\n",
    "    \n",
    "    for i in range(dimensao):\n",
    "        for j in range(dimensao):\n",
    "            if (j, i) in pos:\n",
    "                string += \"♛\"\n",
    "            else: \n",
    "                string += \"□\"\n",
    "            string += \" \"\n",
    "        string += \"\\n\"\n",
    "    return string"
   ]
  },
  {
   "cell_type": "code",
   "execution_count": 3,
   "metadata": {
    "colab": {},
    "colab_type": "code",
    "id": "UhXoHXhpKcAB"
   },
   "outputs": [],
   "source": [
    "def heuristica(jogo):\n",
    "    \n",
    "    #peso do tabuleiro\n",
    "    peso = 0\n",
    "\n",
    "    #conjunto de pecas nao verificadas\n",
    "    #partes_ocupadas = list(jogo.pos_damas.keys())\n",
    "    \n",
    "    dimensao = len(jogo)\n",
    "    \n",
    "    for i in range(dimensao):\n",
    "        \n",
    "        for j in range(i+1, dimensao):\n",
    "            \n",
    "            posi = np.array([i,jogo[i]])\n",
    "            \n",
    "            posj = np.array([j, jogo[j]])\n",
    "            \n",
    "            delta = abs(posi - posj)\n",
    "            \n",
    "            if delta[0] == delta[1] or posi[0] == posj[0] or posi[1] == posj[1]:\n",
    "                peso += 1\n",
    "        \n",
    "    return peso    "
   ]
  },
  {
   "cell_type": "code",
   "execution_count": 4,
   "metadata": {
    "colab": {},
    "colab_type": "code",
    "id": "5eOFDAbkKfSE"
   },
   "outputs": [],
   "source": [
    "def movimentacaoRandomica(jogo):\n",
    "    \n",
    "    novo_jogo = copy.deepcopy(jogo)\n",
    "    \n",
    "    dimensao = len(jogo)\n",
    "    \n",
    "    #peca aleatoria\n",
    "    peca = random.randint(0, dimensao-1)\n",
    "    \n",
    "    escolha = random.randint(0, dimensao-1)\n",
    "    \n",
    "    novo_jogo[peca] = escolha\n",
    "    \n",
    "    return novo_jogo"
   ]
  },
  {
   "cell_type": "code",
   "execution_count": 5,
   "metadata": {
    "colab": {},
    "colab_type": "code",
    "id": "VpQ6Epvzf-LR"
   },
   "outputs": [],
   "source": [
    "def tabRandomico(dim):\n",
    "  \n",
    "  coiso = random.sample(range(dim), k = dim)\n",
    "  \n",
    "  tab = np.array(coiso)\n",
    "  \n",
    "  return tab"
   ]
  },
  {
   "cell_type": "markdown",
   "metadata": {
    "colab_type": "text",
    "id": "upnz7Tr4ABJK"
   },
   "source": [
    "## Simulated Anneling"
   ]
  },
  {
   "cell_type": "code",
   "execution_count": 51,
   "metadata": {
    "colab": {},
    "colab_type": "code",
    "id": "_JmcUluwKrad"
   },
   "outputs": [],
   "source": [
    "def simulatedAnnealing(funcao_peso, funcao_jogada, jogo, MAX = 10000, C=1, passado=None):\n",
    "    \n",
    "    \n",
    "    if isinstance(passado, type(None)): \n",
    "        atual = copy.deepcopy(jogo)\n",
    "    else:\n",
    "        atual = passado\n",
    "    \n",
    "    prob = lambda x, y, z: np.exp( (x - y)/z )\n",
    "    \n",
    "    t = np.arange(1, MAX)\n",
    "    \n",
    "    T = C/np.sqrt(t) \n",
    "    \n",
    "    pbar = tqdm(total=MAX)\n",
    "\n",
    "    for t in T:\n",
    "                    \n",
    "        viz = funcao_jogada(atual)\n",
    "        \n",
    "        p_atual = funcao_peso(atual)\n",
    "        p_viz = funcao_peso(viz)\n",
    "        \n",
    "        if t <= 0.005 or p_atual == 0: return atual\n",
    "        \n",
    "        if p_viz <= p_atual:\n",
    "            atual = viz\n",
    "        \n",
    "        else:\n",
    "            probabilidade = prob(p_atual, p_viz, t)\n",
    "            atual = random.choices([viz, atual], weights= [probabilidade, 1-probabilidade])[0]\n",
    "        \n",
    "        #pbar.update(1)\n",
    "        pbar.set_description(\"Peso atual: {}\".format( funcao_peso(atual) ) )\n",
    "        pbar.update(1)\n",
    "\n",
    "    while True:\n",
    "        resposta = input('O peso atual é {}, gostaria de continuar? [y/n]'.format(funcao_peso(atual)))\n",
    "        \n",
    "        if resposta == 'y': \n",
    "            return simulatedAnnealing(funcao_peso, funcao_jogada, jogo,C=C,MAX=MAX, passado=atual)\n",
    "        elif resposta == 'n':\n",
    "            return atual"
   ]
  },
  {
   "cell_type": "code",
   "execution_count": 52,
   "metadata": {
    "colab": {},
    "colab_type": "code",
    "id": "IMGOOkFeKxN_"
   },
   "outputs": [
    {
     "data": {
      "text/plain": [
       "780"
      ]
     },
     "execution_count": 52,
     "metadata": {},
     "output_type": "execute_result"
    }
   ],
   "source": [
    "jogo = np.arange(40)\n",
    "heuristica(jogo)"
   ]
  },
  {
   "cell_type": "code",
   "execution_count": 55,
   "metadata": {
    "colab": {
     "base_uri": "https://localhost:8080/",
     "height": 34
    },
    "colab_type": "code",
    "id": "Ll5KTuNsK2w6",
    "outputId": "11f328c7-3c13-466f-f157-f04360864150"
   },
   "outputs": [
    {
     "data": {
      "text/plain": [
       "'\\nteste = simulatedAnnealing(heuristica,\\n                  movimentacaoRandomica,\\n                  jogo)\\n'"
      ]
     },
     "execution_count": 55,
     "metadata": {},
     "output_type": "execute_result"
    }
   ],
   "source": [
    "'''\n",
    "teste = simulatedAnnealing(heuristica,\n",
    "                  movimentacaoRandomica,\n",
    "                  jogo)\n",
    "'''                  "
   ]
  },
  {
   "cell_type": "markdown",
   "metadata": {
    "colab_type": "text",
    "id": "fW6gqGSwALdq"
   },
   "source": [
    "## Algoritmo Genetico"
   ]
  },
  {
   "cell_type": "code",
   "execution_count": 56,
   "metadata": {
    "colab": {},
    "colab_type": "code",
    "id": "eMijXdnCMOTB"
   },
   "outputs": [],
   "source": [
    "def cruzamento(pai, mae):\n",
    "    \n",
    "    dimensao = len(pai)\n",
    "    \n",
    "    crossouver = random.randint(1,len(pai)-1)\n",
    "    \n",
    "    f1 = [*pai[:crossouver], *mae[crossouver:]]\n",
    "        \n",
    "    return f1"
   ]
  },
  {
   "cell_type": "code",
   "execution_count": 57,
   "metadata": {
    "colab": {},
    "colab_type": "code",
    "id": "p5qOCenyTCSo"
   },
   "outputs": [],
   "source": [
    "def mutacao(jogo):\n",
    "    \n",
    "    dimensao = len(jogo)\n",
    "    \n",
    "    pecas = random.sample(range(dimensao), 2)\n",
    "    \n",
    "    jogo[pecas[1]] = pecas[0]"
   ]
  },
  {
   "cell_type": "code",
   "execution_count": 63,
   "metadata": {
    "colab": {},
    "colab_type": "code",
    "id": "kAFtaPBBWmzv"
   },
   "outputs": [],
   "source": [
    "def algoritmoGenetico(populacao, f_heuristica, f_cruzamento, f_mutacao, MAX = 1000, passado = None):\n",
    "    \n",
    "    def procriacao(pais):\n",
    "        \n",
    "        pai, mae = pais\n",
    "        f1 = f_cruzamento(pai, mae)\n",
    "\n",
    "        mutacao = random.choices([True, False], weights=[0.1, 0.9])[0]\n",
    "\n",
    "        if mutacao: f_mutacao(f1)\n",
    "          \n",
    "        return (f_heuristica(f1), f1)\n",
    "          \n",
    "        \n",
    "    \n",
    "    tam = len(populacao)\n",
    "    \n",
    "    \n",
    "    chave = lambda x: x[0]\n",
    "    \n",
    "    pop_sobrev = round(0.2*tam)\n",
    "    \n",
    "    escolha = lambda x, y: random.choices(y[:,1], weights = 1/y[:,0], k = 2)\n",
    "    \n",
    "    if isinstance(passado, type(None)):\n",
    "        pop = copy.deepcopy(populacao)\n",
    "      \n",
    "        p_map = list(map(lambda x: (f_heuristica(x),x) , pop))\n",
    "      \n",
    "        ordem = np.array(sorted(p_map, key = chave))\n",
    "    \n",
    "    else:\n",
    "        ordem = passado\n",
    "      \n",
    "      \n",
    "    pbar = tqdm(total = MAX)\n",
    "    \n",
    "    for iter in range(MAX):\n",
    "        \n",
    "        \n",
    "        nova_pop = heapq.nsmallest(pop_sobrev, ordem, key=chave)\n",
    "        \n",
    "        if nova_pop[0][0] == 0: return nova_pop[0][1]\n",
    "        \n",
    "        filhos = list(map(procriacao, map(lambda x: escolha(x,ordem), range(round(0.8*tam)))))\n",
    "        \n",
    "        ordem = np.array([*nova_pop, *filhos])\n",
    "        \n",
    "        pbar.set_description(\"Melhor peso: {}\".format(nova_pop[0][0]))\n",
    "        pbar.update(1)\n",
    "    \n",
    "    minimo = min(ordem, key=chave)\n",
    "    while True:\n",
    "        \n",
    "        resposta = input('O melhor individuo tem peso {}, quer continuar? [y/n]\\n'.format(minimo[0]))\n",
    "\n",
    "        if resposta == 'y':\n",
    "            return algoritmoGenetico(populacao, f_heuristica, f_cruzamento, f_mutacao,MAX=MAX, passado = ordem)\n",
    "        \n",
    "        elif resposta == 'n': \n",
    "            return minimo[1]\n",
    "    \n",
    "            "
   ]
  },
  {
   "cell_type": "code",
   "execution_count": 67,
   "metadata": {
    "colab": {
     "base_uri": "https://localhost:8080/",
     "height": 34
    },
    "colab_type": "code",
    "id": "yHzJJxp5dzr8",
    "outputId": "095a7cc6-515c-40ac-de63-0c60f66b3f53"
   },
   "outputs": [
    {
     "data": {
      "text/plain": [
       "23"
      ]
     },
     "execution_count": 67,
     "metadata": {},
     "output_type": "execute_result"
    }
   ],
   "source": [
    "pop = np.array([tabRandomico(40) for x in range(10)])\n",
    "\n",
    "peso_map = list(map(lambda x: (heuristica(x),x) , pop))\n",
    "\n",
    "ordem = np.array(sorted(peso_map, key = lambda x: x[0]))\n",
    "\n",
    "ordem[0][0]"
   ]
  },
  {
   "cell_type": "code",
   "execution_count": 68,
   "metadata": {
    "colab": {},
    "colab_type": "code",
    "id": "YXA6EhejKPtM"
   },
   "outputs": [],
   "source": [
    "def cruzamentoIcaro(pai, mae):\n",
    "  \n",
    "  f1 = np.arange(len(pai))\n",
    "  \n",
    "  alternado = lambda x: mae[x] if x%2==0 else pai[x]\n",
    "  \n",
    "  return list(map(alternado, f1))"
   ]
  },
  {
   "cell_type": "code",
   "execution_count": 70,
   "metadata": {
    "colab": {
     "base_uri": "https://localhost:8080/",
     "height": 358
    },
    "colab_type": "code",
    "id": "LnBLnHO8d-3u",
    "outputId": "239506b4-c162-4992-a1d4-9b8bcd4e3c29"
   },
   "outputs": [
    {
     "data": {
      "application/vnd.jupyter.widget-view+json": {
       "model_id": "32b9827134b2480d97aacdd814ed030e",
       "version_major": 2,
       "version_minor": 0
      },
      "text/plain": [
       "HBox(children=(IntProgress(value=0, max=1000), HTML(value='')))"
      ]
     },
     "metadata": {},
     "output_type": "display_data"
    },
    {
     "ename": "KeyboardInterrupt",
     "evalue": "",
     "output_type": "error",
     "traceback": [
      "\u001b[0;31m---------------------------------------------------------------------------\u001b[0m",
      "\u001b[0;31mKeyboardInterrupt\u001b[0m                         Traceback (most recent call last)",
      "\u001b[0;32m<ipython-input-70-b11b734eeffb>\u001b[0m in \u001b[0;36m<module>\u001b[0;34m\u001b[0m\n\u001b[1;32m      2\u001b[0m                  \u001b[0mheuristica\u001b[0m\u001b[0;34m,\u001b[0m\u001b[0;34m\u001b[0m\u001b[0;34m\u001b[0m\u001b[0m\n\u001b[1;32m      3\u001b[0m                  \u001b[0mcruzamento\u001b[0m\u001b[0;34m,\u001b[0m\u001b[0;34m\u001b[0m\u001b[0;34m\u001b[0m\u001b[0m\n\u001b[0;32m----> 4\u001b[0;31m                  mutacao)\n\u001b[0m\u001b[1;32m      5\u001b[0m \u001b[0;34m\u001b[0m\u001b[0m\n",
      "\u001b[0;32m<ipython-input-63-f38180cb85cd>\u001b[0m in \u001b[0;36malgoritmoGenetico\u001b[0;34m(populacao, f_heuristica, f_cruzamento, f_mutacao, MAX, passado)\u001b[0m\n\u001b[1;32m     43\u001b[0m         \u001b[0;32mif\u001b[0m \u001b[0mnova_pop\u001b[0m\u001b[0;34m[\u001b[0m\u001b[0;36m0\u001b[0m\u001b[0;34m]\u001b[0m\u001b[0;34m[\u001b[0m\u001b[0;36m0\u001b[0m\u001b[0;34m]\u001b[0m \u001b[0;34m==\u001b[0m \u001b[0;36m0\u001b[0m\u001b[0;34m:\u001b[0m \u001b[0;32mreturn\u001b[0m \u001b[0mnova_pop\u001b[0m\u001b[0;34m[\u001b[0m\u001b[0;36m0\u001b[0m\u001b[0;34m]\u001b[0m\u001b[0;34m[\u001b[0m\u001b[0;36m1\u001b[0m\u001b[0;34m]\u001b[0m\u001b[0;34m\u001b[0m\u001b[0;34m\u001b[0m\u001b[0m\n\u001b[1;32m     44\u001b[0m \u001b[0;34m\u001b[0m\u001b[0m\n\u001b[0;32m---> 45\u001b[0;31m         \u001b[0mfilhos\u001b[0m \u001b[0;34m=\u001b[0m \u001b[0mlist\u001b[0m\u001b[0;34m(\u001b[0m\u001b[0mmap\u001b[0m\u001b[0;34m(\u001b[0m\u001b[0mprocriacao\u001b[0m\u001b[0;34m,\u001b[0m \u001b[0mmap\u001b[0m\u001b[0;34m(\u001b[0m\u001b[0;32mlambda\u001b[0m \u001b[0mx\u001b[0m\u001b[0;34m:\u001b[0m \u001b[0mescolha\u001b[0m\u001b[0;34m(\u001b[0m\u001b[0mx\u001b[0m\u001b[0;34m,\u001b[0m\u001b[0mordem\u001b[0m\u001b[0;34m)\u001b[0m\u001b[0;34m,\u001b[0m \u001b[0mrange\u001b[0m\u001b[0;34m(\u001b[0m\u001b[0mround\u001b[0m\u001b[0;34m(\u001b[0m\u001b[0;36m0.8\u001b[0m\u001b[0;34m*\u001b[0m\u001b[0mtam\u001b[0m\u001b[0;34m)\u001b[0m\u001b[0;34m)\u001b[0m\u001b[0;34m)\u001b[0m\u001b[0;34m)\u001b[0m\u001b[0;34m)\u001b[0m\u001b[0;34m\u001b[0m\u001b[0;34m\u001b[0m\u001b[0m\n\u001b[0m\u001b[1;32m     46\u001b[0m \u001b[0;34m\u001b[0m\u001b[0m\n\u001b[1;32m     47\u001b[0m         \u001b[0mordem\u001b[0m \u001b[0;34m=\u001b[0m \u001b[0mnp\u001b[0m\u001b[0;34m.\u001b[0m\u001b[0marray\u001b[0m\u001b[0;34m(\u001b[0m\u001b[0;34m[\u001b[0m\u001b[0;34m*\u001b[0m\u001b[0mnova_pop\u001b[0m\u001b[0;34m,\u001b[0m \u001b[0;34m*\u001b[0m\u001b[0mfilhos\u001b[0m\u001b[0;34m]\u001b[0m\u001b[0;34m)\u001b[0m\u001b[0;34m\u001b[0m\u001b[0;34m\u001b[0m\u001b[0m\n",
      "\u001b[0;32m<ipython-input-63-f38180cb85cd>\u001b[0m in \u001b[0;36mprocriacao\u001b[0;34m(pais)\u001b[0m\n\u001b[1;32m     10\u001b[0m         \u001b[0;32mif\u001b[0m \u001b[0mmutacao\u001b[0m\u001b[0;34m:\u001b[0m \u001b[0mf_mutacao\u001b[0m\u001b[0;34m(\u001b[0m\u001b[0mf1\u001b[0m\u001b[0;34m)\u001b[0m\u001b[0;34m\u001b[0m\u001b[0;34m\u001b[0m\u001b[0m\n\u001b[1;32m     11\u001b[0m \u001b[0;34m\u001b[0m\u001b[0m\n\u001b[0;32m---> 12\u001b[0;31m         \u001b[0;32mreturn\u001b[0m \u001b[0;34m(\u001b[0m\u001b[0mf_heuristica\u001b[0m\u001b[0;34m(\u001b[0m\u001b[0mf1\u001b[0m\u001b[0;34m)\u001b[0m\u001b[0;34m,\u001b[0m \u001b[0mf1\u001b[0m\u001b[0;34m)\u001b[0m\u001b[0;34m\u001b[0m\u001b[0;34m\u001b[0m\u001b[0m\n\u001b[0m\u001b[1;32m     13\u001b[0m \u001b[0;34m\u001b[0m\u001b[0m\n\u001b[1;32m     14\u001b[0m \u001b[0;34m\u001b[0m\u001b[0m\n",
      "\u001b[0;32m<ipython-input-3-13b49d8a7bbb>\u001b[0m in \u001b[0;36mheuristica\u001b[0;34m(jogo)\u001b[0m\n\u001b[1;32m     15\u001b[0m             \u001b[0mposi\u001b[0m \u001b[0;34m=\u001b[0m \u001b[0mnp\u001b[0m\u001b[0;34m.\u001b[0m\u001b[0marray\u001b[0m\u001b[0;34m(\u001b[0m\u001b[0;34m[\u001b[0m\u001b[0mi\u001b[0m\u001b[0;34m,\u001b[0m\u001b[0mjogo\u001b[0m\u001b[0;34m[\u001b[0m\u001b[0mi\u001b[0m\u001b[0;34m]\u001b[0m\u001b[0;34m]\u001b[0m\u001b[0;34m)\u001b[0m\u001b[0;34m\u001b[0m\u001b[0;34m\u001b[0m\u001b[0m\n\u001b[1;32m     16\u001b[0m \u001b[0;34m\u001b[0m\u001b[0m\n\u001b[0;32m---> 17\u001b[0;31m             \u001b[0mposj\u001b[0m \u001b[0;34m=\u001b[0m \u001b[0mnp\u001b[0m\u001b[0;34m.\u001b[0m\u001b[0marray\u001b[0m\u001b[0;34m(\u001b[0m\u001b[0;34m[\u001b[0m\u001b[0mj\u001b[0m\u001b[0;34m,\u001b[0m \u001b[0mjogo\u001b[0m\u001b[0;34m[\u001b[0m\u001b[0mj\u001b[0m\u001b[0;34m]\u001b[0m\u001b[0;34m]\u001b[0m\u001b[0;34m)\u001b[0m\u001b[0;34m\u001b[0m\u001b[0;34m\u001b[0m\u001b[0m\n\u001b[0m\u001b[1;32m     18\u001b[0m \u001b[0;34m\u001b[0m\u001b[0m\n\u001b[1;32m     19\u001b[0m             \u001b[0mdelta\u001b[0m \u001b[0;34m=\u001b[0m \u001b[0mabs\u001b[0m\u001b[0;34m(\u001b[0m\u001b[0mposi\u001b[0m \u001b[0;34m-\u001b[0m \u001b[0mposj\u001b[0m\u001b[0;34m)\u001b[0m\u001b[0;34m\u001b[0m\u001b[0;34m\u001b[0m\u001b[0m\n",
      "\u001b[0;31mKeyboardInterrupt\u001b[0m: "
     ]
    }
   ],
   "source": [
    "\n",
    "teste = algoritmoGenetico(pop,\n",
    "                 heuristica,\n",
    "                 cruzamento,\n",
    "                 mutacao)\n",
    "\n"
   ]
  },
  {
   "cell_type": "markdown",
   "metadata": {
    "colab_type": "text",
    "id": "aeDvmaN1CFoP"
   },
   "source": [
    "## Colonia de Formigas"
   ]
  },
  {
   "cell_type": "code",
   "execution_count": 0,
   "metadata": {
    "colab": {},
    "colab_type": "code",
    "id": "Ttm9gHswEiTC"
   },
   "outputs": [],
   "source": [
    "def percorre(jogo)"
   ]
  },
  {
   "cell_type": "code",
   "execution_count": 0,
   "metadata": {
    "colab": {},
    "colab_type": "code",
    "id": "qaL50WHHfHpv"
   },
   "outputs": [],
   "source": [
    "\n",
    "class ColoniaFormigas:\n",
    "    def __init__(self, dimensao, quantidade_formigas):\n",
    "        self.dimensao = dimensao\n",
    "        self.quantidade_formigas = quantidade_formigas\n",
    "        \n",
    "        self.ro = 0.001  # (1 - ro) evaporação\n",
    "        self.Q  = 1.0    # Quantidade de feromônio distribuído\n",
    "        self.alfa = 10.0 # peso do feromônio\n",
    "        self.beta = 1.0  # peso do peso da aresta\n",
    "        \n",
    "        self.formigas  = []\n",
    "        self.feromonio = [[{'f':1000, 'p':1} for i in range(dimensao)] for j in range(dimensao) ]\n",
    "        self.calcula_feromonio()\n",
    "        self.max = 1000\n",
    "    \n",
    "    def percorre(self):\n",
    "        dimensao = self.dimensao\n",
    "        jogo = Jogo(dimensao)\n",
    "        linhas_possiveis = [i for i in range(dimensao)]\n",
    "        colunas = random.sample(range(dimensao), k=dimensao)\n",
    "\n",
    "        for coluna in colunas:\n",
    "            p = self.calcula_probabilidade(coluna, linhas_possiveis)\n",
    "            linha = int(choice(linhas_possiveis, 1, p=p)[0])\n",
    "            linhas_possiveis.remove(linha)\n",
    "            jogo[coluna] = (linha, coluna)\n",
    "\n",
    "        self.formigas.append({'jogo':jogo, 'peso':heuristicaIcaro(jogo)})\n",
    "    \n",
    "    \n",
    "    #consulta! nao altera nd\n",
    "    def calcula_probabilidade(self, linha, linhas_possiveis):\n",
    "        p = []\n",
    "        soma = 0.0\n",
    "    \n",
    "        for indice in linhas_possiveis:\n",
    "            \n",
    "            fero = self.feromonio[linha][indice]['f']\n",
    "            peso = self.feromonio[linha][indice]['p']\n",
    "            \n",
    "            tudo = (fero**self.alfa)*(peso**self.beta)\n",
    "            \n",
    "            p.append(tudo)\n",
    "            soma += (tudo)\n",
    "        \n",
    "        p = np.array([x for x in p])\n",
    "        return p/soma\n",
    "        \n",
    "    def calcula_feromonio(self):\n",
    "        dimensao = self.dimensao\n",
    "       \n",
    "        for i in range(dimensao):\n",
    "            for j in range(dimensao):\n",
    "                self.feromonio[i][j]['f'] = (1 - self.ro) * self.feromonio[i][j]['f']\n",
    "\n",
    "                for formiga in self.formigas:\n",
    "                    if (i, j) in formiga['jogo'].pos_damas.values():\n",
    "                        self.feromonio[i][j]['f'] += self.Q/formiga['peso']\n",
    "\n",
    "    def calcular(self):\n",
    "        dimensao = self.dimensao\n",
    "        \n",
    "        for i in tqdm(range(1, self.max)):\n",
    "            self.formigas = []\n",
    "            threads = []\n",
    "            \n",
    "            if i % 500 == 0:\n",
    "                self.Q += 1\n",
    "            \n",
    "            for i in range(self.quantidade_formigas):\n",
    "                t = Thread(target=self.percorre())\n",
    "                t.start()\n",
    "                threads.append(t)\n",
    "                \n",
    "            for t in threads:\n",
    "                t.join()\n",
    "            \n",
    "            for formiga in self.formigas: \n",
    "                if formiga['peso'] == 0: return formiga\n",
    "\n",
    "            self.calcula_feromonio()\n",
    "        \n",
    "        menor = self.formigas[0]\n",
    "        for formiga in self.formigas:\n",
    "            if formiga['peso'] < menor['peso']: menor = formiga\n",
    "                \n",
    "        return menor"
   ]
  }
 ],
 "metadata": {
  "accelerator": "GPU",
  "colab": {
   "collapsed_sections": [],
   "name": "N_Rainhas.ipynb",
   "provenance": []
  },
  "kernelspec": {
   "display_name": "Python 3",
   "language": "python",
   "name": "python3"
  },
  "language_info": {
   "codemirror_mode": {
    "name": "ipython",
    "version": 3
   },
   "file_extension": ".py",
   "mimetype": "text/x-python",
   "name": "python",
   "nbconvert_exporter": "python",
   "pygments_lexer": "ipython3",
   "version": "3.7.4"
  }
 },
 "nbformat": 4,
 "nbformat_minor": 1
}
