{
 "cells": [
  {
   "cell_type": "code",
   "execution_count": 142,
   "metadata": {},
   "outputs": [],
   "source": [
    "import numpy as np\n",
    "from collections import deque\n",
    "import random\n",
    "import copy"
   ]
  },
  {
   "cell_type": "code",
   "execution_count": 321,
   "metadata": {},
   "outputs": [],
   "source": [
    "def Correspondencia(no):\n",
    "    if not no.pai:\n",
    "        return False\n",
    "    \n",
    "    proximo = no.pai\n",
    "    \n",
    "    while proximo:\n",
    "        \n",
    "        if proximo == no:\n",
    "            return True\n",
    "        else:\n",
    "            proximo = proximo.pai\n",
    "    return False"
   ]
  },
  {
   "cell_type": "code",
   "execution_count": 290,
   "metadata": {},
   "outputs": [],
   "source": [
    "class Jogo:\n",
    "    \n",
    "    def __init__(self, dimensao, gabarito=False):\n",
    "        \n",
    "        tabuleiro = []\n",
    "        k=1\n",
    "        for i in range(0,dimensao):\n",
    "            tabuleiro.append([])\n",
    "            for j in range(0, dimensao):\n",
    "                tabuleiro[i].append(k)\n",
    "                k+=1\n",
    "                                \n",
    "        tabuleiro[-1][-1] = None\n",
    "        \n",
    "        self.vazio = (dimensao-1, dimensao-1)\n",
    "        self.tabuleiro = tabuleiro\n",
    "        self.dimensao = dimensao\n",
    "    \n",
    "   \n",
    "    def copy(self):\n",
    "        return copy.deepcopy(self)\n",
    "    \n",
    "    def jogada(self, pos):\n",
    "        novo = self.copy()\n",
    "        \n",
    "        if pos[0] >= self.dimensao or pos[1] >= self.dimensao: return novo\n",
    "        \n",
    "        possibilidades = [\n",
    "            (pos[0]-1, pos[1]),\n",
    "            (pos[0]+1, pos[1]),\n",
    "            (pos[0], pos[1]+1),\n",
    "            (pos[0], pos[1]-1)\n",
    "        ]\n",
    "        \n",
    "        possibilidades = filter(lambda x: (x[0] >= 0 and x[0] <= self.dimensao) and \n",
    "               (x[1] >= 0 and x[1] <= self.dimensao), possibilidades)\n",
    "        \n",
    "        if self.vazio in possibilidades:\n",
    "            \n",
    "            novo.tabuleiro[self.vazio[0]][self.vazio[1]] = novo.tabuleiro[pos[0]][pos[1]]\n",
    "            \n",
    "            novo.tabuleiro[pos[0]][pos[1]] = None\n",
    "            \n",
    "            novo.vazio = pos\n",
    "            \n",
    "        return novo\n",
    "    \n",
    "    def getVizinhos(self):\n",
    "        pos = self.vazio\n",
    "        possibilidades = [\n",
    "            (pos[0]-1, pos[1]),\n",
    "            (pos[0]+1, pos[1]),\n",
    "            (pos[0], pos[1]+1),\n",
    "            (pos[0], pos[1]-1)\n",
    "        ]\n",
    "        \n",
    "        possibilidades = filter(lambda x: (x[0] >= 0 and x[0] <= self.dimensao) and \n",
    "               (x[1] >= 0 and x[1] <= self.dimensao), possibilidades)\n",
    "        \n",
    "        return list(possibilidades)\n",
    "        \n",
    "    def embaralha(self, vezes):\n",
    "        \n",
    "        proximo = self.copy()\n",
    "        \n",
    "        for i in range(0,vezes):\n",
    "            x = proximo.getVizinhos()\n",
    "            \n",
    "            pos = random.choice(x)\n",
    "            \n",
    "            proximo = proximo.jogada(pos)\n",
    "            \n",
    "        \n",
    "        return proximo\n",
    "\n",
    "    def __eq__(self, outro):\n",
    "        return (self.vazio == outro.vazio and self.tabuleiro == outro.tabuleiro)\n",
    "    "
   ]
  },
  {
   "cell_type": "code",
   "execution_count": null,
   "metadata": {},
   "outputs": [],
   "source": []
  },
  {
   "cell_type": "code",
   "execution_count": null,
   "metadata": {},
   "outputs": [],
   "source": []
  },
  {
   "cell_type": "code",
   "execution_count": null,
   "metadata": {},
   "outputs": [],
   "source": []
  },
  {
   "cell_type": "code",
   "execution_count": null,
   "metadata": {},
   "outputs": [],
   "source": []
  },
  {
   "cell_type": "code",
   "execution_count": null,
   "metadata": {},
   "outputs": [],
   "source": []
  },
  {
   "cell_type": "code",
   "execution_count": null,
   "metadata": {},
   "outputs": [],
   "source": []
  },
  {
   "cell_type": "code",
   "execution_count": 304,
   "metadata": {},
   "outputs": [],
   "source": [
    "class No:\n",
    "    def __init__(self, conteudo,pai):\n",
    "        \n",
    "        self.pai = pai\n",
    "        self.conteudo = conteudo\n",
    "        self.filhos = list()\n",
    "    \n",
    "    def add(self, conteudo):    \n",
    "        filho = No(conteudo, self)\n",
    "        self.filhos.append(filho)\n",
    "        \n",
    "    def __eq__(self, outro):\n",
    "        \n",
    "        return (self.conteudo == outro.conteudo)"
   ]
  },
  {
   "cell_type": "code",
   "execution_count": 326,
   "metadata": {},
   "outputs": [],
   "source": [
    "def CriarFilhos(no):\n",
    "    t = no.conteudo\n",
    "    \n",
    "    pos = t.getVizinhos()\n",
    "    \n",
    "    filhos = []\n",
    "    \n",
    "    for coord in pos:\n",
    "        \n",
    "        j = t.jogada(coord)\n",
    "        \n",
    "        if j != t and Correspondencia(No(j,no)): filhos.append(No(j,no))\n",
    "    \n",
    "    return filhos\n",
    "            \n",
    "    \n",
    "    \n",
    "    "
   ]
  },
  {
   "cell_type": "code",
   "execution_count": 338,
   "metadata": {},
   "outputs": [],
   "source": [
    "def BuscaEmLargura(arvore, no):\n",
    "    \n",
    "    if no == arvore:\n",
    "        return arvore\n",
    "    \n",
    "    proximos = CriarFilhos(arvore)\n",
    "    print(len(proximos))\n",
    "    while len(proximos) != 0:\n",
    "        \n",
    "        filho = proximos.pop(0)\n",
    "        \n",
    "        if filho == no:\n",
    "            return filho\n",
    "        \n",
    "        \n",
    "        \n",
    "        for x in CriarFilhos(filho): proximos.append(x)\n",
    "    \n",
    "    return None\n",
    "        \n",
    "        "
   ]
  },
  {
   "cell_type": "code",
   "execution_count": 339,
   "metadata": {},
   "outputs": [],
   "source": [
    "play = t.embaralha(1000)\n",
    "inicio = No(play,None)\n",
    "fim = No(t,None)"
   ]
  },
  {
   "cell_type": "code",
   "execution_count": 340,
   "metadata": {},
   "outputs": [
    {
     "name": "stdout",
     "output_type": "stream",
     "text": [
      "0\n"
     ]
    }
   ],
   "source": [
    "resultado = BuscaEmLargura(inicio, fim) "
   ]
  },
  {
   "cell_type": "code",
   "execution_count": 337,
   "metadata": {},
   "outputs": [
    {
     "data": {
      "text/plain": [
       "True"
      ]
     },
     "execution_count": 337,
     "metadata": {},
     "output_type": "execute_result"
    }
   ],
   "source": [
    "resultado "
   ]
  },
  {
   "cell_type": "code",
   "execution_count": 47,
   "metadata": {},
   "outputs": [],
   "source": [
    "arvore.add(30)"
   ]
  },
  {
   "cell_type": "code",
   "execution_count": 53,
   "metadata": {},
   "outputs": [
    {
     "data": {
      "text/plain": [
       "20"
      ]
     },
     "execution_count": 53,
     "metadata": {},
     "output_type": "execute_result"
    }
   ],
   "source": [
    "arvore.filhos[0].pai.conteudo"
   ]
  },
  {
   "cell_type": "code",
   "execution_count": 310,
   "metadata": {},
   "outputs": [],
   "source": [
    "t = Jogo(4)"
   ]
  },
  {
   "cell_type": "code",
   "execution_count": 311,
   "metadata": {},
   "outputs": [],
   "source": [
    "x = t.jogada([3,2])"
   ]
  },
  {
   "cell_type": "code",
   "execution_count": 312,
   "metadata": {},
   "outputs": [],
   "source": [
    "raiz = No(t, None)"
   ]
  },
  {
   "cell_type": "code",
   "execution_count": 313,
   "metadata": {},
   "outputs": [],
   "source": [
    "raiz.add(x)"
   ]
  },
  {
   "cell_type": "code",
   "execution_count": 314,
   "metadata": {},
   "outputs": [],
   "source": [
    "raiz.filhos[0].add(t)"
   ]
  },
  {
   "cell_type": "code",
   "execution_count": 325,
   "metadata": {},
   "outputs": [
    {
     "data": {
      "text/plain": [
       "True"
      ]
     },
     "execution_count": 325,
     "metadata": {},
     "output_type": "execute_result"
    }
   ],
   "source": [
    "Correspondencia(raiz.filhos[0].filhos[0])"
   ]
  },
  {
   "cell_type": "code",
   "execution_count": null,
   "metadata": {},
   "outputs": [],
   "source": []
  },
  {
   "cell_type": "code",
   "execution_count": null,
   "metadata": {},
   "outputs": [],
   "source": []
  },
  {
   "cell_type": "code",
   "execution_count": null,
   "metadata": {},
   "outputs": [],
   "source": []
  },
  {
   "cell_type": "code",
   "execution_count": null,
   "metadata": {},
   "outputs": [],
   "source": []
  },
  {
   "cell_type": "code",
   "execution_count": null,
   "metadata": {},
   "outputs": [],
   "source": []
  },
  {
   "cell_type": "code",
   "execution_count": null,
   "metadata": {},
   "outputs": [],
   "source": []
  },
  {
   "cell_type": "code",
   "execution_count": null,
   "metadata": {},
   "outputs": [],
   "source": []
  },
  {
   "cell_type": "code",
   "execution_count": null,
   "metadata": {},
   "outputs": [],
   "source": []
  },
  {
   "cell_type": "code",
   "execution_count": null,
   "metadata": {},
   "outputs": [],
   "source": []
  },
  {
   "cell_type": "code",
   "execution_count": null,
   "metadata": {},
   "outputs": [],
   "source": []
  },
  {
   "cell_type": "code",
   "execution_count": null,
   "metadata": {},
   "outputs": [],
   "source": []
  },
  {
   "cell_type": "code",
   "execution_count": null,
   "metadata": {},
   "outputs": [],
   "source": []
  },
  {
   "cell_type": "code",
   "execution_count": null,
   "metadata": {},
   "outputs": [],
   "source": []
  },
  {
   "cell_type": "code",
   "execution_count": null,
   "metadata": {},
   "outputs": [],
   "source": []
  }
 ],
 "metadata": {
  "kernelspec": {
   "display_name": "Python 3",
   "language": "python",
   "name": "python3"
  },
  "language_info": {
   "codemirror_mode": {
    "name": "ipython",
    "version": 3
   },
   "file_extension": ".py",
   "mimetype": "text/x-python",
   "name": "python",
   "nbconvert_exporter": "python",
   "pygments_lexer": "ipython3",
   "version": "3.7.2"
  }
 },
 "nbformat": 4,
 "nbformat_minor": 2
}
