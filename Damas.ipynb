{
 "cells": [
  {
   "cell_type": "markdown",
   "metadata": {},
   "source": [
    "# Bibliotecas Usadas"
   ]
  },
  {
   "cell_type": "code",
   "execution_count": 117,
   "metadata": {},
   "outputs": [
    {
     "name": "stdout",
     "output_type": "stream",
     "text": [
      "12 items had no tests:\n",
      "    __main__\n",
      "    __main__.Damas\n",
      "    __main__.Damas.__getitem__\n",
      "    __main__.Damas.__init__\n",
      "    __main__.Damas.__setitem__\n",
      "    __main__.Damas.calcularPeso\n",
      "    __main__.Damas.dimensao\n",
      "    __main__.Damas.getJogadasDiagonais\n",
      "    __main__.Damas.getJogadasObvias\n",
      "    __main__.Damas.getTodasJogadas\n",
      "    __main__.Damas.inicializarPecas\n",
      "    __main__.Damas.pos_damas\n",
      "0 tests in 12 items.\n",
      "0 passed and 0 failed.\n",
      "Test passed.\n"
     ]
    },
    {
     "data": {
      "text/plain": [
       "TestResults(failed=0, attempted=0)"
      ]
     },
     "execution_count": 117,
     "metadata": {},
     "output_type": "execute_result"
    }
   ],
   "source": [
    "# nada rapa, aq eh raiz\n",
    "import doctest\n",
    "doctest.testmod(verbose=True)"
   ]
  },
  {
   "cell_type": "markdown",
   "metadata": {},
   "source": [
    "# Jogo"
   ]
  },
  {
   "cell_type": "markdown",
   "metadata": {},
   "source": [
    "Uma classe para simular um jogo de xadrez apenas com rainhas"
   ]
  },
  {
   "cell_type": "code",
   "execution_count": 123,
   "metadata": {},
   "outputs": [],
   "source": [
    "\n",
    "class Jogo:\n",
    "    \n",
    "    \"\"\"\n",
    "    Construtor da classe\n",
    "    \n",
    "    @param dimensao_tabuleiro: inteiro positivo para dimensao do tabuleiro quadrado\n",
    "    \"\"\"\n",
    "    def __init__(self, dimensao_tabuleiro):\n",
    "        \n",
    "        #guardando a dimensao\n",
    "        self._dimensao = dimensao_tabuleiro\n",
    "        \n",
    "        #inicializando o dicionario de pecas\n",
    "        self._pos_damas = dict()\n",
    "    \n",
    "    \"\"\"\n",
    "    Funcao para preencher a diagonal do tabuleiro com pecas\n",
    "    \"\"\"\n",
    "    def inicializarPecas(self):\n",
    "        self.pos_damas = {'DAMA {}'.format(i): (i,i) for i in range(0, self.dimensao)}\n",
    "    \n",
    "    \"\"\"\n",
    "    Metodo get da dimensao, disparado quando \"self.dimensao\" eh executado\n",
    "    \n",
    "    @return dimensao: a dimensao do tabuleiro quadrado\n",
    "    \"\"\"\n",
    "    @property\n",
    "    def dimensao(self): return self._dimensao\n",
    "\n",
    "    \"\"\"\n",
    "    Metodo set da dimensao, disparado quando \"self.dimensao = value\" eh executado\n",
    "    por medidas de consistencia, as pecas tem suas posicoes anuladas, porem as quantidades sao as mesmas\n",
    "    \n",
    "    @param value: devera ser um inteiro positivo\n",
    "    \"\"\"\n",
    "    @dimensao.setter\n",
    "    def dimensao(self, value):\n",
    "         \n",
    "        #verificacao de consistencia da entrada\n",
    "        if isinstance(value, int) and value >= 0: \n",
    "            self._dimensao = value\n",
    "            \n",
    "            #zerando os valores das pecas\n",
    "            for chave in self._pos_damas: self._pos_damas[chave] = None\n",
    "            \n",
    "        else: print(\"tipo {} nao aceito\".format(type(value)))\n",
    "    \n",
    "    \"\"\"\n",
    "    Metodo get do pos_damas, disparado quando \"self.pos_damas\" eh executado\n",
    "    \n",
    "    @return pos_damas: o dicionario contendo todas as pecas e suas posicoes\n",
    "    \"\"\"\n",
    "    @property\n",
    "    def pos_damas(self): return self._pos_damas.copy()\n",
    "\n",
    "    \"\"\"\n",
    "    Metodo set do pos_damas, disparado quando \"self.pos_damas = value\" eh executado\n",
    "    \n",
    "    @param value: devera ser um dicionario do tipo: chave --> tuple(x, y) tal que\n",
    "    tanto x quanto y sejam inteiros dentro do intervalo [0, self.dimensao[\n",
    "    \"\"\"\n",
    "    @pos_damas.setter\n",
    "    def pos_damas(self, value):\n",
    "        \n",
    "        #verificacao de consistencia da entrada\n",
    "        check = (isinstance(value, dict) and \n",
    "                 all(isinstance(e, tuple)\n",
    "                     and len(e) == 2\n",
    "                     and all(isinstance(i,int) and\n",
    "                             i>=0 and i<self.dimensao\n",
    "                             for i in e)\n",
    "                     for e in value.values()))\n",
    "        \n",
    "        #registrando entrada\n",
    "        if check: self._pos_damas = value\n",
    "        \n",
    "        else: print(\"{} nao aceito como pos_damas\".format(value))\n",
    "    \n",
    "    \"\"\"\n",
    "    Metodo get para uma peca do tabuleiro, disparado quando \"self[idx]\" for executado\n",
    "    \n",
    "    @return pos_damas[idx]: um tuple(int, int) se a chave existir, None c.c.\n",
    "    \"\"\"\n",
    "    def __getitem__(self, idx): return self._pos_damas.get(idx)\n",
    "\n",
    "    \"\"\"\n",
    "    Metodo set para uma nova peca do tabuleiro ou atualizacao de existente,\n",
    "    disparado quando \"self[idx] = value\" for executado\n",
    "    \n",
    "    @param idx: novo/existente peca que sera manipulada\n",
    "    \n",
    "    @param value: novo valor que sera inserido, devera ser um tuple(x, y) tal que\n",
    "    tanto x quanto y sejam inteiros dentro do intervalo [0, self.dimensao[\n",
    "    \"\"\"\n",
    "    def __setitem__(self, idx, value):\n",
    "        \n",
    "        #verificacao de consistencia\n",
    "        check = (isinstance(value, tuple)\n",
    "                 and len(value) == 2 and \n",
    "                 all(isinstance(i,int) and\n",
    "                     i>=0 and\n",
    "                     i<self.dimensao for i in value)) \n",
    "        \n",
    "        #registrando entrada\n",
    "        if check:\n",
    "            self._pos_damas[idx] = value\n",
    "        else: print(\"{} nao aceito como valor\".format(value))\n",
    "            \n",
    "    \"\"\"\n",
    "    Metodo para descobrir as jogadas obvias (horizontais e verticais)\n",
    "    \n",
    "    @param idx: peca que sera movimentada\n",
    "    \n",
    "    @return jogadas: lista de posicoes validas para uma jogada\n",
    "    \"\"\"\n",
    "    def getJogadasObvias(self, idx):\n",
    "        #obtendo a posicao da peca que sera movimentada\n",
    "        ponto = self[idx]\n",
    "        \n",
    "        #se nao existir, vida que segue\n",
    "        if not ponto:\n",
    "            print(\"peca {} nao inicializada\".format(idx))\n",
    "            return None\n",
    "        \n",
    "        #varrendo posicoes nos sentidos\n",
    "        cima = [(ponto[0], i) for i in range(ponto[1]+1, self.dimensao)]\n",
    "        \n",
    "        baixo = [(ponto[0], i) for i in range(ponto[1]-1, -1, -1)]\n",
    "        \n",
    "        direita = [(i, ponto[1]) for i in range(ponto[0]+1, self.dimensao)]\n",
    "        \n",
    "        esquerda = [(i, ponto[1]) for i in range(ponto[0]-1, -1, -1)]\n",
    "        \n",
    "        #concatenando tudo\n",
    "        return [*cima,\n",
    "               *baixo,\n",
    "               *direita,\n",
    "               *esquerda]\n",
    "    \n",
    "    \"\"\"\n",
    "    Metodo para descobrir as jogadas diagonais \n",
    "    \n",
    "    @param idx: peca que sera movimentada\n",
    "    \n",
    "    @return jogadas: lista de posicoes validas para uma jogada\n",
    "    \"\"\"\n",
    "    def getJogadasDiagonais(self, idx):\n",
    "        \n",
    "        #obtendo a posicao da peca que sera movimentada\n",
    "        ponto = self[idx]\n",
    "        \n",
    "        #se nao existir, vida que segue\n",
    "        if not ponto:\n",
    "            print(\"peca {} nao inicializada\".format(idx))\n",
    "            return None\n",
    "\n",
    "        #varrendo posicoes nos sentidos\n",
    "        cima_direita = [(ponto[0]+i, ponto[1]+i) for i in range(1, self.dimensao) if ponto[0]+i < self.dimensao and ponto[1]+i < self.dimensao]\n",
    "        \n",
    "        baixo_direita = [(ponto[0]+i, ponto[1]-i) for i in range(1, self.dimensao) if ponto[0]+i < self.dimensao and ponto[1]-i >=0 ]\n",
    "        \n",
    "        baixo_esquerda = [(ponto[0]-i, ponto[1]-i) for i in range(1, self.dimensao) if ponto[0]-i >= 0 and ponto[1]-i >= 0]\n",
    "        \n",
    "        cima_esquerda = [(ponto[0]-i, ponto[1]+i) for i in range(1, self.dimensao) if ponto[0]-i >= 0 and ponto[1]+i < self.dimensao]\n",
    "        \n",
    "        #concatenando tudo\n",
    "        return [*cima_direita,\n",
    "               *baixo_direita,\n",
    "               *baixo_esquerda,\n",
    "               *cima_esquerda]\n",
    "    \n",
    "    \"\"\"\n",
    "    Metodo para descobrir todas as jogadas possiveis \n",
    "    \n",
    "    @param idx: peca que sera movimentada\n",
    "    \n",
    "    @return jogadas: lista de posicoes validas para uma jogada\n",
    "    \"\"\"\n",
    "    def getTodasJogadas(self, idx):\n",
    "        \n",
    "        #obtendo a peca que sera movimentada\n",
    "        ponto = self[idx]\n",
    "        \n",
    "        #se nao tiver ponto, vida que segue\n",
    "        if not ponto:\n",
    "            print(\"peca {} nao inicializada\".format(idx))\n",
    "            return None\n",
    "\n",
    "        #coletando e concatenando as jogadas\n",
    "        return [*self.getJogadasDiagonais(idx), *self.getJogadasObvias(idx)]\n",
    "    \n",
    "    \"\"\"\n",
    "    Metodo para calcular o peso de um tabuleiro\n",
    "    \n",
    "    @return peso: inteiro que representa quantas pecas podem ser eliminadas em um turno\n",
    "    \"\"\"\n",
    "    def calcularPeso(self):\n",
    "        \n",
    "        #peso do tabuleiro\n",
    "        peso = 0\n",
    "        \n",
    "        #conjunto de pecas nao verificadas\n",
    "        pecas_nao_verificadas = set(self.pos_damas.keys())\n",
    "        \n",
    "        #enquanto tiver pecas nao verificadas faca:\n",
    "        while pecas_nao_verificadas:\n",
    "            \n",
    "            #tirar uma peca arbitraria\n",
    "            peca = pecas_nao_verificadas.pop()\n",
    "            \n",
    "            #coletar todas as possiveis jogadas dela\n",
    "            casas_letais = self.getTodasJogadas(peca)\n",
    "            \n",
    "            #para as outras pecas\n",
    "            for chave, valor in self.pos_damas.items():\n",
    "                \n",
    "                #verificar se elas estao entre as possiveis jogadas\n",
    "                if valor in casas_letais:\n",
    "                    \n",
    "                    #incrementa o peso\n",
    "                    peso += 1\n",
    "                    \n",
    "                    #remover do conjunto de pecas nao verificadas \n",
    "                    pecas_nao_verificadas.remove(chave)\n",
    "        \n",
    "        return peso\n"
   ]
  },
  {
   "cell_type": "markdown",
   "metadata": {},
   "source": [
    "# Demonstração"
   ]
  },
  {
   "cell_type": "markdown",
   "metadata": {},
   "source": [
    "## Construção"
   ]
  },
  {
   "cell_type": "code",
   "execution_count": 138,
   "metadata": {},
   "outputs": [],
   "source": [
    "jogo = Jogo(3)"
   ]
  },
  {
   "cell_type": "markdown",
   "metadata": {},
   "source": [
    "## Inicialização de pecas na diagonal"
   ]
  },
  {
   "cell_type": "code",
   "execution_count": 139,
   "metadata": {},
   "outputs": [
    {
     "data": {
      "text/plain": [
       "{'DAMA 0': (0, 0), 'DAMA 1': (1, 1), 'DAMA 2': (2, 2)}"
      ]
     },
     "execution_count": 139,
     "metadata": {},
     "output_type": "execute_result"
    }
   ],
   "source": [
    "jogo.inicializarPecas()\n",
    "jogo.pos_damas"
   ]
  },
  {
   "cell_type": "markdown",
   "metadata": {},
   "source": [
    "## get's"
   ]
  },
  {
   "cell_type": "code",
   "execution_count": 144,
   "metadata": {},
   "outputs": [
    {
     "name": "stdout",
     "output_type": "stream",
     "text": [
      "4\n",
      "{'DAMA 0': (0, 0), 'DAMA 1': (1, 1), 'DAMA 2': (2, 2), 'DAMA 3': (3, 3)}\n",
      "{'DAMA 0': (0, 0), 'DAMA 1': (1, 1), 'DAMA 2': (2, 2), 'DAMA 3': (3, 3)}\n",
      "(0, 0)\n"
     ]
    }
   ],
   "source": [
    "print(jogo.dimensao)\n",
    "\n",
    "print(jogo.pos_damas)\n",
    "\n",
    "teste = jogo.pos_damas\n",
    "teste[44] = (1,2)\n",
    "\n",
    "print(jogo.pos_damas)\n",
    "\n",
    "print(jogo['DAMA 0'])"
   ]
  },
  {
   "cell_type": "markdown",
   "metadata": {},
   "source": [
    "## set's"
   ]
  },
  {
   "cell_type": "code",
   "execution_count": 145,
   "metadata": {},
   "outputs": [
    {
     "name": "stdout",
     "output_type": "stream",
     "text": [
      "{'DAMA 0': (0, 0), 'DAMA 1': (1, 1), 'DAMA 2': (2, 2), 'DAMA 3': (3, 3)}\n",
      "[1, 2, 3, 4, 5] nao aceito como pos_damas\n",
      "{1: (1, 1), 2: (0, 1)}\n",
      "4\n",
      "4\n"
     ]
    }
   ],
   "source": [
    "print(jogo.pos_damas)\n",
    "jogo.pos_damas = {1: (1,1)}\n",
    "\n",
    "jogo.pos_damas = [1,2,3,4,5]\n",
    "\n",
    "jogo[2] = (0,1)\n",
    "print(jogo.pos_damas)\n",
    "\n",
    "print(jogo.dimensao)\n",
    "jogo.dimensao = 4\n",
    "\n",
    "print(jogo.dimensao)\n",
    "jogo.inicializarPecas()"
   ]
  },
  {
   "cell_type": "markdown",
   "metadata": {},
   "source": [
    "## Jogadas"
   ]
  },
  {
   "cell_type": "code",
   "execution_count": 146,
   "metadata": {},
   "outputs": [
    {
     "data": {
      "text/plain": [
       "[(3, 3),\n",
       " (3, 1),\n",
       " (1, 1),\n",
       " (0, 0),\n",
       " (1, 3),\n",
       " (2, 3),\n",
       " (2, 1),\n",
       " (2, 0),\n",
       " (3, 2),\n",
       " (1, 2),\n",
       " (0, 2)]"
      ]
     },
     "execution_count": 146,
     "metadata": {},
     "output_type": "execute_result"
    }
   ],
   "source": [
    "jogo.getTodasJogadas('DAMA 2')"
   ]
  },
  {
   "cell_type": "markdown",
   "metadata": {},
   "source": [
    "## Peso"
   ]
  },
  {
   "cell_type": "code",
   "execution_count": 147,
   "metadata": {},
   "outputs": [
    {
     "data": {
      "text/plain": [
       "3"
      ]
     },
     "execution_count": 147,
     "metadata": {},
     "output_type": "execute_result"
    }
   ],
   "source": [
    "jogo.calcularPeso()"
   ]
  },
  {
   "cell_type": "code",
   "execution_count": null,
   "metadata": {},
   "outputs": [],
   "source": []
  }
 ],
 "metadata": {
  "kernelspec": {
   "display_name": "Python 3",
   "language": "python",
   "name": "python3"
  },
  "language_info": {
   "codemirror_mode": {
    "name": "ipython",
    "version": 3
   },
   "file_extension": ".py",
   "mimetype": "text/x-python",
   "name": "python",
   "nbconvert_exporter": "python",
   "pygments_lexer": "ipython3",
   "version": "3.7.2"
  }
 },
 "nbformat": 4,
 "nbformat_minor": 2
}
